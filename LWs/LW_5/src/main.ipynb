{
 "cells": [
  {
   "cell_type": "code",
   "execution_count": 1,
   "metadata": {
    "collapsed": false
   },
   "outputs": [
    {
     "name": "stdout",
     "output_type": "stream",
     "text": [
      "filenames\ntarget\ntarget_names\ndata\ndescription\nDESCR\n"
     ]
    }
   ],
   "source": [
    "from sklearn import datasets\n",
    "\n",
    "newsgroups = datasets.fetch_20newsgroups(subset='all')\n",
    "for label in newsgroups:\n",
    "    print(label)"
   ]
  },
  {
   "cell_type": "code",
   "execution_count": 2,
   "metadata": {},
   "outputs": [
    {
     "name": "stdout",
     "output_type": "stream",
     "text": [
      "alt.atheism\ncomp.graphics\ncomp.os.ms-windows.misc\ncomp.sys.ibm.pc.hardware\ncomp.sys.mac.hardware\ncomp.windows.x\nmisc.forsale\nrec.autos\nrec.motorcycles\nrec.sport.baseball\nrec.sport.hockey\nsci.crypt\nsci.electronics\nsci.med\nsci.space\nsoc.religion.christian\ntalk.politics.guns\ntalk.politics.mideast\ntalk.politics.misc\ntalk.religion.misc\n"
     ]
    }
   ],
   "source": [
    "for column in newsgroups.target_names:\n",
    "    print(column)"
   ]
  },
  {
   "cell_type": "code",
   "execution_count": 3,
   "metadata": {},
   "outputs": [],
   "source": [
    "newsgroups = datasets.fetch_20newsgroups(subset=\"all\", categories=[\"sci.med\", \"rec.autos\"])\n",
    "X = newsgroups.data\n",
    "Y = newsgroups.target"
   ]
  },
  {
   "cell_type": "code",
   "execution_count": 4,
   "metadata": {},
   "outputs": [
    {
     "name": "stdout",
     "output_type": "stream",
     "text": [
      "From: jeffs@sr.hp.com (Jeff Silva)\nSubject: Re: HELP for Kidney Stones ..............\nOrganization: HP Sonoma County (SRSD/MWTD/MID)\nLines: 29\nX-Newsreader: TIN [version 1.1.9 PL6]\n\npk115050@wvnvms.wvnet.edu wrote:\n: My girlfriend is in pain from kidney stones. She says that because she has no\n: medical insurance, she cannot get them removed.\n: \n: My question: Is there any way she can treat them herself, or at least mitigate\n: their effects? Any help is deeply appreciated. (Advice, referral to literature,\n: etc...)\n: \n: Thank you,\n: \n: Dave Carvell\n: pk115050@wvnvms.wvnet.edu\n\nFirst off, I would consider the severity of the pain. I had stones\nseveral years ago, and there's now way I could have made it without\nheavy duty doses of morphine and demerol and a two week stay in the\nhospital. I was told that there was nothing that I could take that would\ndissolve them. If the stones are passible, the best thing she could do\nis drink LOTS of water, and hope that they pass, but every time they\nmove a little, the pain will be excrutiating. I was told by my doctor\nat that time that the pain was comparable to that of childbirth. (Yes,\nby a male doctor, so I'm sure some of you women will disagree). I'd\nreally like to know the truth in this, so maybe some of you women who\nhave had a baby and a kidney stone could fill me in. \n--\n\nJeff Silva\n(707) 577-2681\njeffs@sr.hp.com\n\n===========================================\n1\n\n\nFrom: daniel@siemens.com. (Daniel L. Theivanayagam)\nSubject: USMLE (formerly National Boards) Part 1- Request to Medical Students\nSummary: request for books\nKeywords: USMLE, National Boards, NBME\nNntp-Posting-Host: learning.siemens.com\nOrganization: Siemens Corporate Research, Princeton (Plainsboro), NJ\nDistribution: usa\nLines: 33\n\nThis request goes out to medical students who have done\nor are planning to sit the USMLE (or National Boards) Part 1.\n\nMy wife is sitting this examination in early June this year and would\nlike to have a look at some old National Boards, Part 1 questions\nfound in the following books. These books are currently out of print.\n \n\nThe books are:\n\n(1) Retired NBME Basic Medical Science Test Items, NBME;\n    Published by NBME in 1991\n\n(2) Self-test in the Part 1 Basic Medical Sciences, NBME;\n    Published by NBME in 1989\n\nI would appreciate if anyone who has these books is willing\nto loan it to her for a couple of days. Obviously, I would\nreimburse for you all postage and related charges. Failing\nthat it would be beneficial if anyone could point to any\nlibrary in the NY, NJ or PA area that may have these books.\n\nPlease respond by e-mail since I do not read this newsgroup\nregularly.\n\nThanks in advance.\n\n\nDaniel\n\n\ne-mail: daniel@learning.siemens.com\n\n\n===========================================\n1\n\n\nFrom: jimf@centerline.com (Jim Frost)\nSubject: Re: Too fast\nOrganization: CenterLine Software, Inc.\nLines: 36\nDistribution: world\nNNTP-Posting-Host: 140.239.3.202\n\nboyle@cactus.org (Craig Boyle) writes:\n>The quality of autobahns is something of a myth. The road surface\n>isn't much different to a typical TX freeway. They are better\n>in terms of lighting, safety, signs, roadmarkings etc.\n\nThey light the highways in Texas?  Funny, everywhere else I've been\nthey only light 'em at junctions.\n\nI won't even get into how much road markings vary between states and\nlocalities except to say that there are some areas where markings are\nessentially nonexistant.\n\n>>than most of the roads here. A dip in the asphalt that you test your\n>>shocks on at 60 will kill you at 130. Don't get me wrong, I love to\n\n>It would have to be quite severe. I don't recall any US freeway,\n>without road damage warnings, that i would regard as unsafe\n>at 130 in any decent, well damped car.\n\nI suspect you have very limited experience -- US freeways vary\ndramatically, particularly between states.  I can name a number of\ninterstate highways in various parts of the country where 130 would be\nvery optimistic in any car.\n\nI'm not sure what you call \"quite severe\" in terms of road deviations\nbut I suspect every single bridge junction on I84 through CT would be\nconsidered so.  They're hard to take at 85mph.  That's not the only\ninterstate I've seen with such deviations, but it's one I drive\nfrequently.\n\nTexas is pretty much an edge-case -- you can't assume that everywhere\nhas roads in such good condition, such flat terrain, and such\nwide-open spaces.  It just ain't so.\n\njim frost\njimf@centerline.com\n\n===========================================\n0\n\n\nFrom: aldridge@netcom.com (Jacquelin Aldridge)\nSubject: Re: Candida(yeast) Bloom, Fact or Fiction\nOrganization: NETCOM On-line Communication Services (408 241-9760 guest)\nLines: 52\n\nrind@enterprise.bih.harvard.edu (David Rind) writes:\n\n>In article <1993Apr22.153000.1@vms.ocom.okstate.edu>\n> banschbach@vms.ocom.okstate.edu writes:\n>>poster for being treated by a liscenced physician for a disease that did \n>>not exist.  Calling this physician a quack was reprehensible Steve and I \n>>see that you and some of the others are doing it here as well.  \n\n>Do you believe that any quacks exist?  How about quack diagnoses?  Is\n>being a \"licensed physician\" enough to guarantee that someone is not\n>a quack, or is it just that even if a licensed physician is a quack,\n>other people shouldn't say so?  Can you give an example of a\n>commonly diagnosed ailment that you think is a quack diagnosis,\n>or have we gotten to the point in civilization where we no longer\n>need to worry about unscrupulous \"healers\" taking advantage of\n>people.\n>-- \n>David Rind\n\nSure there are quacks. There are quacks who don't treat and quacks who\ntreat. One's that refuse to diagnose and ones that diagnose improperly. \nThere are lucky quacks and unlucky quacks. Smart quacks and dumb ones. \n\nThere are people ahead of their time, with unprobable or unproven theories\nand rationals. There are ill-reasoned, absurd, theorists. \n\nSometimes it's hard to tell who's who.  \n\nReading a book of ancient jokes it seems that doctors called other doctors\nquacks in Babylon. \n\nArguments abound when there aren't any firm answers. Plenty of illnesses\naren't, or can't, be diagnosed or treated. But I think it's better to argue\nagainst the theory, as was originally done with postings on candida a month\nor so ago. Stating the facts usually works better than simply asserting an\nopinion about someone's competency. And you can't convince everybody. \n\nSometimes a correct diagnosis\ntakes years for people: they don't run into a doctor who recognizes the\ndisease, they haven't developed something recognizable yet, or they have\nsomething that no one is going to recognize, because it hasn't been\ndescribed yet. Sometimes they get a cure, sometimes the illness wears out,\nsometimes they stumble on an improper diagnosis with the right treatment,\nsometimes they find it's incurable.  \n\nThere is no profit in a patient accepting a hopeless attitude about an \nillness. Unless it's a rock solid diagnosis of terminal disease it's is\nmore like ly that a person will find a cure if they keep looking. \n\n-Jackie-\n\n\n\n===========================================\n1\n\n\n"
     ]
    }
   ],
   "source": [
    "\"\"\"\n",
    "Data examples\n",
    "0 = auto\n",
    "1 = med\n",
    "\"\"\"\n",
    "\n",
    "for i in range(0, 1000, 333):\n",
    "    print(X[i], Y[i], sep=\"\\n===========================================\\n\", end=\"\\n\\n\\n\")"
   ]
  },
  {
   "cell_type": "code",
   "execution_count": 5,
   "metadata": {},
   "outputs": [
    {
     "data": {
      "text/plain": [
       "<1980x30074 sparse matrix of type '<class 'numpy.float64'>'\n\twith 298429 stored elements in Compressed Sparse Row format>"
      ]
     },
     "execution_count": 5,
     "metadata": {},
     "output_type": "execute_result"
    }
   ],
   "source": [
    "from sklearn.feature_extraction.text import TfidfVectorizer\n",
    "\n",
    "vectorizer = TfidfVectorizer()\n",
    "encX = vectorizer.fit_transform(X)"
   ]
  },
  {
   "cell_type": "code",
   "execution_count": 7,
   "metadata": {},
   "outputs": [],
   "source": [
    "from sklearn import grid_search\n",
    "from sklearn.cross_validation import KFold\n",
    "from sklearn.svm import SVC\n",
    "import numpy as np\n",
    "\n",
    "grid = {'C': np.power(10.0, np.arange(-5, 6))}\n",
    "cv = KFold(Y.size, n_folds=5, shuffle=True, random_state=241)\n",
    "model = SVC(kernel='linear', random_state=241)\n",
    "gs = grid_search.GridSearchCV(model, grid, scoring='accuracy', cv=cv)\n",
    "gs.fit(vectorizer.transform(X), Y)\n",
    "\n",
    "score = 0\n",
    "C = 0\n",
    "for attempt in gs.grid_scores_:\n",
    "    if attempt.mean_validation_score > score:\n",
    "        score = attempt.mean_validation_score\n",
    "C = attempt.parameters['C']"
   ]
  },
  {
   "cell_type": "code",
   "execution_count": 9,
   "metadata": {},
   "outputs": [
    {
     "data": {
      "text/plain": [
       "SVC(C=100000.0, cache_size=200, class_weight=None, coef0=0.0,\n  decision_function_shape='ovr', degree=3, gamma='auto', kernel='linear',\n  max_iter=-1, probability=False, random_state=241, shrinking=True,\n  tol=0.001, verbose=False)"
      ]
     },
     "execution_count": 9,
     "metadata": {},
     "output_type": "execute_result"
    }
   ],
   "source": [
    "model = SVC(kernel='linear', random_state=241, C=C)\n",
    "model.fit(vectorizer.transform(X), Y)"
   ]
  },
  {
   "cell_type": "code",
   "execution_count": 10,
   "metadata": {},
   "outputs": [
    {
     "name": "stdout",
     "output_type": "stream",
     "text": [
      "car\ncars\ndoctor\nof\nbmw\noil\nford\nhealth\ninformation\ndealer\n"
     ]
    }
   ],
   "source": [
    "import pandas\n",
    "\n",
    "words = vectorizer.get_feature_names()\n",
    "coef = pandas.DataFrame(model.coef_.data, model.coef_.indices)\n",
    "top_words = coef[0].map(lambda w: abs(w)).sort_values(ascending=False).head(10).index.map(lambda i: words[i])\n",
    "for word in top_words:\n",
    "    print(word)\n"
   ]
  },
  {
   "cell_type": "code",
   "execution_count": null,
   "metadata": {},
   "outputs": [],
   "source": []
  }
 ],
 "metadata": {
  "kernelspec": {
   "display_name": "Python 2",
   "language": "python",
   "name": "python2"
  },
  "language_info": {
   "codemirror_mode": {
    "name": "ipython",
    "version": 2
   },
   "file_extension": ".py",
   "mimetype": "text/x-python",
   "name": "python",
   "nbconvert_exporter": "python",
   "pygments_lexer": "ipython2",
   "version": "2.7.6"
  }
 },
 "nbformat": 4,
 "nbformat_minor": 0
}
