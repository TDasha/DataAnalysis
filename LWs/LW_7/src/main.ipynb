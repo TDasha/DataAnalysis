{
 "cells": [
  {
   "cell_type": "code",
   "execution_count": 1,
   "metadata": {
    "collapsed": false
   },
   "outputs": [
    {
     "name": "stderr",
     "output_type": "stream",
     "text": [
      "/usr/local/lib/python3.5/dist-packages/sklearn/cross_validation.py:41: DeprecationWarning: This module was deprecated in version 0.18 in favor of the model_selection module into which all the refactored classes and functions are moved. Also note that the interface of the new CV iterators are different from that of this module. This module will be removed in 0.20.\n  \"This module will be removed in 0.20.\", DeprecationWarning)\n"
     ]
    }
   ],
   "source": [
    "from os import getcwd\n",
    "import pandas\n",
    "import math\n",
    "from sklearn.cross_validation import train_test_split\n",
    "from sklearn.ensemble import GradientBoostingClassifier, RandomForestClassifier\n",
    "from sklearn.metrics import log_loss\n",
    "import matplotlib.pyplot as plt\n",
    "\n",
    "# 1.\n",
    "\n",
    "df = pandas.read_csv(getcwd() + \"/LWs/LW_7/data/gbm-data.csv\")\n",
    "y = df['Activity'].values\n",
    "X = df.loc[:, 'D1':'D1776'].values\n",
    "\n",
    "X_train, X_test, y_train, y_test = train_test_split(X, y, test_size=0.8, random_state=241)"
   ]
  },
  {
   "cell_type": "code",
   "execution_count": 28,
   "metadata": {},
   "outputs": [
    {
     "name": "stdout",
     "output_type": "stream",
     "text": [
      "learning rate 1\n\n\n      Iter       Train Loss   Remaining Time \n         1           1.0190           16.79s\n"
     ]
    },
    {
     "name": "stdout",
     "output_type": "stream",
     "text": [
      "         2           0.9192           17.48s\n         3           0.8272           17.23s\n         4           0.7834           17.26s\n"
     ]
    },
    {
     "name": "stdout",
     "output_type": "stream",
     "text": [
      "         5           0.7109           17.10s\n         6           0.6368           18.28s\n"
     ]
    },
    {
     "name": "stdout",
     "output_type": "stream",
     "text": [
      "         7           0.5797           19.15s\n         8           0.5610           19.69s\n         9           0.5185           19.41s\n"
     ]
    },
    {
     "name": "stdout",
     "output_type": "stream",
     "text": [
      "        10           0.4984           19.33s\n"
     ]
    },
    {
     "name": "stdout",
     "output_type": "stream",
     "text": [
      "        20           0.1999           16.69s\n"
     ]
    },
    {
     "name": "stdout",
     "output_type": "stream",
     "text": [
      "        30           0.1313           15.34s\n"
     ]
    },
    {
     "name": "stdout",
     "output_type": "stream",
     "text": [
      "        40           0.0790           13.54s\n"
     ]
    },
    {
     "name": "stdout",
     "output_type": "stream",
     "text": [
      "        50           0.0511           12.30s\n"
     ]
    },
    {
     "name": "stdout",
     "output_type": "stream",
     "text": [
      "        60           0.0352           11.53s\n"
     ]
    },
    {
     "name": "stdout",
     "output_type": "stream",
     "text": [
      "        70           0.0245           10.93s\n"
     ]
    },
    {
     "name": "stdout",
     "output_type": "stream",
     "text": [
      "        80           0.0162           10.13s\n"
     ]
    },
    {
     "name": "stdout",
     "output_type": "stream",
     "text": [
      "        90           0.0114            9.40s\n"
     ]
    },
    {
     "name": "stdout",
     "output_type": "stream",
     "text": [
      "       100           0.0077            8.70s\n"
     ]
    },
    {
     "name": "stdout",
     "output_type": "stream",
     "text": [
      "       200           0.0004            2.45s\n"
     ]
    },
    {
     "name": "stdout",
     "output_type": "stream",
     "text": [
      "learning rate 0.5\n\n\n      Iter       Train Loss   Remaining Time \n"
     ]
    },
    {
     "name": "stdout",
     "output_type": "stream",
     "text": [
      "         1           1.1255           33.19s\n         2           1.0035           29.17s\n"
     ]
    },
    {
     "name": "stdout",
     "output_type": "stream",
     "text": [
      "         3           0.9386           27.84s\n         4           0.8844           25.50s\n         5           0.8381           23.49s\n         6           0.7995           21.79s\n"
     ]
    },
    {
     "name": "stdout",
     "output_type": "stream",
     "text": [
      "         7           0.7559           21.16s\n         8           0.7205           20.61s\n         9           0.6958           19.69s\n        10           0.6725           18.88s\n"
     ]
    },
    {
     "name": "stdout",
     "output_type": "stream",
     "text": [
      "        20           0.4672           14.87s\n"
     ]
    },
    {
     "name": "stdout",
     "output_type": "stream",
     "text": [
      "        30           0.3179           13.18s\n"
     ]
    },
    {
     "name": "stdout",
     "output_type": "stream",
     "text": [
      "        40           0.2274           12.10s\n"
     ]
    },
    {
     "name": "stdout",
     "output_type": "stream",
     "text": [
      "        50           0.1774           11.28s\n"
     ]
    },
    {
     "name": "stdout",
     "output_type": "stream",
     "text": [
      "        60           0.1394           10.74s\n"
     ]
    },
    {
     "name": "stdout",
     "output_type": "stream",
     "text": [
      "        70           0.1050           10.08s\n"
     ]
    },
    {
     "name": "stdout",
     "output_type": "stream",
     "text": [
      "        80           0.0805            9.48s\n"
     ]
    },
    {
     "name": "stdout",
     "output_type": "stream",
     "text": [
      "        90           0.0650            8.82s\n"
     ]
    },
    {
     "name": "stdout",
     "output_type": "stream",
     "text": [
      "       100           0.0511            8.25s\n"
     ]
    },
    {
     "name": "stdout",
     "output_type": "stream",
     "text": [
      "       200           0.0058            2.63s\n"
     ]
    },
    {
     "name": "stdout",
     "output_type": "stream",
     "text": [
      "learning rate 0.3\n\n\n      Iter       Train Loss   Remaining Time \n         1           1.2095           18.54s\n"
     ]
    },
    {
     "name": "stdout",
     "output_type": "stream",
     "text": [
      "         2           1.1006           20.14s\n         3           1.0240           19.90s\n         4           0.9729           18.66s\n         5           0.9387           17.40s\n"
     ]
    },
    {
     "name": "stdout",
     "output_type": "stream",
     "text": [
      "         6           0.8948           18.00s\n         7           0.8621           17.35s\n         8           0.8360           16.67s\n         9           0.8171           16.18s\n"
     ]
    },
    {
     "name": "stdout",
     "output_type": "stream",
     "text": [
      "        10           0.7883           15.82s\n"
     ]
    },
    {
     "name": "stdout",
     "output_type": "stream",
     "text": [
      "        20           0.6164           13.56s\n"
     ]
    },
    {
     "name": "stdout",
     "output_type": "stream",
     "text": [
      "        30           0.4933           12.64s\n"
     ]
    },
    {
     "name": "stdout",
     "output_type": "stream",
     "text": [
      "        40           0.4248           11.88s\n"
     ]
    },
    {
     "name": "stdout",
     "output_type": "stream",
     "text": [
      "        50           0.3345           11.25s\n"
     ]
    },
    {
     "name": "stdout",
     "output_type": "stream",
     "text": [
      "        60           0.2760           10.90s\n"
     ]
    },
    {
     "name": "stdout",
     "output_type": "stream",
     "text": [
      "        70           0.2263           10.41s\n"
     ]
    },
    {
     "name": "stdout",
     "output_type": "stream",
     "text": [
      "        80           0.1971            9.69s\n"
     ]
    },
    {
     "name": "stdout",
     "output_type": "stream",
     "text": [
      "        90           0.1693            8.99s\n"
     ]
    },
    {
     "name": "stdout",
     "output_type": "stream",
     "text": [
      "       100           0.1388            8.37s\n"
     ]
    },
    {
     "name": "stdout",
     "output_type": "stream",
     "text": [
      "       200           0.0294            2.70s\n"
     ]
    },
    {
     "name": "stdout",
     "output_type": "stream",
     "text": [
      "learning rate 0.2\n\n\n      Iter       Train Loss   Remaining Time \n"
     ]
    },
    {
     "name": "stdout",
     "output_type": "stream",
     "text": [
      "         1           1.2613           34.81s\n         2           1.1715           33.03s\n"
     ]
    },
    {
     "name": "stdout",
     "output_type": "stream",
     "text": [
      "         3           1.1009           29.23s\n         4           1.0529           28.14s\n         5           1.0130           27.01s\n"
     ]
    },
    {
     "name": "stdout",
     "output_type": "stream",
     "text": [
      "         6           0.9740           26.09s\n         7           0.9475           25.29s\n"
     ]
    },
    {
     "name": "stdout",
     "output_type": "stream",
     "text": [
      "         8           0.9197           26.02s\n         9           0.8979           25.93s\n"
     ]
    },
    {
     "name": "stdout",
     "output_type": "stream",
     "text": [
      "        10           0.8730           26.31s\n"
     ]
    },
    {
     "name": "stdout",
     "output_type": "stream",
     "text": [
      "        20           0.7207           23.77s\n"
     ]
    },
    {
     "name": "stdout",
     "output_type": "stream",
     "text": [
      "        30           0.6055           20.64s\n"
     ]
    },
    {
     "name": "stdout",
     "output_type": "stream",
     "text": [
      "        40           0.5244           18.25s\n"
     ]
    },
    {
     "name": "stdout",
     "output_type": "stream",
     "text": [
      "        50           0.4501           16.42s\n"
     ]
    },
    {
     "name": "stdout",
     "output_type": "stream",
     "text": [
      "        60           0.3908           15.02s\n"
     ]
    },
    {
     "name": "stdout",
     "output_type": "stream",
     "text": [
      "        70           0.3372           14.07s\n"
     ]
    },
    {
     "name": "stdout",
     "output_type": "stream",
     "text": [
      "        80           0.3009           13.25s\n"
     ]
    },
    {
     "name": "stdout",
     "output_type": "stream",
     "text": [
      "        90           0.2603           12.27s\n"
     ]
    },
    {
     "name": "stdout",
     "output_type": "stream",
     "text": [
      "       100           0.2327           11.75s\n"
     ]
    },
    {
     "name": "stdout",
     "output_type": "stream",
     "text": [
      "       200           0.0835            3.78s\n"
     ]
    },
    {
     "name": "stdout",
     "output_type": "stream",
     "text": [
      "learning rate 0.1\n\n\n      Iter       Train Loss   Remaining Time \n         1           1.3199           25.49s\n"
     ]
    },
    {
     "name": "stdout",
     "output_type": "stream",
     "text": [
      "         2           1.2645           24.78s\n         3           1.2170           22.90s\n         4           1.1775           21.66s\n"
     ]
    },
    {
     "name": "stdout",
     "output_type": "stream",
     "text": [
      "         5           1.1404           21.21s\n         6           1.1106           21.36s\n         7           1.0844           21.14s\n"
     ]
    },
    {
     "name": "stdout",
     "output_type": "stream",
     "text": [
      "         8           1.0617           21.09s\n         9           1.0411           20.83s\n        10           1.0223           20.40s\n"
     ]
    },
    {
     "name": "stdout",
     "output_type": "stream",
     "text": [
      "        20           0.8864           17.66s\n"
     ]
    },
    {
     "name": "stdout",
     "output_type": "stream",
     "text": [
      "        30           0.7844           15.68s\n"
     ]
    },
    {
     "name": "stdout",
     "output_type": "stream",
     "text": [
      "        40           0.7176           14.36s\n"
     ]
    },
    {
     "name": "stdout",
     "output_type": "stream",
     "text": [
      "        50           0.6590           13.24s\n"
     ]
    },
    {
     "name": "stdout",
     "output_type": "stream",
     "text": [
      "        60           0.6120           12.48s\n"
     ]
    },
    {
     "name": "stdout",
     "output_type": "stream",
     "text": [
      "        70           0.5599           11.69s\n"
     ]
    },
    {
     "name": "stdout",
     "output_type": "stream",
     "text": [
      "        80           0.5242           10.92s\n"
     ]
    },
    {
     "name": "stdout",
     "output_type": "stream",
     "text": [
      "        90           0.4829           10.21s\n"
     ]
    },
    {
     "name": "stdout",
     "output_type": "stream",
     "text": [
      "       100           0.4473            9.65s\n"
     ]
    },
    {
     "name": "stdout",
     "output_type": "stream",
     "text": [
      "       200           0.2379            3.12s\n"
     ]
    }
   ],
   "source": [
    "# 2.\n",
    "\n",
    "def sigmoid(y_pred):\n",
    "    return 1.0 / (1.0 + math.exp(-y_pred))\n",
    "\n",
    "def log_loss_results(model, X, y):\n",
    "    results = []\n",
    "    for pred in model.staged_decision_function(X):\n",
    "        results.append(log_loss(y, [sigmoid(y_pred) for y_pred in pred]))\n",
    "    return results\n",
    "\n",
    "def plot_loss(learning_rate, test_loss, train_loss):\n",
    "    plt.figure()\n",
    "    plt.plot(test_loss, 'm', linewidth=2)\n",
    "    plt.plot(train_loss, 'c', linewidth=2)\n",
    "    plt.xlabel(\"iterations\")\n",
    "    plt.ylabel(\"loss\")\n",
    "    plt.legend(['test', 'train'])\n",
    "    plt.title(\"learning rate  \" + str(learning_rate))\n",
    "    plt.savefig(getcwd() + '/LWs/LW_7/plots/' + str(learning_rate) + '.png')\n",
    "    plt.show()\n",
    "    min_loss_value = min(test_loss)\n",
    "    min_loss_index = test_loss.index(min_loss_value)\n",
    "    return min_loss_value, min_loss_index\n",
    "\n",
    "\n",
    "def model_test(learning_rate):\n",
    "    model = GradientBoostingClassifier(learning_rate=learning_rate, n_estimators=250,\n",
    "                                       verbose=True, random_state=241)\n",
    "    model.fit(X_train, y_train)\n",
    "    train_loss = log_loss_results(model, X_train, y_train)\n",
    "    test_loss = log_loss_results(model, X_test, y_test)\n",
    "    return plot_loss(learning_rate, test_loss, train_loss)\n",
    "\n",
    "min_loss_results = {}\n",
    "for learning_rate in [1, 0.5, 0.3, 0.2, 0.1]:\n",
    "    print(\"learning rate \" + str(learning_rate), end=\"\\n\\n\\n\")\n",
    "    min_loss_results[learning_rate] = model_test(learning_rate)"
   ]
  },
  {
   "cell_type": "code",
   "execution_count": 29,
   "metadata": {},
   "outputs": [],
   "source": [
    "# 3. Переобучение. Для лучшего рез-тата необходимо сокращать число итераций (Искл. : learning rate 0.001)"
   ]
  },
  {
   "cell_type": "code",
   "execution_count": 30,
   "metadata": {},
   "outputs": [
    {
     "name": "stdout",
     "output_type": "stream",
     "text": [
      "loss index: 36, loss value: 0.53\n"
     ]
    }
   ],
   "source": [
    "# 4.\n",
    "\n",
    "min_loss_value, min_loss_index = min_loss_results[0.2]\n",
    "print('loss index: {}, loss value: {:0.2f}'.format(min_loss_index, min_loss_value))"
   ]
  },
  {
   "cell_type": "code",
   "execution_count": 31,
   "metadata": {},
   "outputs": [
    {
     "name": "stdout",
     "output_type": "stream",
     "text": [
      "test loss:\t0.5413812861804069\n"
     ]
    }
   ],
   "source": [
    "# 5.\n",
    "\n",
    "model = RandomForestClassifier(n_estimators=min_loss_index, random_state=241)\n",
    "model.fit(X_train, y_train)\n",
    "y_pred = model.predict_proba(X_test)[:, 1]\n",
    "test_loss = log_loss(y_test, y_pred)\n",
    "print(\"test loss:\", test_loss, sep=\"\\t\")"
   ]
  },
  {
   "cell_type": "code",
   "execution_count": null,
   "metadata": {},
   "outputs": [],
   "source": []
  }
 ],
 "metadata": {
  "kernelspec": {
   "display_name": "Python 2",
   "language": "python",
   "name": "python2"
  },
  "language_info": {
   "codemirror_mode": {
    "name": "ipython",
    "version": 2
   },
   "file_extension": ".py",
   "mimetype": "text/x-python",
   "name": "python",
   "nbconvert_exporter": "python",
   "pygments_lexer": "ipython2",
   "version": "2.7.6"
  }
 },
 "nbformat": 4,
 "nbformat_minor": 0
}
