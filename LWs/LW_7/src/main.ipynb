{
 "cells": [
  {
   "cell_type": "code",
   "execution_count": 1,
   "metadata": {
    "collapsed": false
   },
   "outputs": [
    {
     "name": "stderr",
     "output_type": "stream",
     "text": [
      "/usr/local/lib/python3.5/dist-packages/sklearn/cross_validation.py:41: DeprecationWarning: This module was deprecated in version 0.18 in favor of the model_selection module into which all the refactored classes and functions are moved. Also note that the interface of the new CV iterators are different from that of this module. This module will be removed in 0.20.\n  \"This module will be removed in 0.20.\", DeprecationWarning)\n"
     ]
    }
   ],
   "source": [
    "from os import getcwd\n",
    "import pandas\n",
    "import math\n",
    "from sklearn.cross_validation import train_test_split\n",
    "from sklearn.ensemble import GradientBoostingClassifier, RandomForestClassifier\n",
    "from sklearn.metrics import log_loss\n",
    "import matplotlib.pyplot as plt\n",
    "\n",
    "# 1.\n",
    "\n",
    "df = pandas.read_csv(getcwd() + \"/LWs/LW_7/data/gbm-data.csv\")\n",
    "y = df['Activity'].values\n",
    "X = df.loc[:, 'D1':'D1776'].values\n",
    "\n",
    "X_train, X_test, y_train, y_test = train_test_split(X, y, test_size=0.8, random_state=241)"
   ]
  },
  {
   "cell_type": "code",
   "execution_count": 2,
   "metadata": {},
   "outputs": [
    {
     "name": "stdout",
     "output_type": "stream",
     "text": [
      "learning rate 1\n\n\n      Iter       Train Loss   Remaining Time \n         1           1.0190           20.15s\n"
     ]
    },
    {
     "name": "stdout",
     "output_type": "stream",
     "text": [
      "         2           0.9192           18.23s\n         3           0.8272           18.87s\n         4           0.7834           20.13s\n"
     ]
    },
    {
     "name": "stdout",
     "output_type": "stream",
     "text": [
      "         5           0.7109           22.48s\n         6           0.6368           24.43s\n"
     ]
    },
    {
     "name": "stdout",
     "output_type": "stream",
     "text": [
      "         7           0.5797           25.58s\n         8           0.5610           25.69s\n"
     ]
    },
    {
     "name": "stdout",
     "output_type": "stream",
     "text": [
      "         9           0.5185           25.81s\n        10           0.4984           25.63s\n"
     ]
    },
    {
     "name": "stdout",
     "output_type": "stream",
     "text": [
      "        20           0.1999           24.99s\n"
     ]
    },
    {
     "name": "stdout",
     "output_type": "stream",
     "text": [
      "        30           0.1313           20.78s\n"
     ]
    },
    {
     "name": "stdout",
     "output_type": "stream",
     "text": [
      "        40           0.0790           17.61s\n"
     ]
    },
    {
     "name": "stdout",
     "output_type": "stream",
     "text": [
      "        50           0.0511           15.46s\n"
     ]
    },
    {
     "name": "stdout",
     "output_type": "stream",
     "text": [
      "        60           0.0352           13.92s\n"
     ]
    },
    {
     "name": "stdout",
     "output_type": "stream",
     "text": [
      "        70           0.0245           12.52s\n"
     ]
    },
    {
     "name": "stdout",
     "output_type": "stream",
     "text": [
      "        80           0.0162           11.49s\n"
     ]
    },
    {
     "name": "stdout",
     "output_type": "stream",
     "text": [
      "        90           0.0114           10.43s\n"
     ]
    },
    {
     "name": "stdout",
     "output_type": "stream",
     "text": [
      "       100           0.0077            9.60s\n"
     ]
    },
    {
     "name": "stdout",
     "output_type": "stream",
     "text": [
      "       200           0.0004            2.51s\n"
     ]
    },
    {
     "name": "stdout",
     "output_type": "stream",
     "text": [
      "learning rate 0.5\n\n\n      Iter       Train Loss   Remaining Time \n         1           1.1255           16.33s\n"
     ]
    },
    {
     "name": "stdout",
     "output_type": "stream",
     "text": [
      "         2           1.0035           20.55s\n         3           0.9386           21.24s\n         4           0.8844           18.82s\n"
     ]
    },
    {
     "name": "stdout",
     "output_type": "stream",
     "text": [
      "         5           0.8381           19.66s\n         6           0.7995           20.21s\n         7           0.7559           20.44s\n"
     ]
    },
    {
     "name": "stdout",
     "output_type": "stream",
     "text": [
      "         8           0.7205           20.66s\n         9           0.6958           20.67s\n        10           0.6725           20.56s\n"
     ]
    },
    {
     "name": "stdout",
     "output_type": "stream",
     "text": [
      "        20           0.4672           20.47s\n"
     ]
    },
    {
     "name": "stdout",
     "output_type": "stream",
     "text": [
      "        30           0.3179           17.93s\n"
     ]
    },
    {
     "name": "stdout",
     "output_type": "stream",
     "text": [
      "        40           0.2274           16.35s\n"
     ]
    },
    {
     "name": "stdout",
     "output_type": "stream",
     "text": [
      "        50           0.1774           14.32s\n"
     ]
    },
    {
     "name": "stdout",
     "output_type": "stream",
     "text": [
      "        60           0.1394           12.88s\n"
     ]
    },
    {
     "name": "stdout",
     "output_type": "stream",
     "text": [
      "        70           0.1050           11.69s\n"
     ]
    },
    {
     "name": "stdout",
     "output_type": "stream",
     "text": [
      "        80           0.0805           10.63s\n"
     ]
    },
    {
     "name": "stdout",
     "output_type": "stream",
     "text": [
      "        90           0.0650            9.68s\n"
     ]
    },
    {
     "name": "stdout",
     "output_type": "stream",
     "text": [
      "       100           0.0511            8.86s\n"
     ]
    },
    {
     "name": "stdout",
     "output_type": "stream",
     "text": [
      "       200           0.0058            2.57s\n"
     ]
    },
    {
     "name": "stdout",
     "output_type": "stream",
     "text": [
      "learning rate 0.3\n\n\n      Iter       Train Loss   Remaining Time \n         1           1.2095           25.74s\n"
     ]
    },
    {
     "name": "stdout",
     "output_type": "stream",
     "text": [
      "         2           1.1006           25.00s\n         3           1.0240           25.89s\n         4           0.9729           23.97s\n"
     ]
    },
    {
     "name": "stdout",
     "output_type": "stream",
     "text": [
      "         5           0.9387           22.75s\n         6           0.8948           23.06s\n         7           0.8621           21.68s\n"
     ]
    },
    {
     "name": "stdout",
     "output_type": "stream",
     "text": [
      "         8           0.8360           20.27s\n         9           0.8171           19.38s\n        10           0.7883           18.44s\n"
     ]
    },
    {
     "name": "stdout",
     "output_type": "stream",
     "text": [
      "        20           0.6164           14.11s\n"
     ]
    },
    {
     "name": "stdout",
     "output_type": "stream",
     "text": [
      "        30           0.4933           12.52s\n"
     ]
    },
    {
     "name": "stdout",
     "output_type": "stream",
     "text": [
      "        40           0.4248           11.41s\n"
     ]
    },
    {
     "name": "stdout",
     "output_type": "stream",
     "text": [
      "        50           0.3345           10.62s\n"
     ]
    },
    {
     "name": "stdout",
     "output_type": "stream",
     "text": [
      "        60           0.2760            9.86s\n"
     ]
    },
    {
     "name": "stdout",
     "output_type": "stream",
     "text": [
      "        70           0.2263            9.24s\n"
     ]
    },
    {
     "name": "stdout",
     "output_type": "stream",
     "text": [
      "        80           0.1971            8.58s\n"
     ]
    },
    {
     "name": "stdout",
     "output_type": "stream",
     "text": [
      "        90           0.1693            8.06s\n"
     ]
    },
    {
     "name": "stdout",
     "output_type": "stream",
     "text": [
      "       100           0.1388            7.57s\n"
     ]
    },
    {
     "name": "stdout",
     "output_type": "stream",
     "text": [
      "       200           0.0294            2.41s\n"
     ]
    },
    {
     "name": "stdout",
     "output_type": "stream",
     "text": [
      "learning rate 0.2\n\n\n      Iter       Train Loss   Remaining Time \n         1           1.2613           19.68s\n"
     ]
    },
    {
     "name": "stdout",
     "output_type": "stream",
     "text": [
      "         2           1.1715           21.61s\n         3           1.1009           21.58s\n         4           1.0529           20.44s\n"
     ]
    },
    {
     "name": "stdout",
     "output_type": "stream",
     "text": [
      "         5           1.0130           20.05s\n         6           0.9740           19.50s\n         7           0.9475           18.13s\n         8           0.9197           17.47s\n"
     ]
    },
    {
     "name": "stdout",
     "output_type": "stream",
     "text": [
      "         9           0.8979           16.79s\n        10           0.8730           16.82s\n"
     ]
    },
    {
     "name": "stdout",
     "output_type": "stream",
     "text": [
      "        20           0.7207           13.74s\n"
     ]
    },
    {
     "name": "stdout",
     "output_type": "stream",
     "text": [
      "        30           0.6055           12.14s\n"
     ]
    },
    {
     "name": "stdout",
     "output_type": "stream",
     "text": [
      "        40           0.5244           11.10s\n"
     ]
    },
    {
     "name": "stdout",
     "output_type": "stream",
     "text": [
      "        50           0.4501           10.28s\n"
     ]
    },
    {
     "name": "stdout",
     "output_type": "stream",
     "text": [
      "        60           0.3908            9.61s\n"
     ]
    },
    {
     "name": "stdout",
     "output_type": "stream",
     "text": [
      "        70           0.3372            9.05s\n"
     ]
    },
    {
     "name": "stdout",
     "output_type": "stream",
     "text": [
      "        80           0.3009            8.47s\n"
     ]
    },
    {
     "name": "stdout",
     "output_type": "stream",
     "text": [
      "        90           0.2603            7.95s\n"
     ]
    },
    {
     "name": "stdout",
     "output_type": "stream",
     "text": [
      "       100           0.2327            7.40s\n"
     ]
    },
    {
     "name": "stdout",
     "output_type": "stream",
     "text": [
      "       200           0.0835            2.38s\n"
     ]
    },
    {
     "name": "stdout",
     "output_type": "stream",
     "text": [
      "learning rate 0.1\n\n\n      Iter       Train Loss   Remaining Time \n         1           1.3199           20.45s\n"
     ]
    },
    {
     "name": "stdout",
     "output_type": "stream",
     "text": [
      "         2           1.2645           21.63s\n         3           1.2170           21.45s\n         4           1.1775           20.83s\n"
     ]
    },
    {
     "name": "stdout",
     "output_type": "stream",
     "text": [
      "         5           1.1404           20.20s\n         6           1.1106           19.81s\n         7           1.0844           19.01s\n         8           1.0617           18.22s\n"
     ]
    },
    {
     "name": "stdout",
     "output_type": "stream",
     "text": [
      "         9           1.0411           18.23s\n        10           1.0223           17.95s\n"
     ]
    },
    {
     "name": "stdout",
     "output_type": "stream",
     "text": [
      "        20           0.8864           14.90s\n"
     ]
    },
    {
     "name": "stdout",
     "output_type": "stream",
     "text": [
      "        30           0.7844           12.94s\n"
     ]
    },
    {
     "name": "stdout",
     "output_type": "stream",
     "text": [
      "        40           0.7176           11.76s\n"
     ]
    },
    {
     "name": "stdout",
     "output_type": "stream",
     "text": [
      "        50           0.6590           10.77s\n"
     ]
    },
    {
     "name": "stdout",
     "output_type": "stream",
     "text": [
      "        60           0.6120           10.00s\n"
     ]
    },
    {
     "name": "stdout",
     "output_type": "stream",
     "text": [
      "        70           0.5599            9.32s\n"
     ]
    },
    {
     "name": "stdout",
     "output_type": "stream",
     "text": [
      "        80           0.5242            8.68s\n"
     ]
    },
    {
     "name": "stdout",
     "output_type": "stream",
     "text": [
      "        90           0.4829            8.09s\n"
     ]
    },
    {
     "name": "stdout",
     "output_type": "stream",
     "text": [
      "       100           0.4473            7.52s\n"
     ]
    },
    {
     "name": "stdout",
     "output_type": "stream",
     "text": [
      "       200           0.2379            2.38s\n"
     ]
    }
   ],
   "source": [
    "# 2.\n",
    "\n",
    "def sigmoid(y_pred):\n",
    "    return 1.0 / (1.0 + math.exp(-y_pred))\n",
    "\n",
    "def log_loss_results(model, X, y):\n",
    "    results = []\n",
    "    for pred in model.staged_decision_function(X):\n",
    "        results.append(log_loss(y, [sigmoid(y_pred) for y_pred in pred]))\n",
    "    return results\n",
    "\n",
    "def plot_loss(learning_rate, test_loss, train_loss):\n",
    "    plt.figure()\n",
    "    plt.plot(test_loss, 'm', linewidth=2)\n",
    "    plt.plot(train_loss, 'c', linewidth=2)\n",
    "    plt.xlabel(\"iterations\")\n",
    "    plt.ylabel(\"loss\")\n",
    "    plt.legend(['test', 'train'])\n",
    "    plt.title(\"learning rate  \" + str(learning_rate))\n",
    "    plt.savefig(getcwd() + '/LWs/LW_7/plots/' + str(learning_rate) + '.png')\n",
    "    plt.show()\n",
    "    min_loss_value = min(test_loss)\n",
    "    min_loss_index = test_loss.index(min_loss_value)\n",
    "    return min_loss_value, min_loss_index\n",
    "\n",
    "\n",
    "def model_test(learning_rate):\n",
    "    model = GradientBoostingClassifier(learning_rate=learning_rate, n_estimators=250,\n",
    "                                       verbose=True, random_state=241)\n",
    "    model.fit(X_train, y_train)\n",
    "    train_loss = log_loss_results(model, X_train, y_train)\n",
    "    test_loss = log_loss_results(model, X_test, y_test)\n",
    "    return plot_loss(learning_rate, test_loss, train_loss)\n",
    "\n",
    "min_loss_results = {}\n",
    "for learning_rate in [1, 0.5, 0.3, 0.2, 0.1]:\n",
    "    print(\"learning rate \" + str(learning_rate), end=\"\\n\\n\\n\")\n",
    "    min_loss_results[learning_rate] = model_test(learning_rate)"
   ]
  },
  {
   "cell_type": "code",
   "execution_count": 3,
   "metadata": {},
   "outputs": [],
   "source": [
    "# 3. Переобучение. Для лучшего рез-тата необходимо сокращать число итераций (/ Ис"
   ]
  },
  {
   "cell_type": "code",
   "execution_count": 4,
   "metadata": {},
   "outputs": [
    {
     "name": "stdout",
     "output_type": "stream",
     "text": [
      "loss index: 36, loss value: 0.53\n"
     ]
    }
   ],
   "source": [
    "# 4.\n",
    "\n",
    "min_loss_value, min_loss_index = min_loss_results[0.2]\n",
    "print('loss index: {}, loss value: {:0.2f}'.format(min_loss_index, min_loss_value))"
   ]
  },
  {
   "cell_type": "code",
   "execution_count": 5,
   "metadata": {},
   "outputs": [
    {
     "name": "stdout",
     "output_type": "stream",
     "text": [
      "test loss:\t0.5413812861804069\n"
     ]
    }
   ],
   "source": [
    "# 5.\n",
    "\n",
    "model = RandomForestClassifier(n_estimators=min_loss_index, random_state=241)\n",
    "model.fit(X_train, y_train)\n",
    "y_pred = model.predict_proba(X_test)[:, 1]\n",
    "test_loss = log_loss(y_test, y_pred)\n",
    "print(\"test loss:\", test_loss, sep=\"\\t\")"
   ]
  },
  {
   "cell_type": "code",
   "execution_count": null,
   "metadata": {},
   "outputs": [],
   "source": []
  }
 ],
 "metadata": {
  "kernelspec": {
   "display_name": "Python 2",
   "language": "python",
   "name": "python2"
  },
  "language_info": {
   "codemirror_mode": {
    "name": "ipython",
    "version": 2
   },
   "file_extension": ".py",
   "mimetype": "text/x-python",
   "name": "python",
   "nbconvert_exporter": "python",
   "pygments_lexer": "ipython2",
   "version": "2.7.6"
  }
 },
 "nbformat": 4,
 "nbformat_minor": 0
}
