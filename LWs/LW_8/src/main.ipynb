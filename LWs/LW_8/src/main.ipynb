{
 "cells": [
  {
   "cell_type": "code",
   "execution_count": 27,
   "metadata": {
    "collapsed": true
   },
   "outputs": [],
   "source": [
    "from os import getcwd\n",
    "\n",
    "with open(getcwd() + \"/LWs/LW_8/data/amazon_cells_labelled.txt\") as file_amazon:\n",
    "    data = file_amazon.readlines()\n",
    "\n",
    "with open(getcwd() + \"/LWs/LW_8/data/imdb_labelled.txt\") as file_imdb:\n",
    "    temp = file_imdb.readlines()\n",
    "    data = data + temp\n",
    "\n",
    "with open(getcwd() + \"/LWs/LW_8/data/yelp_labelled.txt\") as file_yelp:\n",
    "    temp = file_yelp.readlines()\n",
    "    data = data + temp\n"
   ]
  },
  {
   "cell_type": "code",
   "execution_count": 29,
   "metadata": {
    "collapsed": false
   },
   "outputs": [
    {
     "name": "stdout",
     "output_type": "stream",
     "text": [
      "So there is no way for me to plug it in here in the US unless I go by a converter. \n 0\n\nGood case, Excellent value. \n 1\n\nGreat for the jawbone. \n 1\n\nTied to charger for conversations lasting more than 45 minutes.MAJOR PROBLEMS!! \n 0\n\nThe mic is great. \n 1\n\nI have to jiggle the plug to get it to line up right to get decent volume. \n 0\n\nIf you have several dozen or several hundred contacts, then imagine the fun of sending each of them one by one. \n 0\n\nIf you are Razr owner...you must have this! \n 1\n\nNeedless to say, I wasted my money. \n 0\n\nWhat a waste of money and time!. \n 0\n\nAnd the sound quality is great. \n 1\n\nHe was very impressed when going from the original battery to the extended battery. \n 1\n\nIf the two were seperated by a mere 5+ ft I started to notice excessive static and garbled sound from the headset. \n 0\n\nVery good quality though \n 1\n\nThe design is very odd, as the ear \"clip\" is not very comfortable at all. \n 0\n\n...\n"
     ]
    }
   ],
   "source": [
    "x = []\n",
    "y = []\n",
    "counter = 0\n",
    "\n",
    "for value in data:\n",
    "    temp = value.split('\\t')\n",
    "    x.append(temp[0])\n",
    "    temp[1].replace('\\n','')\n",
    "    y.append(int(temp[1]))\n",
    "    if counter < 15:\n",
    "        print(temp[0], \"\\n\", temp[1])\n",
    "    counter += 1\n",
    "print (\"...\")\n",
    "# 0 - negative review, 1- positive review"
   ]
  },
  {
   "cell_type": "code",
   "execution_count": 30,
   "metadata": {},
   "outputs": [
    {
     "name": "stdout",
     "output_type": "stream",
     "text": [
      "{'pleasant': 1015, 'salmon': 1068, 'pure': 1274, 'spicier': 4835, 'vacant': 4911, 'compete': 2677, 'related': 3808, 'theatres': 3475, 'weeks': 765, 'weight': 1557, 'deadpan': 4206, 'applauded': 3646, 'masterful': 1861, 'carry': 1723, 'produce': 1666, 'accomodate': 4938, 'infuriating': 2657, 'expectations': 1132, 'predictably': 1807, 'involved': 852, 'glance': 1378, 'alert': 4384, 'earphones': 2524, 'efforts': 3017, 'continuation': 3290, 'rpger': 4037, 'having': 391, 'fulfilling': 3543, 'lovable': 3337, 'derivative': 3597, 'data': 785, 'ipod': 1585, 'instruction': 2454, 'fellow': 4724, 'flavored': 4611, 'accused': 1786, 'animated': 3944, 'saving': 4917, 'selection': 470, 'slid': 2631, 'la': 3593, 'greater': 2318, 'reviewer': 1355, 'vegan': 4939, 'row': 1710, 'theater': 1026, 'need': 407, 'negative': 1283, 'hits': 4639, 'waitresses': 4624, 'following': 1799, 'perfection': 2223, 'rings': 4992, 'thirty': 4910, 'possible': 629, 'pineapple': 5014, 'consumer': 1560, 'indication': 4266, 'rge': 5005, 'puppets': 1422, 'thousand': 3124, 'selections': 1289, 'flowed': 4481, 'continue': 1226, 'go': 75, 'instance': 2845, 'japanese': 1888, 'charm': 594, 'superbad': 3785, 'widmark': 3682, 'pale': 4942, 'says': 977, 'yukon': 4661, 'season': 1955, 'tensions': 3852, 'agree': 4350, 'bt250v': 2573, 'sitting': 1171, 'earbugs': 2410, 'intelligent': 1028, 'empowerment': 3147, 'greasy': 4899, 'worked': 223, 'cords': 3625, 'restaurant': 193, 'cover': 755, 'happy': 195, 'mushroom': 5181, 'garlic': 2156, 'translating': 3322, 'blandly': 3678, 'offered': 4768, 'friend': 2185, '1971': 3956, 'rubbish': 3821, 'ohhh': 4510, 'gluten': 4613, 'americans': 1913, 'cliff': 4431, 'climbing': 4663, 'storytelling': 3139, 'static': 1099, 'ringer': 2737, 'uploaded': 4684, 'unwatchable': 3241, 'cheesiness': 3665, 'mind': 531, 'boys': 4967, 'conrad': 3735, 'rocks': 902, 'unwelcome': 5109, 'trysts': 4477, 'second': 516, '35': 1478, 'heroine': 3433, 'fox': 3567, 'expansive': 3794, 'mindblowing': 4389, 'dumbest': 4346, 'disparate': 3326, 'intoning': 3551, 'amateurish': 3231, 'sensitive': 2291, 'filet': 2188, 'unacceptable': 1634, 'see': 119, 'much': 104, 'sprint': 1208, \"they'd\": 4688, 'kind': 281, 'useful': 2302, \"1980's\": 3481, 'gets': 331, 'sound': 102, 'group': 2237, 'courteous': 4989, 'heroism': 3849, 'tragedy': 4882, 'corn': 1917, 'somewhat': 968, 'via': 1690, 'native': 4246, 'noticed': 1600, 'unusable': 1492, 'hospitality': 5020, 'machine': 1111, 'edinburgh': 5042, 'sweet': 734, '9': 1763, 'runs': 2317, 'spends': 4998, 'succulent': 4759, 'jim': 3874, 'fresh': 300, 'curtain': 3494, 'mean': 835, 'alongside': 3868, 'excuses': 3408, 'impressive': 762, 'register': 4525, \"m's\": 4693, 'convention': 3756, 'asia': 2661, 'cinematic': 4310, 'hundred': 2270, 'potentially': 2434, 'hernandez': 4221, 'device': 353, 'owner': 880, '15': 1112, 'en': 4193, 'pears': 4833, 'negligent': 5108, 'portrayals': 3270, 'iam': 2341, 'stay': 417, 'gimmick': 2884, 'others': 603, 'deserves': 824, 'sisters': 1740, 'rescue': 4156, 'shallow': 3079, 'additional': 1564, 'upstairs': 2350, 'forgeries': 2740, 'sabotages': 3206, 'versus': 2007, 'about': 55, 'too': 86, 'significantly': 2362, 'most': 124, \"ramsey's\": 4766, 'advertised': 1511, 'actually': 292, 'horrible': 239, 'buldogis': 4806, 'rise': 3296, 'unethical': 3666, 'aversion': 3923, 'flying': 3591, 'directing': 509, 'stop': 950, 'pitiful': 1191, 'park': 4004, 'quality': 74, 'performing': 2639, 'generous': 1466, 'senses': 1833, 'handed': 4622, 'dollar': 2406, 'score': 1379, 'going': 145, 'neat': 1497, 'cape': 4498, 'day': 274, 'hugo': 4469, 'naughty': 3937, 'rated': 761, 'del': 5246, 'monotonous': 3880, 'connoisseur': 4840, 'hey': 2811, 'bible': 4022, 'mp3s': 2753, 'mood': 4699, 'angelina': 3392, '15pm': 4293, 'dead': 688, 'choked': 4452, 'hummus': 1439, 'god': 1365, 'provided': 751, 'fascinated': 3233, 'tried': 308, 'vehicles': 3514, 'pack': 1212, 'equipment': 2940, 'subtle': 637, 'professional': 2227, 'simpler': 2340, 'entrance': 4078, 'endlessly': 3163, 'par': 856, 'ask': 540, 'later': 584, 'along': 786, 'facial': 3998, 'draft': 3656, 'surrounding': 2018, 'ethic': 4785, 'young': 982, 'sanyo': 2519, 'ann': 3730, 'manages': 3275, 'bean': 4776, 'willie': 3709, 'romantic': 3499, 'lovers': 2159, 'researched': 3822, 'empty': 819, 'success': 4029, 'spices': 5125, 'jean': 1962, 'cowardice': 3847, 'edible': 1483, 'town': 649, 'sandra': 1789, 'wontons': 5059, 'existent': 2970, 'excalibur': 4546, 'discount': 1705, 'monumental': 3521, 'lock': 1506, 'lap': 2922, 'barely': 427, 'vision': 4367, 'judging': 2037, 'char': 2131, 'batter': 2141, 'contacts': 1096, 'voodoo': 4612, 'insulin': 3908, 'needed': 613, 'admiration': 3225, 'coverage': 1139, 'unconvincing': 1390, 'get': 88, 'apt': 3447, 'complained': 2450, 'dressed': 4637, \"movie's\": 4219, 'nay': 4792, '100': 1240, 'manager': 1092, 'frances': 3179, 'stranger': 4125, 'consolations': 3962, 'boyfriend': 1010, 'morning': 2541, 'respecting': 4036, 'momentum': 3228, 'incomprehensible': 4340, 'theatre': 3131, 'shelves': 4344, 'bird': 4816, 'colored': 1601, 'followed': 2280, 'white': 356, 'sink': 3406, 'sizes': 1693, 'shed': 1870, 'inviting': 4656, 'warmth': 1764, 'warmer': 4496, 'shocked': 4503, 'arrives': 5089, 'trinity': 3160, 'frustrated': 4808, 'vampire': 4071, 'paradise': 5021, 'movies': 166, 'someone': 547, 'tied': 2268, 'thing': 146, 'hayworth': 3454, 'people': 153, 'sand': 1921, 'sitcoms': 3809, 'while': 189, 'omit': 3824, 'pearls': 3310, 'psyched': 2517, 'meaning': 1268, 'wobbly': 2915, 'according': 2483, 'however': 227, 'classic': 626, 'sit': 2000, 'prefer': 4836, \"latifa's\": 3706, 'pull': 887, 'ishioka': 3953, 'constant': 3687, 'ugly': 1640, 'angela': 4013, 'speaking': 3964, 'scientist': 4408, 'strives': 3323, 'aerial': 1332, 'sam': 3019, 'simply': 310, 'iriver': 2512, 'president': 3573, 'hill': 1279, 'character': 207, 'powerful': 3414, 'panna': 4999, 'excrutiatingly': 2426, 'difference': 2038, 'played': 465, 'olivia': 3869, 'quite': 190, 'contract': 1493, 'bare': 5143, 'absolute': 4957, 'below': 653, 'indeed': 1024, 'snider': 4305, '2006': 3639, 'pleasure': 5146, 'recommended': 440, 'viewing': 1800, 'believe': 399, \"master's\": 2013, 'breaks': 1178, 'virgin': 2625, 'spotty': 5230, 'albondigas': 5162, 'surface': 3259, 'insane': 2993, 'detachable': 2728, 'sauce': 472, 'length': 1944, 'entertained': 4213, 'confirm': 2999, 'casing': 2627, 'relatively': 1517, 'leather': 764, 'television': 3368, 'tucson': 4757, 'above': 609, 'infatuated': 2413, 'poisoning': 5200, 'we': 50, 'class': 1967, 'hankering': 4921, 'shirt': 4968, 'tough': 2052, 'antena': 2458, 'transceiver': 2680, 'mchattie': 3527, 'hellish': 3159, 'adaptation': 2033, 'northern': 3469, 'do': 93, 'unhealthy': 4900, 'companions': 4813, 'fell': 2263, 'driest': 2232, '10': 131, 'crepe': 4645, 'drift': 4447, 'trashy': 3799, 'yama': 4577, 'presents': 1317, 'wily': 3434, 'died': 1507, 'anyway': 916, 'long': 181, 'street': 2108, 'problems\\x97the': 3743, 'nc': 3667, 'mac': 4720, 'petty': 4809, 'seller': 925, 'mollusk': 3563, 'message': 2387, 'into': 167, 'done': 293, 'descriptions': 4689, 'suspension': 3333, 'directions': 2281, 'smack': 3370, 'ordeal': 4063, 'irons': 4059, 'delightful': 1409, 'excelent': 2505, 'refrained': 5022, 'wagyu': 4872, 'flawed': 1203, 'specially': 2485, 'thus': 1902, 'by': 60, 'riot': 4468, 'meats': 4906, 'faithful': 4227, 'eaten': 871, 'for': 12, 'europe': 2660, 'grossed': 2130, 'louder': 2648, 'continuously': 3861, 'set': 486, 'thomerson': 3741, 'unreliable': 924, 'unpredictability': 4334, 'begin': 1411, \"90's\": 1403, 'os': 2376, 'relative': 2353, 'politics': 3416, 'stand': 1231, 'uplifting': 1777, 'bottom': 1244, 'violinists': 4982, 'soldiers': 3220, 'tiramisu': 4903, 'planning': 2868, 'plugs': 2806, 'man': 341, 'possibly': 1349, 'highy': 2294, 'passion': 3383, 'spoiled': 4460, 'reception': 280, 'spent': 1322, 'emilio': 2104, 'abhor': 2383, 'pho': 742, 'animals': 3006, 'imaginative': 1397, 'writer': 1419, 'patron': 5185, 'baxendale': 3934, 'billy': 1348, 'student': 3480, 'nun': 3070, 'atrocity': 3168, 'identify': 1893, 'understood': 3264, 'meat': 523, 'watch': 256, 'assaulted': 3623, 'maintain': 1540, 'vey': 3540, 'astronaut': 4126, 'sea': 1271, 'capers': 4595, 'uniqueness': 4122, 'older': 1816, 'charismatic': 4359, 'rather': 360, 'military': 4538, 'squibs': 3595, 'charles': 1323, 'jones': 3073, 'compared': 2459, 'clearer': 2931, 'tear': 3342, 'mom': 2211, 'calendar': 2421, 'dreams': 2100, 'fm': 2398, 'rips': 3889, 'impulse': 3150, 'muddled': 3325, 'completely': 336, 'interacting': 3484, 'summer': 2208, 'graphics': 769, 'behind': 1387, 'jabra350': 2330, 'petroleum': 2431, 'relaxed': 4842, 'tortured': 3502, 'dozen': 1488, 'traffic': 4404, 'buzzing': 1551, 'v3i': 2445, 'deadly': 3938, 'allot': 2930, 'indie': 3278, 'breeders': 3770, 'list': 830, 'trumpeter': 3090, 'respect': 2566, 'including': 1002, 'feel': 286, 'any': 92, 'youthful': 3041, 'chargers': 1147, 'shattered': 3152, 'wayyy': 4497, 'restored': 2532, 'd807': 1510, 'stoic': 3584, 'central': 1796, '12': 972, 'try': 296, 'sibling': 3376, 'brainsucking': 4247, 'universal': 3553, 'bland': 361, 'letting': 1255, 'similar': 2197, 'riveted': 3025, 'reconciliation': 3917, 'patient': 2619, 'stops': 2860, 'executed': 3590, 'angus': 4207, 'fails': 564, 'ford': 3314, 'drained': 2527, 'bose': 2574, 'flush': 2324, 'storyline': 1009, 'armband': 2929, 'excuse': 1404, 'changes': 4115, 'frost': 4457, 'v': 4148, 'horrendous': 3061, 'fan': 851, 'unintelligible': 2901, 'caring': 5204, 'drooling': 3769, '30': 639, 'cuisine': 4582, 'american': 1912, 'harris': 4114, 'flaw': 1131, 'holes': 731, 'mins': 2295, 'disappoint': 1266, 'real': 154, 'jabra': 541, 'lover': 4996, 'borrowed': 3792, 'nerves': 3035, 'flair': 5072, 'ericsson': 2418, 'vomit': 2004, 'kudos': 4218, 'wong': 3738, 'leaks': 2482, 'temperaments': 4269, 'melted': 4521, 'ravoli': 4500, 'threshold': 4425, 'tired': 4110, 'vehicle': 2473, 'fit': 333, 'charcoal': 2173, 'theme': 1331, 'critical': 4414, 'artist': 1769, 'interview': 4070, 'smiling': 3854, 'ample': 1647, 'stale': 1453, 'greatest': 988, 'extended': 1489, 'horrid': 3235, 'setting': 710, 'capability': 2472, 'scrimm': 4208, 'renowned': 3178, 'crime': 3266, 'values': 1367, 'eclectic': 4990, 'satisfying': 2248, '70': 4863, 'but': 22, 'balanced': 1942, 'longer': 665, 'tiny': 1221, 'omg': 2213, 'energetic': 3876, 'deeply': 1334, 'waiting': 552, 'alike': 3983, 'available': 2397, 'atmosphere': 404, 'example': 1372, 'regrettably': 3250, 'quit': 1689, 'italian': 1063, 'dominated': 4432, 'gone': 1011, 'wiping': 2646, 'reenactments': 3215, 'verbatim': 3049, 'crawfish': 4884, 'saggy': 2909, 'frog': 2581, 'ri': 5207, 'meanings': 4386, 'beer': 572, 'hockey': 3346, 'noises': 2395, 'cotta': 5000, 'grtting': 2850, 'events': 2065, 'v265': 2858, 'bars': 654, 'delight': 1059, 'decided': 2174, 'usefulness': 2561, 'pissd': 5099, 'conversation': 1645, 'summarize': 4791, 'accessing': 2637, 'collect': 3959, 'frankly': 1778, 'offering': 2500, 'jerky': 1844, 'storage': 1550, 'unless': 578, 'boasts': 3012, 'barney': 3359, 'bamboo': 4599, \"carly's\": 4855, 'babie': 3361, 'accents': 3819, '8525': 2913, 'bloodiest': 5167, 'sensitivities': 4080, 'culture': 3214, 'none': 453, 'exciting': 4121, 'youtube': 4038, 'shipping': 760, 'speakerphone': 2865, 'tracking': 2727, 'burger': 405, 'savalas': 4249, 'concern': 5179, '70000': 3403, 'lifetime': 3621, 'performances': 722, 'translate': 3008, 'tomato': 5163, 'smoothly': 1672, 'havilland': 3870, 'view': 3921, 'stunning': 1339, 'miyazaki': 4437, 'redeemed': 3125, 'buyer': 1515, 'taped': 1877, 'painful': 1265, 'hoursthe': 2508, 'personally': 2062, 'joint': 2171, 'interplay': 2105, 'mid': 2258, 'howe': 3739, 'using': 355, 'pizzas': 1470, 'wants': 2119, 'containing': 3748, 'small': 267, 'trimmed': 4862, 'sunday': 5070, 'pretext': 4015, 'dude': 5157, 'jay': 4170, 'charges': 2659, '99': 5256, 'pda': 1496, 'underlines': 3254, 'thrown': 1375, 'freeway': 2292, 'must': 259, 'bordered': 3516, 'promise': 2251, 'bell': 3404, 'personable': 4575, 'wrap': 1353, 'road': 3674, 'headsets': 586, 'is\\x85was': 3165, 'angeles': 1173, 'reach': 2933, 'coach': 4118, 'rinse': 4669, 'golden': 5101, 'coconut': 5135, 'overacting': 1937, 'recessed': 2650, 'suggest': 2106, 'funny': 225, 'fireball': 5249, 'nicer': 2507, 'admitted': 3506, 'constructed': 1206, 'both': 162, 'paper': 1298, 'buttons': 533, 'spaghetti': 4756, 'oriented': 3810, 'cancellation': 2876, 'shipment': 2543, 'geek': 4021, 'yawn': 3357, 'leftover': 4614, 'appointments': 2518, 'tapas': 2244, 'dropped': 480, '700w': 2679, 'steve': 1369, 'array': 1865, 'motorola': 378, 'worn': 2736, 'motivations': 4142, \"dosen't\": 4161, 'caesar': 4970, 'carriers': 2551, 'action': 633, 'sorrentino': 4361, 'memory': 1619, 'costs': 666, 'shakespear': 2026, 'same': 234, 'shelf': 3388, 'creates': 1947, 'laughs': 3468, 'issue': 4109, 'routine': 4139, 'directly': 2608, 'accolades': 3726, 'specials': 4881, 'operas': 4357, 'clue': 5173, 'sex': 1134, 'goat': 4718, 'live': 1085, 'lie': 3972, 'cream': 1080, 'retarded': 3062, 'few': 170, 'affected': 3446, 'instructions': 886, 'enjoyable': 1035, 'electronics': 2396, 'anything': 315, 'ill': 2523, 'first': 114, 'crispy': 2162, 'haggis': 3136, 'dispenser': 4796, 'bank': 4491, 'make': 122, 'meet': 4596, 'loyal': 5184, 'functionality': 1553, 'photograph': 4382, 'melodrama': 4254, 'seal': 5149, 'why': 467, 'pretentious': 1000, 'jx': 2533, 'bus': 4735, 'metro': 1697, 'blake': 4204, 'judith': 4465, 'conception': 2997, 'reoccure': 2828, 'crayon': 4442, 'amazing': 150, 'madhouse': 4971, 'paired': 1658, 'say': 134, 'bagels': 2164, 'captured': 4311, 'almonds': 4834, 'interesting': 320, 'understanding': 1652, 'breaking': 1210, 'defect': 2530, 'bathrooms': 2168, 'boy': 1123, 'confusing': 1718, 'scripted': 4205, 'sangria': 5213, 'catching': 1635, 'eloquently': 3312, 'cables': 2921, 'dropping': 1556, 'experiencing': 4549, 'zombiez': 3158, '7': 749, 'outrageously': 4562, 'fabulous': 1215, 'peter': 2042, 'copy': 2369, 'satanic': 3605, 'even': 63, 'wrongly': 2314, \"you've\": 4453, 'gake': 4429, 'total': 800, 'writers': 3369, 'confuses': 3121, 'contact': 2621, 'experiences': 3482, 'peculiarity': 3812, 'unrealistic': 3402, 'surroundings': 3039, 'serious': 1051, 'kitchy': 3966, 'red': 958, 'loops': 2893, 'stagy': 3218, 'pics': 2298, 'strawberry': 5182, 'flaws': 1257, 'thereplacement': 2509, 'construction': 1122, 'painfully': 4040, 'apart': 1213, 'seafood': 867, 'seem': 692, 'hardest': 4692, 'tedium': 4253, 'paolo': 4360, 'drive': 638, 'four': 1222, 'chodorov': 3680, 'puppet': 4322, 'possibility': 2837, 'bonding': 4482, 'submerged': 2304, 'arguing': 2299, 'burrittos': 4506, 'vanilla': 4849, 'wrote': 3751, 'store': 608, 'crowds': 5086, 'number': 903, 'moving': 752, 'quickly': 537, 'pleaser': 1973, 'works': 94, 'forgot': 1605, 'sooooo': 4576, 'port': 2963, 'seperated': 2271, 'colors': 2364, 'little': 138, 'william': 3734, 'ache': 4773, 'comfortably': 904, 'compliments': 1581, 'thru': 1578, 'lacks': 717, 'upload': 2730, 'diaper': 3723, '24': 2668, 'practice': 2623, 'glued': 2630, 'wrapped': 4675, 'attack': 2135, 'serving': 2256, 'homework': 4417, 'brigand': 3429, 'age': 1018, 'powerhouse': 4273, 'cheese': 1449, 'zombie': 1983, 'ignore': 4604, 'normal': 1717, 'two': 136, 'snow': 4119, 'father': 1252, 'james': 1053, 'plethora': 5147, 'gerardo': 2971, 'u': 3574, 'starring': 3618, 'garbage': 529, 'insert': 2629, 'summary': 1346, 'stereotypes': 1310, 'since': 231, 'stretch': 5219, 'ryan': 3448, 'noble': 3428, 'scripts': 3568, 'charge': 303, 'hayao': 4426, 'yellow': 4961, 'inspiring': 4143, 'horrified': 3385, 'quick': 556, 'speak': 1267, 'inventive': 3858, 'disaster': 1307, 'next': 299, 'ready': 960, 'delay': 2699, 'taste': 345, 'management': 616, 'identifies': 3135, 'uncalled': 4020, 'hybrid': 2570, 'rent': 729, 'worries': 4583, 'swung': 4927, 'underwhelming': 2147, 'lino': 3268, 'wish': 791, 'onion': 4991, 'numbers': 1686, 'mirage': 5261, 'flawlessly': 1576, 'helping': 3950, 'laughing': 2604, 'lion': 1293, 'typical': 2021, 'snug': 2714, 'self': 496, 'douchey': 5227, 'allison': 3255, 'change': 1954, 'moves': 4018, 'loved': 218, 'argued': 4409, 'dough': 5027, 'eggs': 2217, 'walked': 695, 'especially': 298, 'wienerschnitzel': 5092, 'considering': 732, 'monica': 3463, 'stopped': 1211, 'vegas': 214, 'nokia': 601, 'lee': 3736, 'nobody': 1302, 'closed': 2112, 'sashimi': 1433, 'foreigner': 4123, 'brisket': 5215, 'ed': 1280, 'bathroom': 1473, 'excited': 1563, 'something': 455, 'nevertheless': 3895, 'uncomfortable': 1165, 'cutest': 3013, 'himself': 3196, 'veggie': 4940, 'dried': 5263, 'hurry': 5217, 'juice': 1494, 'sentiment': 2058, 'dozens': 2521, 'online': 2409, 'transfers': 4047, 'established': 3745, 'donut': 4916, 'extensive': 5052, 'courtroom': 2071, 'stereotypically': 3116, 'refreshing': 2117, 'bop': 3362, 'an': 42, 'malta': 3343, 'clipping': 2662, '85': 5091, 'kinda': 1885, 'priced': 479, 'drain': 1159, 'lunch': 473, 'gristle': 4830, 'built': 1611, 'under': 501, 'step': 1319, 'renders': 2332, 'pasta': 868, 'can': 80, 'reviewers': 4069, 'sacrifice': 3850, 'course': 612, 'roast': 2149, 'gently': 4209, 'grease': 2148, 'tickets': 3134, 'ladies': 1281, 'justice': 4133, 'aged': 3690, 'laselva': 4318, 'riz': 4100, 'travled': 2878, 'coming': 318, 'wildly': 4709, 'dreamed': 4654, 'timely': 1621, 'biggest': 1230, 'elegantly': 4774, 'plays': 951, 'batteries': 1626, '44': 2851, 'sake': 1923, 'olde': 3611, 'slow': 235, 'boba': 2201, 'mainly': 1696, '4s': 2770, 'accessable': 2924, 'range': 676, 'chosen': 3501, 'halfway': 3522, 'helped': 2246, 'fries': 520, 'famous': 1971, 'converter': 2267, 'kiddos': 4798, 'revealing': 2023, 'represents': 3471, 'violence': 4337, 'hitch': 2607, 'mansonites': 4261, 'hip': 1425, 'daughter': 1324, 'prejudice': 3146, 'iq': 3562, 'communication': 2840, 'bug': 2183, '8125': 2881, 'vessel': 4454, 'spew': 3188, 'bob': 3295, 'slideshow': 3759, 'astonishingly': 4056, 'fame': 4278, 'quantity': 4640, 'arrival': 2670, 'salad': 322, 'crab': 2238, 'stowe': 4392, 'finish': 2142, 'wonderfully': 979, 'cashier': 2124, 'pc': 1105, 'wall': 614, 'had': 33, 'inches': 2601, 'reactions': 1868, 'knows': 1656, 'non': 619, 'customize': 4775, 'beautifully': 1410, 'eyes': 847, \"charles'\": 3198, 'unrecognizable': 1926, 'card': 1620, 'unprofessional': 5183, 'bombardments': 3834, 'dee': 4304, 'fare': 1278, 'pulling': 4024, 'bully': 3423, 'treachery': 3273, 'peach': 5113, 'current': 1711, \"mickey's\": 3718, 'marriage': 3993, 'honest': 1056, 'tries': 1224, 'garfield': 3729, 'tony': 4362, 'lange': 2122, 'span': 1691, 'want': 187, 'sour': 1836, 'amount': 567, 'candace': 3430, 'tomorrow': 3587, 'dysfunction': 4083, 'reliability': 2872, 'mercy': 1935, 'lawyers': 5088, 'fly': 2257, 'boot': 1246, 'vegetables': 1089, 'brunch': 1462, '1949': 4215, '2000': 2510, 'carries': 1699, 'shenanigans': 3881, 'lights': 2480, 'cingulair': 2506, 'jaclyn': 3619, 'spinn': 2513, 'staff': 257, \"would've\": 1943, 'instant': 3825, 'made': 81, 'labute': 4335, 'occurs': 2984, 'wb': 3803, 'release': 4146, 'research': 2655, '90': 1036, 'aspect': 1156, 'deffinitely': 2663, 'buying': 781, 'open': 1684, 'motion': 3510, 'fascination': 4275, 'yellowtail': 4912, 'utter': 1669, 'medium': 5166, 'thunderbirds': 3509, 'role': 1041, 'takeout': 5118, 'chinese': 961, 'veteran': 3066, 'imagination': 833, 'us': 186, 'elsewhere': 705, 'stated': 1531, 'own': 454, 'tenders': 4558, 'warnings': 5172, 'chimp': 3537, 'past': 1401, 'future': 1761, 'articulated': 3462, 'duris': 3648, 'cheeseburger': 2192, 'ngage': 2461, 'profound': 5237, 'howell': 3524, 'flower': 2236, 'sushi': 368, 'khao': 4626, 'caught': 1909, 'easily': 458, 'getting': 381, 'basically': 669, 'sore': 4812, 'heads': 2089, 'sever': 4513, 'rough': 3655, 'tops': 2020, 'buyers': 2547, 'nicely': 2344, \"can't\": 191, 'kids': 461, 'tea': 1088, 'sinister': 4326, 'naan': 5044, 'website': 883, 'jennifer': 4112, 'commuter': 2576, 'suffered': 3181, 'jealousy': 3845, 'fits': 412, 'door': 1474, 'meatballs': 5164, 'arepas': 5063, 'duck': 1440, 'evaluate': 3065, 'was': 10, 'genius': 1822, 'hes': 3492, 'ghibili': 4428, 'mandalay': 4606, '4ths': 4829, '20th': 1959, 'crafted': 1808, 'better': 97, 'directorial': 1919, 'climax': 3890, 'poop': 4817, 'seated': 872, 'ebay': 3398, 'remember': 1020, \"company's\": 3556, 'male': 2078, 'addition': 971, 'confidence': 4467, 'opportunity': 2146, 'asking': 4635, 'timeless': 3715, \"nicola's\": 3319, \"black's\": 3779, 'placed': 1218, 'pan': 4552, 'haul': 2688, 'rip': 2464, 'relation': 4341, 'cartoons': 1997, 'effects': 457, 'starving': 4783, 'checked': 976, 'falafels': 4985, 'connisseur': 4820, 'v3c': 2852, 'servers': 866, 'death': 1045, 'splendid': 3920, 'today': 551, 'pacing': 2098, 'lilt': 3647, 'your': 58, 'causing': 2886, 'detailed': 2693, 'overcome': 4001, 'out': 52, 'awarded': 3311, 'seems': 481, 'broke': 484, '5lb': 4828, 'super': 354, 'missed': 946, 'bits': 4646, 'tying': 3557, 'concerning': 4217, 'became': 1738, 'improve': 2481, 'point': 558, 'establish': 4257, 'gratitude': 4700, 'buffalo': 3644, 'murdering': 4223, 'drinks': 1072, 'vodka': 4592, 'lightly': 1726, 'magazine': 4650, 'purchasing': 1613, 'included': 888, 'couple': 494, 'sliced': 2240, 'address': 2720, 'maria': 5123, 'focused': 2250, 'caterpillar': 5265, 'sent': 2789, 'disappointing': 389, 'being': 149, 'insipid': 3016, 'interest': 1335, 'trash': 804, 'muddy': 2626, 'centers': 4321, 'shouldve': 2446, 'give': 204, 'bachi': 2203, 'egg': 1459, 'guilt': 4137, 'backlight': 2386, 'meant': 3114, 'purpose': 1566, 'lacking': 685, 'dream': 4390, 'believed': 3284, 'ergonomic': 2748, 'sculpture': 4355, 'interpretations': 4277, 'negulesco': 3681, 'ear': 137, 'whites': 3700, 'options': 771, 'incorrectness': 3331, 'applifies': 2484, \"everyone's\": 3970, 'unpredictable': 1766, 'blame': 5244, 'wash': 5133, 'largely': 1891, 'attractive': 1569, 'schilling': 3473, 'jobs': 1924, 'son': 970, 'ordered': 282, 'wake': 2941, 'college': 5151, 'gels': 1565, 'mayo': 2194, 'lettuce': 4894, 'feature': 681, 'sync': 2422, 'mother': 1103, 'finest': 3946, 'matthews': 3750, 'unpleasant': 4098, 'checking': 1295, 'acted': 1294, 'reduction': 4572, 'week': 583, 'exaggerating': 3000, 'obvious': 1757, 'overwhelmed': 2126, 'rivalry': 3846, 'complain': 1263, 'continues': 2633, 'generally': 810, 'tanks': 3762, 'z500a': 2935, 'jamaican': 4665, 'embassy': 3891, 'leopard': 2907, 'tongue': 2086, 'conclusion': 1048, 'mile': 5259, 'egotism': 3848, 'beware': 1127, \"roth's\": 3309, \"isn't\": 611, 'spiffy': 3437, 'messes': 2700, \"world's\": 4681, 'sucks': 316, 'pushed': 2582, 'land': 2892, 'crystals': 4788, 'kieslowski': 3298, 'leave': 737, 'pain': 2669, 'salt': 1441, 'flicks': 4324, 'rolled': 4694, 'many': 171, 'rudely': 4638, 'witnessed': 4925, 'neighbour': 3085, 'phone': 28, 'idealogical': 4320, 'underwater': 3122, 'crew': 3865, 'relying': 4438, 'odd': 1100, 'metal': 2905, 'elk': 5028, 'disgusted': 4502, 'insincere': 3080, 'involves': 4162, 'pulls': 2990, 'either': 338, 'optimal': 2842, 'papers': 4954, 'cars': 3996, 'cumbersome': 1623, 'generates': 4197, 'delicate': 5121, 'helen': 3933, 'microsoft': 3758, 'integration': 3007, 'appealing': 933, 'replaced': 2768, 'elias': 3389, 'finished': 1590, '8530': 2357, 'plantains': 4997, 'airport': 5047, 'looked': 739, 'thanks': 1197, 'plater': 4977, 'vain': 4608, 'duet': 2068, 'eventually': 2916, 'form': 777, 'certainly': 419, 'muffled': 2706, 'keen': 2349, 'copier': 2788, \"girlfriend's\": 5077, 'reasons': 2115, 'care': 423, 'takes': 906, 'blah': 1941, 'colleague': 2538, 'witty': 1846, 'app': 4761, 'mary': 4959, 'ball': 2035, 'sublimely': 3968, 'music': 248, \"that's\": 375, 'quaint': 5032, 'samsung': 698, 'debits': 3775, 'disapoinment': 2342, 'charging': 747, 'punishment': 4003, 'flick': 720, 'juries': 5087, 'poler': 3399, 'timing': 3774, 'survived': 2520, 'buildings': 3488, 'sort': 1386, 'voted': 4649, 'bye': 2153, 'achille': 4179, 'imitation': 3449, 'husband': 1071, 'hilarious': 620, 'so': 27, 'healthy': 1456, 'item': 233, 'crumby': 4941, 'surf': 4448, 'nevsky': 3051, 'cotton': 3075, 'direction': 832, 'create': 1747, 'highlight': 5178, 'identified': 3265, \"who's\": 4263, 'sweetest': 2946, 'existing': 2695, 'atleast': 2826, 'suddenly': 2310, 'ringing': 1591, \"joe's\": 2040, 'banana': 4533, 'patty': 4683, 'paying': 5090, 'imagined': 4644, 'boost': 1589, 'accessible': 4009, 'passed': 965, 'email': 5081, 'hot': 424, 'smoking': 2652, 'revere': 3731, '20': 500, 'terrible': 158, 'nervous': 4116, 'latin': 3612, 'puréed': 5198, 'armand': 3554, 'dedication': 2006, 'flavorful': 1465, 'stockings': 4055, 'corny': 3607, 'slightly': 3486, 'unbearable': 1572, 'article': 5124, 'exemplars': 3412, 'activated': 2309, 'suspense': 570, 'proud': 1920, 'local': 3642, 'hoping': 1144, 'subway': 1450, 'dripping': 5018, 'recommending': 5023, 'candle': 3931, 'flimsy': 1574, 'flakes': 3515, 'bechard': 4416, 'center': 2937, 'emotionally': 3216, 'rubber': 1570, 'traditional': 2118, 'iffy': 3907, 'cds': 2696, 'swords': 3226, 'national': 3987, 'mp3': 1504, 'retreat': 3840, 'previous': 907, 'm': 4088, 'coziness': 4632, 'heimer': 5252, 'headbands': 2417, 'fashioned': 3451, 'darren': 4479, 'fav': 5191, 'touch': 799, 'let': 535, 'hi': 4779, 'currently': 2697, 'cheesy': 1932, 'resume': 3230, 'evening': 2218, 'work': 87, 'lane': 1780, 'mad': 1805, 'gyro': 4893, 'godfathers': 4705, 'magnetic': 2515, 'tender': 642, 'battery': 115, 'acclaimed': 4229, 'cute': 780, 'my': 16, 'fanciful': 4446, 'afraid': 1787, 'indulgent': 1321, 'cult': 834, 'main': 986, 'tone': 1555, \"shouldn't\": 1541, 'teenagers': 3811, 'martini': 4908, 'drifting': 2967, 'bloddy': 4569, 'lassie': 4039, 'revenge': 3156, 'provide': 2953, 'regularly': 4926, 'portraying': 1879, 'taelons': 4319, 'lack': 1985, 'oem': 2896, 'worker': 4877, 'goth': 3609, 'ceases': 1847, 'value': 526, 'silent': 837, 'fantastic': 269, 'refried': 5262, 'tracfone': 2453, 'hearts': 2111, 'unsatisfactory': 1730, 'chipotle': 4758, 'glove': 2427, 'ends': 1559, 'tears': 3929, 'tinny': 1216, 'delivered': 3805, 'impossible': 1703, 'gave': 451, '1986': 3742, 'station': 898, 'outlandish': 3335, 're': 2645, 'legit': 2252, 'bruschetta': 5103, 'stinks': 1418, '5': 243, \"friend's\": 1469, 'downright': 5211, 'butter': 1458, 'if': 44, 'binge': 5233, 'perhaps': 534, 'adapters': 2643, 'strings': 4532, 'very': 17, 'sloppy': 3613, 'greenstreet': 4032, 'bring': 627, 'huevos': 5137, 'popular': 1904, 'buddy': 4284, 'talking': 1706, 'sliding': 2591, 'operation': 4819, 'depends': 4030, 'increase': 2609, 'jet': 4158, 'contrast': 1857, 'immediately': 931, 'during': 413, 'unforgettable': 4363, 'insults': 5236, 'fields': 4377, 'ruthless': 1370, 'noise': 1192, 'therapy': 3924, 'akasha': 4077, 'communications': 2365, 'dish': 573, 'chase': 3204, 'anatomist': 4212, 'stanwyck': 1928, 'switched': 3356, 'boogeyman': 3157, 'scenes': 254, 'pleasantly': 2812, 'linksys': 2712, 'superlative': 2986, 'burned': 4721, 'thinking': 1060, \"film's\": 1402, \"rice's\": 4079, 'thin': 674, 'on': 19, 'wondered': 4237, 'effective': 937, 'never': 98, 'eccleston': 3288, 'realistic': 1828, 'babysitting': 4462, 'terror': 3971, 'reversible': 2435, 'high': 410, 'soft': 2785, 'filmed': 1950, 'dodge': 3054, 'moist': 1434, 'dinner': 745, 'disliked': 1803, 'faceplates': 2306, 'transfer': 2703, 'honeslty': 4494, 'films': 198, 'church': 1775, 'keyboard': 891, 'bellagio': 5188, 'sins': 2725, 'musician': 3200, 'forgotten': 4279, 'appropriate': 4418, 'fans': 846, 'crashed': 1688, 'last': 261, 'telephone': 1707, 'headset': 112, 'full': 379, 'noted': 2579, 'raging': 3530, 'groove': 4402, 'exchange': 1668, 'sensibility': 4028, 'unfunny': 1751, 'cassette': 2866, 'employees': 5193, 'latter': 4260, 'word': 565, 'pizza': 323, \"credit's\": 3765, 'performance': 291, \"joyce's\": 4228, 'cheerfull': 3936, 'directors': 1848, 'happiness': 3307, 'option': 2478, 'entertainment': 2839, 'development': 1655, 'avoided': 1993, 'voltage': 2938, 'clichés': 1374, 'dedicated': 4715, 'duo': 4981, 'political': 3330, 'steep': 2687, 'display': 1133, 'builders': 3044, 'clarity': 790, 'chewy': 1442, 'effect': 1179, 'bodes': 4674, 'finale': 3297, 'excessive': 2274, 'moz': 4602, 'linda': 4300, 'simple': 527, 'lugosi': 3549, 'villains': 4306, 'figure': 1615, 'scary': 1158, 'settings': 3344, 'literally': 591, 'despicable': 4771, 'forth': 1820, 'gloriously': 4397, 'wait': 346, 'cable': 599, 'n': 4484, 'unmoving': 3575, 'tale': 987, 'gere': 3077, 'ant': 2810, 'earpiece': 923, 'loudly': 4738, 'listening': 1643, 'went': 215, 'necklace': 3747, 'looses': 2911, 'tastings': 4541, 'counterfeit': 2877, 'fraction': 2671, 'this': 8, 'underacting': 3614, 'ideal': 2289, 'dessert': 864, 'implausible': 1961, 'ultra': 4120, 'peaking': 3083, 'humor': 4160, 'grandmother': 4964, 'melville': 3274, 'yourself': 1066, 'taking': 1880, 'drag': 1814, 'ourselves': 5161, 'caused': 1573, 'stress': 2906, 'contain': 5174, 'asleep': 1996, 'standout': 4097, 'gc': 4909, 'earbud': 1138, 'condiment': 4795, 'chasing': 4332, 'comfort': 1155, 'greatness': 3324, 'fast': 334, 'phoenix': 1083, 'indescribably': 3663, 'pepper': 2189, 'cracked': 2603, 'o': 2429, 'table': 521, 'horror': 511, \"kanaly's\": 3436, 'watching': 213, 'secure': 1567, 'twist': 1869, 'woven': 3919, 'dracula': 3955, 'whether': 672, 'discovering': 2073, 'quiet': 1118, 'bold': 1783, 'poorly': 683, 'waste': 152, 'facing': 3914, 'got': 130, 'coastal': 3839, 'familiar': 2128, 'disturbing': 1843, 'ease': 1125, 'up': 66, 'completed': 3658, 'stuff': 766, 'hopes': 5102, 'angel': 1373, 'volcano': 2002, 'raver': 4399, 'eyed': 4743, 'occasionally': 1001, 'confortable': 2808, 'emperor': 4239, 'choose': 2242, 'pulled': 1471, 'barren': 3345, \"hitchcock's\": 3894, 'pleased': 447, 'unrestrained': 3782, 'hooked': 5029, 'maybe': 628, 'mesmerising': 3976, 'members': 3699, 'neighborhood': 2205, 'eel': 4690, 'singing': 1325, 'gem': 989, 'friendly': 168, 'ups': 1017, 'unemployed': 3630, 'whelm': 5061, 'reason': 686, 'sets': 1038, 'affordable': 5068, 'did': 108, 'eighth': 4427, 'anticipated': 5189, 'google': 4994, 'racism': 1810, 'now': 127, 'downtown': 2137, 'fear': 1004, 'spend': 1416, 'entirely': 1930, \"we're\": 2184, 'single': 622, 'iced': 4810, 'across': 4825, 'times': 211, 'speedy': 5048, 'cafe': 1444, 'whine': 1539, 'nature': 1862, 'appalling': 1316, 'manual': 2455, 'excels': 2572, 'appetizers': 2140, 'basic': 1523, 'hated': 948, 'rolls': 1046, 'downs': 4401, 'docking': 1509, 'screwed': 4801, 'noodles': 4726, 'constantly': 2641, 'bellucci': 3464, 'site': 3243, 'impressed': 242, 'vivian': 3472, 'drunk': 4682, 'modern': 1362, 'improper': 2855, 'undoubtedly': 1903, 'customer': 314, 'chickens': 5194, 'max': 2568, 'lemon': 4641, 'convey': 3795, 'gloves': 5144, 'family': 283, 'apple': 5038, 'netflix': 3176, 'stupidity': 3517, 'style': 517, 'film': 29, 'disapppointment': 5250, 'bored': 1031, 'took': 396, 'financial': 3457, 'milk': 4545, 'mushrooms': 4660, 'began': 1953, 'lined': 4531, 'appreciate': 1065, 'shawarrrrrrma': 4742, 'truck': 4299, 'vinegrette': 2245, \"we'd\": 2114, 'faultless': 3420, 'freshness': 3788, 'definitely': 156, 'nice': 96, 'vandiver': 3900, 'occur': 3661, 'ways': 1361, 'unique': 1906, 'freedom': 1238, 'radiant': 3438, 'subversive': 4395, 'around': 224, 'left': 348, 'other': 110, 'lighter': 4740, '50': 954, 'hair': 920, 'credits': 3827, 'tap': 2199, 'rave': 5245, 'garden': 5228, 'failed': 905, 'journey': 1344, \"astronaut's\": 4128, 'pop': 2225, 'slaw': 5002, 'custer': 3867, 'syrupy': 4091, 'relocated': 4615, 'characters': 142, 'win': 4349, 'girl': 714, 'sample': 2083, 'sits': 3219, 'whiny': 1760, 'salesman': 4474, 'sandwich': 522, \"miyazaki's\": 2110, 'lose': 1719, 'happier': 935, 'outta': 4777, 'couples': 4844, \"wife's\": 1548, 'bothersome': 3637, 'horrendously': 4295, 'ahead': 4495, 'venture': 4585, 'chow': 1931, 'scottsdale': 4951, 'crostini': 4609, 'recommend': 103, 'enough': 135, 'dishes': 524, 'relaxing': 4048, 'boss': 3341, 'will': 68, 'refuse': 2596, 'emotions': 1414, 'disrespected': 2179, 'three': 376, 'entertaining': 1030, 'smart': 1356, 'inform': 2622, 'scenery': 1297, 'mega': 2401, 'humming': 2939, 'uses': 2101, 'verge': 4636, 'unhappy': 1525, 'degree': 5206, 'yardley': 4033, 'gadgets': 2497, 'losing': 1792, 'crazy': 1008, 'revisiting': 5043, \"don't'\": 5240, 'fact': 364, 'ambiance': 650, 'connected': 1547, 'forever': 768, 'restocking': 2943, 'spots': 4716, 'dreary': 4041, 'ussr': 4129, 'comments': 1662, 'phenomenal': 2079, 'watchable': 1398, 'continually': 3279, 'rowdy': 4770, 'shops': 4803, 'scot': 3899, 'oysters': 5128, 'hbo': 4347, 'except': 1682, 'fee': 2944, 'infra': 2962, 'catchy': 3826, 'females': 3982, 'considers': 4127, 'browser': 2374, 'bussell': 4671, 'special': 301, 'bartenders': 5073, 'note': 690, 'lilli': 3732, 'leni': 4315, \"burton's\": 3069, 'function': 1636, 'cradle': 2474, 'movements': 3387, 'becomes': 4043, 'area': 449, 'fond': 2514, 'attempts': 1882, 'tepid': 5084, 'desperation': 4374, 'bellies': 5026, 'twists': 3660, 'zillion': 3668, 'picked': 4406, 'thats': 890, 'otto': 4677, 'rotating': 1577, 'impression': 4196, 'taxidermists': 3886, 'stylized': 3411, 'impact': 4450, 'paced': 1292, 'artiness': 2969, 'overnight': 2565, \"weren't\": 1347, 'dependant': 3909, '1973': 4124, 'cheekbones': 3531, 'sequences': 3257, 'period': 853, 'cocktails': 4536, 'tips': 1546, 'marred': 3686, \"adams'\": 4171, 'ians': 4797, \"mom's\": 4885, 'trouble': 897, 'kill': 3227, 'ac': 2293, 'usually': 1562, 'costumes': 2034, 'tasteless': 869, 'gives': 726, 'stable': 3896, 'seasoned': 2145, 'crust': 2123, 'modest': 1609, 'virtue': 4487, 'outdoor': 4732, 'steer': 2681, 'falwell': 3617, \"girl'\": 1900, 'frequentyly': 2465, 'treasure': 3988, 'superbly': 1771, 'heat': 2265, 'politically': 3081, 'seeen': 2674, 'add': 1588, 'att': 1603, 'florida': 2976, 'without': 326, 'program': 2702, 'favourite': 1351, 'considered': 3263, 'relax': 4978, 'shooting': 3657, 'blandest': 4581, 'easier': 932, 'wings': 1084, 'location': 635, 'affleck': 3103, 'physical': 3100, 'roeg': 3320, 'merit': 3166, 'exterior': 2495, 'pats': 5187, 'winner': 1526, 'hurt': 1594, 'those': 250, 'alexander': 1768, 'dollars': 1804, 'nude': 4670, 'frequently4': 2415, 'products': 2870, 'waiter': 646, 'chicken': 288, 'owns': 3190, 'repertory': 3237, 'amp': 2827, 'palate': 4556, 'dangerous': 1867, 'farce': 3353, 'emotion': 3144, 'victor': 3569, 'oh': 425, 'ridiculousness': 3258, 'lord': 2093, 'fifties': 3246, 'blew': 1734, 'buffets': 4573, 'watched': 403, 'develop': 3317, 'condescends': 4378, 'ringtones': 949, 'incendiary': 3781, \"here's\": 3292, 'software': 589, 'forward': 4567, 'screened': 3628, 'dads': 3871, 'design': 374, 'editing': 623, 'sign': 1995, 'gratuity': 5036, 'exceeds': 2853, 'snap': 2912, 'company': 490, 'fair': 1990, 'satisifed': 2926, 'side': 383, 'reheated': 4955, 'these': 148, 'greens': 4920, 'cellphones': 2867, 'deserving': 1977, 'hat': 2542, 'alone': 1181, 'absolutel': 2433, 'faces': 3980, 'fucking': 5126, 'transmission': 2486, 'shut': 3148, 'auto': 1592, 'invented': 2447, 'stinker': 4144, 'strong': 446, 'sturdy': 753, 'pg': 993, 'require': 2987, 'awsome': 2526, 'lordy': 4625, 'seasoning': 4963, 'debated': 3088, \"girolamo'\": 4366, \"i'd\": 295, 'relief': 3132, 'delivers': 1270, 'columbo': 3084, 'loving': 4584, 'mark': 1239, 'edition': 3497, 'baaaaaad': 3958, 'laugh': 1875, 'sticks': 2198, \"clients'\": 4475, 'accordingly': 4668, 'pneumatic': 4794, 'window': 2600, 'cinematographers': 3737, 'brooding': 3892, 'careful': 1528, 'bipolarity': 3720, 'repeating': 4016, 'pictures': 538, 'trap': 2059, 'dimensional': 4352, \"ya'all\": 5248, 'seeing': 735, 'bone': 4568, 'piano': 5004, 'freeman': 3004, 'displeased': 2529, 'allowing': 1685, 'forwarded': 4294, 'heche': 3018, 'results': 942, 'unaccompanied': 4103, 'defective': 1633, 'weekly': 4633, 'lasts': 914, 'fillet': 5006, 'claimed': 4864, \"kid's\": 2051, 'lead': 836, 'top': 460, 'chips': 651, 'performed': 1663, \"didn't\": 121, 'restaraunt': 5075, 'somehow': 1675, 'skip': 1505, 'kristoffersen': 3992, 'includes': 4150, \"we'll\": 1075, 'cocktail': 4643, 'colorful': 4445, 'clip': 881, 'commentary': 3465, 'glare': 2824, 'majority': 2347, 'ranch': 5222, 'abstruse': 3213, 'tremendously': 1788, 'pixel': 2402, 'refused': 1704, 'sequence': 1988, 'exactly': 687, 'locations': 3489, 'desert': 4007, 'feelings': 4231, '11': 1631, 'mixed': 4659, 'voice': 448, 'fire': 1102, 'creamy': 2196, 'sending': 879, 'experience': 164, 'concrete': 2467, 'cant': 782, 'smile': 1853, 'stayed': 1421, 't': 801, 'classy': 1695, 'dog': 1460, 'correction': 5251, 'intermittently': 2861, 'rubin': 4113, 'serve': 2210, 'smells': 2077, 'series': 444, 'toasted': 2209, 'reasonable': 581, 'murdered': 1896, 'offer': 3789, 'similarly': 4901, 'plug': 370, 'yelps': 3491, 'soooo': 2206, 'mistake': 679, 'fiancé': 4605, 'eargels': 1648, 'startac': 2761, 'walk': 3130, 'acting': 120, 'magical': 2498, 'buffet': 401, 'functional': 2784, 'although': 539, 'quaid': 3194, 'improved': 3036, 'beauty': 4898, 'synchronization': 2843, 'crawl': 2379, 'activesync': 2841, 'starter': 2476, 'worth': 180, 'magnificent': 3918, 'conceptually': 3260, 'air': 1945, 'personalities': 3659, 'roam': 2411, 'bendingly': 3903, 'bt': 1137, 'cheap': 268, 'server': 367, 'jerry': 3616, 'decision': 901, 'comfortible': 2667, 'filmmaker': 3518, 'disapointing': 2634, 'serves': 2154, 'attempting': 2968, 'adhesive': 2466, 'jeff': 4542, 'grade': 3671, 'clear': 350, 'again': 106, 'elderly': 3601, 'forty': 4607, 'sydney': 4031, 'decisions': 4256, 'late': 1412, 'wonder': 1101, 'boobs': 3703, 'destroy': 3705, 'nutshell': 5074, 'slimy': 3768, 'served': 643, 'than': 73, 'cashew': 5220, 'face': 495, 'wanted': 498, 'known': 1057, 'imaginable': 1745, 'watkins': 2041, 'counter': 2602, 'designer': 3413, 'morgan': 1753, 'bonus': 3371, 'realize': 1527, 'fella': 5136, 'carol': 4027, \"ryan's\": 5041, 'saffron': 4962, 'jimmy': 1739, 'videos': 2950, 'fs': 4832, 'happens': 2580, 'heard': 1061, 'discovery': 3170, 'supertooth': 2800, 'overhaul': 4924, 'break': 811, 'taco': 2202, 'computer': 794, 'shopping': 4789, 'tribute': 2262, 'ue': 4430, 'lacked': 843, 'important': 546, 'plate': 2255, 'answer': 1712, \"wouldn't\": 542, 'essentially': 1500, 'finger': 4897, 'meatloaf': 4593, 'disbelief': 1863, 'actions': 3409, 'rock': 4565, 'expected': 545, 'shocking': 4052, 'overwrought': 3603, 'premise': 1016, 'gentle': 2598, 'requirements': 2918, 'gx2': 2545, 'beers': 5177, 'nuts': 1866, '2160': 2452, '5320': 2798, 'devices': 2890, 'setup': 1135, 'glad': 450, 'sublime': 1858, 'contacted': 2710, \"'stagey'\": 3352, 'initially': 3641, 'spice': 5060, 'kathy': 4372, 'toons': 3804, 'bluetooths': 2321, 'hopeless': 3598, 'sewer': 5076, \"cent's\": 2664, 'finally': 550, 'start': 1965, 'excellently': 2019, 'warts': 3830, 'bitpim': 2701, 'insomniacs': 4330, 'im': 943, 'haunt': 4634, 'model': 1606, 'mussels': 4571, 'totally': 253, 'starlet': 4117, \"phone's\": 1116, 'curve': 2358, 'upgrade': 2835, 'crack': 2412, 'chance': 1831, 'droid': 2614, 'gross': 1290, 'surprising': 1929, 'bluetooth': 263, 'sergeant': 5008, 'uptight': 3692, 'jonah': 1754, 'camerawork': 1845, 'surprised': 1214, 'hinge': 2437, 'disagree': 4723, 'its': 123, 'tots': 2233, 'ought': 3249, 'desired': 4630, 'sci': 2022, 'over': 125, 'nor': 3519, 'unbelievable': 857, 'keith': 3422, 'average': 549, 'ticking': 2394, 'title': 4049, 'loose': 1724, 'guacamole': 5197, 'melt': 1448, 'keys': 2863, 'beef': 865, 'cutting': 3382, 'would': 54, 'aired': 3109, 'celluloid': 4312, 'together': 456, 'dna': 2368, 'large': 659, 'consider': 820, 'usb': 956, 'drivng': 2488, 'outlets': 3101, 'café': 4947, 'uneasy': 3599, 'ray': 1019, 'mere': 2272, 'belly': 1415, 'chick': 1781, 'idyllic': 4400, 'lestat': 4072, 'sharp': 1146, 'job': 266, 'with': 15, 'fried': 876, 'incoming': 2707, 'welsh': 3838, 'pockets': 2593, 'knew': 1382, 'leap': 4234, \"he's\": 1359, 'novella': 4230, 'menus': 1653, 'learn': 1366, 'nurse': 4333, 'comprehensible': 3558, 'curry': 2167, 'price': 147, 'feels': 585, 'restart': 2902, 'predictable': 462, 'bother': 675, 'exceeding': 4653, 'size': 1182, 'bbq': 4739, 'amazingly': 3710, 'complaints': 1115, 'nano': 2820, 'focus': 2009, 'blush': 3610, 'attitudes': 2132, 'monolog': 3930, 'pastas': 4895, 'abroad': 3483, 'ventura': 3269, 'place': 38, 'imperial': 3419, 'michael': 3096, '680': 2296, 'inconspicuous': 2833, 'commands': 4422, 'escapism': 4375, 'paid': 1007, 'comical': 3684, 'forgettable': 4044, 'straw': 3716, 'philadelphia': 4949, 'tech': 1501, 'realized': 1426, 'services': 2264, \"i've\": 79, 'unnecessary': 3030, 'is': 5, 'grocery': 5156, 'ala': 5242, 'walls': 4686, 'beans': 1476, 'sudden': 2355, 'coupons': 4750, 'captain': 4296, 'close': 631, 'file': 2373, 'strike': 4823, 'history': 719, 'integrated': 2323, 'premium': 2805, 'patio': 1467, 'approval': 5150, 'convince': 3546, 'min': 2144, 'continuity': 1916, 'market': 921, 'def': 4784, 'anyways': 5017, 'soooooo': 4952, 'seriously': 351, '13': 1149, 'awful': 229, \"80's\": 4323, 'arts': 4379, 'comparably': 2499, 'receiving': 1627, 'emoting': 3585, 'penny': 2424, 'match': 1129, 'mgm': 4988, '15g': 2378, 'guests': 2017, 'endearing': 3374, 'killer': 953, 'cheapy': 2847, 'visited': 4707, 'satifying': 5079, 'los': 1172, 'verizon': 532, 'crocdodile': 3283, 'marine': 3023, 'features': 657, 'race': 1388, 'ribeye': 4837, 'thumper': 4023, 'audio': 530, 'mst3k': 3126, 'stewart': 3887, 'public': 1925, 'instantly': 5267, 'angry': 1835, 'besides': 5153, \"cruise's\": 4075, 'loves': 900, 'situation': 1883, 'tom': 826, 'fi': 1618, 'accurate': 4398, 'lame': 825, 'ms': 3172, 'controls': 2923, 'repair': 3339, 'blown': 2064, 'trek': 4147, '1': 202, 'tracfonewebsite': 2794, 'lesson': 2408, 'poetry': 1860, 'just': 37, 'state': 1582, 'handles': 4050, 'front': 582, 'unfolds': 1856, 'trips': 4945, 'intelligence': 1027, 'sinking': 4255, 'old': 273, 'linking': 2356, \"o'connor\": 3875, 'sounded': 1249, 'motorolas': 2554, 'camp': 3560, 'securly': 2836, 'reporter': 4262, 'sexy': 4561, 'dressing': 1437, 'challenges': 3913, 'spot': 518, 'dos': 4539, 'incredibly': 775, 'bear': 1884, 'reverse': 1593, 'unfortunate': 4172, 'carbs': 5235, 'pointless': 1285, 'quicker': 3229, 'ripped': 1233, 'subtitles': 3922, 'trying': 497, 'spinach': 4619, 'inexpensive': 1170, 'visit': 1069, 'leaf': 2904, 'notch': 4201, 'source': 2589, 'coherent': 4241, 'superfast': 2747, 'absolutley': 4827, 'prone': 3857, 'junk': 491, 'describes': 4184, 'signs': 1692, 'fingernails': 3028, 'tables': 862, 'act': 2097, 'whatsoever': 680, 'yay': 5202, 'requested': 4983, 'among': 1975, 'crap': 392, 'sold': 2791, 'children': 1286, 'w810i': 1538, 'disappointed': 139, 'intense': 3282, 'wood': 2469, 'version': 1980, 'cook': 2190, 'wedding': 3107, 'sounds': 1145, 'sprouts': 4672, 'tungsten': 2722, 'windows': 2755, 'underlying': 2010, 'anthony': 3128, 'petrified': 4534, 'cameo': 3394, 'vomited': 1854, 'navigate': 2649, 'cancan': 3011, 'mute': 2569, 'funniest': 3493, 'ordering': 1708, 'tigerlilly': 4574, 'smeared': 4814, 'always': 197, 'repeated': 3123, 'vocal': 4104, 'excellent': 91, 'useless': 595, 'balance': 1228, 'etc': 704, 'cheated': 4548, 'annoying': 625, 'ferry': 3304, 'war': 1371, 'combos': 4514, 'huge': 409, 'gifted': 3579, 'incredible': 385, 'contacting': 2405, 'fingers': 2686, 'keira': 3855, 'keeps': 1219, 'friendship': 3842, 'after': 99, 'drago': 1034, 'wise': 1163, 'relate': 3119, 'teamwork': 5205, 'play': 377, 'ride': 2818, 'achievement': 2050, 'foxx': 3189, 'savant': 3082, 'standard': 1639, 'eiko': 3952, \"director's\": 1830, 'correctly': 2328, \"luv's\": 3722, 'forced': 1204, 'before': 237, 'really': 47, 'happen': 1389, 'teaches': 3145, 'flops': 2960, 'presentation': 2247, 'grew': 3872, 'feet': 1250, 'sean': 3426, 'rickman': 4391, 'drama': 468, 'exquisite': 1406, \"'titta\": 4364, 'granted': 3713, 'washed': 4153, 'hottest': 4564, 'crackles': 3040, 'pedestal': 3455, 'waylaid': 3355, 'masculinity': 3221, 'knightley': 3856, 'expanded': 4948, 'breakage': 2287, 'riingtones': 2463, 'tasted': 577, 'agreed': 3108, 'tuneful': 3452, 'phrase': 3989, 'doomed': 2996, 'damage': 2345, 'government': 4407, 'overpriced': 644, 'pita': 1438, 'believable': 723, 'moved': 3928, 'shiny': 2849, 'masterpieces': 1743, 'sides': 787, 'different': 352, 'perfectly': 382, 'subpar': 4603, 'you': 21, 'supposed': 1364, 'woa': 3239, 'bucks': 1150, 'night': 270, 'oscar': 1381, 'plants': 3366, 'girlfriend': 1802, 'smudged': 2961, 'echo': 1664, 'polite': 5132, 'madison': 4712, 'notable': 1986, 'soups': 5069, 'ole': 3396, 'space': 1047, 'callings': 4879, 'scares': 3904, 'heavy': 2715, 'misplace': 3086, 'smaller': 5054, 'brought': 1432, 'ipods': 2311, 'mini': 1234, 'chemistry': 1003, 'doing': 952, 'linear': 3459, 'use': 107, 'commercial': 3724, 'wonderful': 192, 'eye': 1194, 'footage': 1384, 'wi': 2540, 'unoriginal': 4309, 'comment': 3638, 'decidely': 3552, 'hardly': 1558, 'predict': 3048, 'africa': 2024, 'comfortable': 230, 'home': 445, 'wouldnt': 3707, 'explosion': 3761, '40min': 4578, 'waaaaaayyyyyyyyyy': 5212, 'borderlines': 3841, 'clock': 2457, 'austere': 4198, 'problem': 289, 'beginning': 1064, 'extraordinary': 2070, 'ratio': 4557, 'kevin': 4280, 'dates': 4676, 'tool': 909, 'uninteresting': 1825, 'stuart': 4073, 'combination': 1106, 'frenchman': 4907, 'potatoes': 1431, 'sure': 290, 'imac': 2773, 'fundamental': 4135, 'sometimes': 664, 'sunglasses': 1184, 'shoe': 5065, 'emerge': 3281, 'hawaiian': 5010, '30s': 5062, 'throughout': 738, 'filling': 2241, \"owner's\": 4701, 'favorite': 779, 'transmitters': 2399, 'sleek': 1521, 'operates': 2492, 'receives': 4535, \"microsoft's\": 2305, 'check': 488, 'cooking': 5152, \"poet's\": 3831, 'dribble': 3110, \"anne's\": 3963, 'lines': 618, 'cart': 5243, 'finds': 1607, 'occasional': 5186, 'preferably': 2754, 'production': 821, 'menacing': 4210, 'nearly': 915, 'knock': 2468, 'multi': 4886, 'unremarkable': 3211, 'biscuit': 5134, 'risotto': 4673, 'brother': 1898, 'uninspired': 4680, 'story': 173, 'cake': 4509, \"estevez's\": 4368, 'env': 2556, 'noca': 4892, 'partaking': 4191, 'locked': 2734, 'reviewing': 4589, 'distract': 4167, 'frontier': 4149, 'embedded': 2337, 'akin': 3167, 'reflected': 3791, 'sorry': 1247, 'bela': 3548, 'flash': 1676, '1979': 4657, 'yelpers': 4725, 'pumpkin': 4888, 'member': 1892, 'opposed': 5116, 'warning': 1180, 'maintaining': 4631, 'also': 67, 'holster': 1193, 'whistles': 2776, 'hence': 1823, 'kris': 3991, 'overt': 3697, '70s': 4175, 'equivalent': 4025, 'girls': 3063, \"couldn't\": 265, 'stealing': 4164, 'telly': 4248, 'transcendant': 4793, 'scripting': 4286, 'loyalty': 3272, 'junkyard': 1910, 'thug': 3721, 'contained': 1330, 'tightly': 2982, 'mighty': 4456, 'gain': 3458, 'nargile': 4846, 'grates': 3034, 'gung': 3021, 'rate': 807, 'shipped': 1597, 'month': 1575, 'players': 1661, 'delights': 2082, 'massive': 992, 'brat': 4461, 'away': 339, 'shop': 4860, 'wireless': 1174, 'shield': 2594, 'slices': 4933, 'warranty': 1665, \"motorola's\": 2279, 'return': 388, 'depicted': 3701, 'drains': 2746, 'waited': 475, 'soap': 4356, 'attention': 1021, 'woo': 3594, 'released': 1342, 'between': 309, 'clearly': 895, 'things': 251, 'faster': 1536, 'holder': 2891, 'skilled': 4086, 'verbal': 4282, 'technically': 4099, 'describing': 5083, 'ps': 4111, 'song': 983, 'know': 163, 'opening': 1987, 'shouting': 2848, 'feisty': 3432, 'grip': 2778, 'lately': 2388, 'joins': 3155, 'way': 116, 'sense': 1029, 'cinema': 566, 'errol': 2014, 'rich': 4667, 'carrell': 3002, 'cavier': 4870, 'mediocre': 429, 'fest': 4459, 'hollander': 4480, 'likes': 913, 'making': 506, 'q': 940, 'weaving': 4470, 'fort': 3400, 'grow': 5055, 'donlevy': 3571, 'unmatched': 4287, 'potato': 744, 'paint': 4381, 'witticisms': 3294, 'nicest': 2229, 'pad': 2535, 'screen': 196, 'particularly': 854, 'thrilled': 1333, 'judo': 3592, 'smell': 1571, 'tailored': 4555, 'suited': 3060, 'dime': 4731, 'worst': 126, 'oy': 3539, 'artistic': 3332, 'littered': 3696, 'extraneous': 3550, 'does': 132, 'sub': 858, 'tasty': 433, 'sum': 1992, 'purity': 3224, 'script': 199, 'earlier': 944, 'jessice': 4485, 'toactivate': 2795, '40': 859, 'officially': 5114, 'casino': 4566, 'disposable': 2816, \"other's\": 2869, 'plain': 844, 'pairing': 1227, 'nostalgia': 3067, 'treo': 955, 'overcooked': 2172, 'offensive': 1859, 'genre': 2061, '4': 562, 'update': 1622, 'activate': 2597, 'gold': 2181, 'pieces': 1746, 'truffle': 4873, \"it's\": 39, 'killing': 1936, 'primary': 4342, 'violin': 4211, \"wasn't\": 206, 'judge': 1352, 'handsfree': 1148, 'trust': 2887, 'lousy': 1264, 'preservation': 3151, 'tolerance': 5131, 'primal': 3149, 'honestly': 997, 'nasty': 1058, 'comforting': 4436, 'effort': 1209, 'unmitigated': 3677, 'reminded': 2090, 'amazed': 1195, 'missing': 4647, 'ok': 816, 'ability': 795, 'screenwriter': 1318, 'else': 563, 'betty': 1968, 'kept': 441, 'handling': 4769, 'english': 1939, 'social': 3099, 'of': 9, 'idea': 696, 'science': 2973, 'remotely': 1934, 'gripping': 1842, 'undertone': 3245, 'commented': 3995, 'sheer': 4252, 'showcasing': 3185, 'contributing': 4423, 'visual': 1022, 'least': 304, 'protective': 2442, 'penne': 4591, 'slider': 2804, 'whom': 1736, 'hand': 706, 'outlet': 1237, 'talk': 262, 'constantine': 4140, 'write': 1417, 'lies': 3318, 'wearing': 1183, 'content': 2985, 'muffin': 4733, 'coal': 3192, 'campy': 3902, 'green': 995, 'f': 4328, 'player': 662, 'stage': 1358, 'borders': 3777, 'legs': 2239, 'audience': 818, 'lox': 4594, 'protected': 2585, 'portions': 863, 'ticker': 3487, 'hungry': 4811, 'specs': 2928, 'sooner': 2448, 'eat': 258, 'book': 579, 'are': 25, 'ones': 1201, 'themselves': 841, 'destination': 2558, \"hadn't\": 1817, 'professionals': 3532, 'promote': 3059, 'recognizes': 2380, 'drawing': 5271, 'iphone': 1235, 'common': 4547, 'smashburger': 4995, 'dustin': 4106, 'amazon': 492, 'rendering': 3417, 'volatile': 4268, 'buds': 2319, 'concert': 3256, 'director': 466, 'blatant': 3503, 'southern': 4005, \"hoffman's\": 4107, 'survivors': 3303, 'liked': 340, 'june': 1834, 'sturdiness': 2588, 'wit': 2389, 'stepped': 2180, 'meals': 1480, 'ballet': 3236, 'underbite': 3583, 'propaganda': 3504, 'skimp': 4719, 'operate': 1657, 'estate': 4473, 'enterprise': 4165, 'regretted': 2762, 'gibberish': 3606, 'palm': 945, 'shined': 3183, 'satisfied': 788, 'created': 1040, 'spoiler': 1850, 'shot': 849, 'rita': 3453, 'which': 82, 'eggplant': 2220, 'reservation': 5218, 'hut': 4749, 'piece': 178, 'their': 89, 'ir': 2875, 'rocked': 3098, 'websites': 2920, 'unknown': 2559, 'soundtrack': 845, 'monster': 1984, 'reboots': 2721, 'inexplicable': 3864, 'bought': 216, 'promptly': 1598, 'worse': 344, 'cheaper': 1513, 'profiterole': 4851, 'ensued': 5231, 'color': 596, 'time': 40, 'smallest': 2744, 'wasting': 911, 'subject': 4173, 'damn': 741, 'meredith': 4087, 'fo': 4937, 'employee': 5105, 'bitchy': 3340, 'end': 245, 'one': 32, 'theft': 4922, 'seconds': 1113, 'fx': 1340, 'fausa': 3635, 'lobster': 1464, 'mention': 604, 'charged': 927, 'flavourful': 4696, 'throwback': 3479, 'misleading': 2284, 'planned': 3053, 'configuration': 3999, 'wooden': 1245, 'unbelievably': 4751, 'days': 438, 'waitress': 515, 'replenished': 4753, 'era': 1177, 'cakes': 4553, 'transformed': 2470, 'they': 49, 'allow': 1583, 'cutouts': 1720, 'be': 30, \"70's\": 4096, 'overnite': 2439, 'strangers': 4914, 'light': 411, 'taylor': 3572, 'hook': 2948, 'intensity': 4141, 'advise': 882, 'money': 159, 'cartel': 4861, 'blow': 4516, 'desperately': 3208, 'crisp': 962, 'frustration': 1651, 'privileged': 4702, '510': 1114, 'cool': 246, 'characterisation': 3582, \"dickens'\": 4026, 'flip': 1169, 'enthusiastic': 4763, 'wasted': 436, 'nonetheless': 3901, 'meh': 2143, '3o': 2767, 'mechanism': 2278, '45': 1486, 'pcs': 2801, 'oozes': 2336, 'think': 113, 'boiling': 3829, 'ate': 1452, 'meal': 434, \"they're\": 697, 'nan': 5040, 'logic': 3210, \"bergen's\": 3431, 'students': 3746, 'aggravating': 2624, 'me': 70, 'southwest': 4848, 'entire': 561, 'business': 727, 'e': 1499, 'loads': 1124, 'otherwise': 1261, 'avocado': 4620, 'evil': 2032, 'admins': 3508, 'drawback': 2307, 'heartwarming': 4331, 'good7': 2403, 'capacity': 2807, 'key': 1616, 'comedic': 3773, 'appetite': 5266, 'decide': 4875, 'fodder': 3127, 'bargain': 759, 'hide': 3520, 'childhood': 2091, 'microphone': 1164, 'signals': 2758, 'gotta': 3767, 'dumb': 1982, 'kitchen': 1644, 'shall': 4767, 'guys': 1424, 'gradually': 3316, 'rib': 4526, 'everybody': 3261, 'perplexing': 4085, 'wired': 1534, 'han': 5039, 'joy': 617, 'brushfire': 5260, 'readers': 2109, 'accurately': 3327, 'yell': 2511, 'rapidly': 5056, 'arrived': 536, 'ironside': 3097, 'working': 306, 'abandoned': 3588, 'tardis': 3289, 'cramming': 5117, 'sharing': 3120, 'trumbull': 4224, \"you'll\": 774, 'absolutely': 217, 'scare': 4131, 'support': 894, 'antithesis': 4403, 'dramatic': 1794, \"headset's\": 2451, 'ursula': 3068, 'palance': 3391, 'suck': 1420, 'thorn': 2382, 'pricey': 5140, 'found': 203, 'suffers': 4919, 'box': 1918, 'solidifying': 3306, 'embarrassed': 3523, 'division': 2656, 'event': 5097, 'cheek': 2087, 'wih': 3321, 'jerk': 4822, 'powdered': 4935, 'amaze': 3299, 'gringos': 4540, 'matrix': 4387, 'direct': 4145, 'soul': 1841, 'bennett': 4014, 'rests': 2919, 'particular': 661, 'utterly': 815, 'existential': 3247, 'studio': 1963, 'muppets': 2977, 'raving': 4554, 'aria': 4790, 'maker': 4089, 'salads': 2204, 'bakery': 1357, 'only': 59, 'razr': 746, 'coffee': 2200, 'allows': 1683, 'complexity': 3911, 'soon': 430, 'outperform': 2763, 'emily': 2055, 'trilogy': 1350, 'bluetoooth': 2381, 'soup': 1090, 'seen': 185, 'armageddon': 4451, 'complaint': 1638, 'las': 4866, 'decorated': 2169, 'override': 1552, 'broken': 1654, 'untoasted': 4734, 'tracked': 4815, 'once': 416, 'attentive': 647, 'lovely': 721, 'regrettable': 4488, 'ineptly': 3115, 'final': 1050, 'chocolate': 4544, 'drop': 1200, 'veal': 5078, 'saying': 1119, 'print': 2908, 'brief': 2028, 'touched': 5046, 'providing': 4695, 'that': 14, 'outstanding': 1468, 'photography': 1368, 'suggestions': 4598, 'hollow': 2043, 'eating': 519, 'afternoon': 1946, 'wines': 5139, 'morons': 3702, 'twirling': 3670, 'sphere': 3932, 'regret': 1189, 'how': 84, 'seating': 1484, \"'must'\": 3925, 'cell': 335, 'mouthful': 4841, 'filmography': 3242, 'flynn': 2015, 'abysmal': 2003, 'seat': 1260, 'owls': 2975, 'sause': 5224, 'dislike': 1952, 'christmas': 980, 'sony': 1154, 'mortified': 5016, 'sappiest': 3240, 'roller': 3032, 'tones': 1678, 'choices': 1677, 'creative': 4244, 'depth': 1005, 'az': 4854, 'forgetting': 1881, 'latched': 3373, 'insult': 1044, 'accountant': 4800, 'to': 7, 'north': 4950, 'nobu': 4993, 'law': 5095, 'came': 165, 'random': 3885, 'comedy': 640, \"you'd\": 789, 'inappropriate': 3853, 'flirting': 4563, 'button': 1543, 'subplots': 4245, 'cash': 4505, 'peanut': 4704, 'opens': 2885, 'have': 23, 'monkeys': 2367, 'overly': 1217, 'clips': 2750, 'hunan': 5071, 'carried': 2606, 'parties': 4550, 'lewis': 3778, \"hasn't\": 1813, 'charming': 1043, 'wife': 588, 'pi': 3293, 'cellphone': 1629, 'levels': 1748, 'behing': 2665, 'gallon': 3187, 'outward': 3836, 'conditions': 2560, 'phony': 3814, \"god's\": 3760, 'oil': 5145, 'hour': 363, 'tools': 2587, 'steakhouse': 5195, 'stories': 1039, 'dialogs': 3078, 'protection': 1110, 'eew': 4923, 'new': 161, 'dining': 574, 'video': 963, 'grimes': 4203, 'kabuki': 5122, 'cinematography': 463, 'pens': 2683, 'scared': 1363, 'indoor': 1964, 'george': 3877, 'vibe': 1054, 'watson': 4060, 'provides': 1694, 'ha': 5254, 'vinaigrette': 4746, \"america's\": 3418, 'screamy': 3476, 'boiled': 4867, 'recall': 4706, 'nine': 4092, 'engineered': 2449, 'attempt': 1013, '95': 3474, '18th': 4186, 'apology': 4902, 'steele': 3401, 'connecting': 2771, 'cgi': 4435, 'pause': 2308, 'lot': 188, 'everywhere': 1251, 'chip': 4727, 'connection': 805, 'indictment': 4132, 'memories': 1345, 'outgoing': 2617, 'pathetic': 842, 'stars': 240, 'duper': 3360, 'questioning': 3547, 'acknowledged': 2234, 'teddy': 3424, 'john': 632, 'teen': 3608, 'gadget': 1498, '23': 4515, 'perabo': 3817, 'material': 1256, 'contains': 1956, 'question': 1886, 'packaged': 1120, 'due': 803, 'bed': 2539, 'indian': 2161, 'devine': 5104, 'concerns': 3844, 'dusted': 4934, 'purchases': 2419, 'r': 1687, 'cruel': 3717, 'budget': 621, 'th': 2992, 'flawless': 2889, 'structure': 2981, 'hate': 528, 'anymore': 5168, 'assante': 3555, 'awards': 3725, 'deliciously': 5033, 'miserable': 4010, 'busy': 1446, 'fumbling': 3978, 'r450': 2803, 'diving': 3349, 'march': 4464, 'concept': 5196, 'mmmm': 2125, 'weekend': 4597, 'drawn': 4439, 'excessively': 3813, 'shows': 966, \"austen's\": 3961, \"'cover\": 1899, 'true': 990, 'smoke': 1698, 'fliptop': 2914, 'offers': 770, 'procedures': 2644, 'torture': 1014, 'schultz': 4412, 'foreign': 3884, 'stuck': 2567, 'unacceptible': 2288, 'tsunami': 4283, 'maine': 5093, 'seeing\\x85': 4424, 'grain': 4887, 'inch': 5159, 'unfaithful': 3076, 'cancelling': 2575, 'regarding': 1495, \"watson's\": 4067, 'tremendous': 1140, 'drawings': 4444, 'sals': 5190, \"connery's\": 3427, 'decipher': 4385, 'mirrormask': 3112, 'captures': 4419, 'attempted': 3915, 'easy': 210, 'perfected': 3203, 'delete': 4019, 'expect': 332, 'china': 2764, 'narrative': 1336, 'sharply': 2085, 'dirty': 813, \"don't\": 62, 'down': 209, 'explain': 1229, 'originally': 2690, 'line': 277, 'visually': 1849, 'background': 1561, 'regular': 1477, 'baby': 1269, 'download': 1670, 'web': 2360, 'matter': 1837, 'surprises': 4178, 'transcend': 3276, 'crayons': 3141, 'falsely': 3091, 'supposedly': 1128, 'timers': 3467, 'behold': 3860, 'randomly': 2733, 'loosely': 3564, 'ackerman': 4285, 'where': 249, 'spoilers': 1338, 'movie': 24, 'kirk': 4157, 'drenched': 5003, 'involving': 4108, 'posted': 2692, 'disney': 4433, 'preparing': 2160, 'scratched': 1162, 'rest': 712, 'community': 3470, 'bites': 2212, 'tolerable': 3538, 'appearance': 939, \"miner's\": 3193, 'handset': 2440, 'fine': 220, 'smoothies': 5015, 'repeats': 3512, 'pros': 1130, 'prevents': 2779, 'batch': 5201, 'writing': 343, 'near': 2760, 'ericson': 2934, 'humour': 1897, 'psychotic': 3336, 'format': 3957, 'usual': 840, 'fellowes': 3985, 'seasonal': 5111, 'brilliantly': 3943, 'jokes': 3694, 'helms': 3005, 'fuzzy': 5058, 'hosting': 3878, 'potted': 3365, 'mouth': 829, 'become': 736, 'until': 709, 'negatively': 2951, 'lady': 1408, 'show': 252, 'pencil': 4443, 'friends': 610, 'shots': 809, 'crash': 3142, 'ugliest': 3164, 'driving': 1167, \"wire's\": 2628, 'ironman': 4713, 'soi': 4627, 'schoolers': 3117, 'pitch': 3823, \"i'll\": 359, 'monstrous': 3974, 'obliged': 4243, 'stylish': 2338, 'yucky': 4754, 'terribly': 1976, 'highlighted': 5155, 'thoughts': 1951, 'combo': 5241, 'third': 959, 'superficial': 3351, 'vivid': 3425, 'avoid': 294, 'canal': 2949, 'subverting': 3280, 'biscuits': 2230, 'establishment': 1070, 'band': 4259, 'entrees': 2243, 'tacos': 1067, 'nut': 1376, 'cut': 967, '1947': 3728, 'falling': 1220, 'love': 77, 'lyrics': 3940, 'building': 2195, 'california': 4006, 'able': 917, 'intended': 2316, 'shrimp': 743, 'dealt': 3308, 'naked': 3393, 'talents': 3175, 'text': 2956, 'understated': 2075, 'simplifying': 3541, 'ages': 4288, 'crowd': 1052, 'install': 1612, 'early': 1392, 'peas': 4744, 'pay': 559, 'dignity': 4051, 'stood': 5050, 'ambience': 1445, 'songs': 663, 'ingredients': 4621, 'recognition': 1530, 'trunk': 2605, 'palms': 2856, 'tight': 2786, 'robotic': 4017, 'terrific': 728, 'thinly': 4871, 'receipt': 2711, 'myself': 512, 'equally': 1472, 'her': 174, 'homemade': 1481, 'laptop': 1714, 'shame': 1978, 'ponyo': 2116, 'québec': 3058, 'female': 1864, 'errors': 3994, 'pyromaniac': 3354, 'notice': 1490, 'delivering': 1765, 'watered': 5225, 'lil': 5057, 'earset': 2616, 'feeling': 402, 'glass': 5214, 'directed': 981, 'highly': 200, 'turn': 478, 'efficient': 4928, 'honor': 4748, 'ice': 874, 'cause': 1284, 'latch': 2718, 'variation': 4376, 'leaving': 3104, 'aesthetically': 4354, 'tummy': 5035, 'contrived': 3815, 'oven': 2215, 'higher': 3405, 'wow': 713, 'hackneyed': 1940, 'ventilation': 4856, \"coppola's\": 3954, 'dry': 850, 'lance': 3528, 'help': 1176, 'slackers': 3407, 'covered': 1732, 'portable': 2537, 'plus': 557, 'enchanting': 4440, 'hands': 422, 'worthy': 4090, 'handy': 1512, 'mojitos': 4666, 'martin': 1394, 'hello': 4915, 'pm': 4291, 'meanders': 3043, 'pretty': 118, 'poised': 4303, \"doesn't\": 169, 'it': 6, 'hypocrisy': 3820, 'mic': 878, 'core': 1798, 'croutons': 4943, 'generic': 1752, 'ears': 656, 'wirefly': 2620, 'emptiness': 2972, 'headphones': 660, 'pants': 2592, 'grim': 3753, '5020': 2666, 'smooth': 4850, 'camelback': 4859, 'net': 3350, 'theory': 2749, 'buy': 221, 'anyone': 205, 'arriving': 4579, 'him': 514, 'individual': 3450, 'order': 307, 'steak': 347, 'ben': 3102, 'valentine': 3305, 'jiggle': 2269, 'dwight': 4411, 'keeping': 2882, 'remarkable': 4441, 'teacher': 2974, 'nothing': 183, 'rarely': 2166, 'wear': 483, 'located': 4787, 'b': 1772, 'strap': 2516, 'styles': 2327, 'underneath': 1871, 'celebrity': 4276, 'chains': 5085, 'coppola': 3315, 'yun': 3586, 'channel': 1649, 'redeeming': 1315, \"mary's\": 4570, 'popcorn': 3776, 'encourage': 2501, 'jawbone': 1093, 's11': 2487, \"verizon's\": 2562, 'tip': 1443, 'sporting': 4685, 'minor': 2998, 'chilly': 1826, '80s': 3232, 'sing': 4181, 'bore': 1326, 'keypad': 1524, 'hendrikson': 3529, 'hitchcock': 838, 'needs': 772, 'beateous': 4662, 'pair': 884, 'galley': 4290, 'portraits': 2494, 'nationalities': 3485, 'contstruct': 2436, 'might': 605, 'prices': 471, 'brick': 2214, 'dual': 2880, 'take': 228, 'communicate': 2366, 's710a': 2927, 'senior': 3184, 'cardboard': 1806, 'balls': 3195, 'process': 2025, 'cailles': 4192, 'unintentionally': 3683, 'whenever': 2053, 'as': 26, 'water': 848, \"joey's\": 4648, 'highlights': 2072, 'professor': 3744, 'exploit': 3456, 'rochon': 3534, 'scream': 4130, 'angle': 1503, 'details': 4082, 'plenty': 1241, \"before'\": 3496, 'excerpts': 3410, 'neil': 2081, 'definately': 2259, 'punish': 3629, 'experienced': 1141, \"she's\": 4302, 'veggitarian': 4710, 'whole': 358, 'element': 1999, 'inspired': 4629, 'half': 508, '54': 4251, 'hilt': 4393, 'salty': 4618, 'ortolani': 4101, 'crema': 4946, 'lived': 1770, 'triumphed': 3986, 'hay': 3435, 'returning': 1185, 'apartment': 2832, 'thoroughly': 1025, 'cat': 1579, 'grill': 2136, 'heist': 3581, 'giant': 4932, 'hankies': 3979, 'sites': 3643, 'handle': 3137, 'cingular': 947, 'games': 783, 'outshining': 4781, 'layers': 4185, 'the': 1, 'blood': 1819, 'move': 3640, 'dipping': 5223, 'linked': 2653, 'provoking': 1291, 'slightest': 2067, 'depending': 3209, 'reminds': 4802, 'controversy': 3379, 'back': 69, 'cardellini': 4301, 'hummh': 3490, 'contributory': 3535, 'save': 1175, 'thick': 2063, 'replace': 798, 'car': 219, 'inflate': 5053, 'opened': 1385, 'convenient': 1242, 'coaster': 3033, 'freezes': 2414, 'de': 1876, 'ft': 2273, 'bills': 2563, 'rice': 1073, 'toro': 4868, 'barcelona': 3650, 'murky': 3807, 'saw': 400, 'sauces': 4691, 'jason': 3926, 'shape': 2787, 'publicly': 4737, 'flavor': 369, 'chalkboard': 3029, 'study': 1673, 'composed': 3600, 'everything': 133, 'designs': 2678, 'sketchy': 2359, 'power': 964, 'pseudo': 3604, 'cg': 3757, 'terminology': 3906, 'frightening': 1380, 'suffering': 1852, 'our': 109, '8pm': 4292, 'shirley': 3072, 'despite': 703, 'section': 4527, 'masterpiece': 1742, 'heart': 641, 'expression': 3251, 'truly': 428, 'barking': 4046, 'limitations': 3277, 'distressed': 2966, 'pine': 5045, 'venue': 4843, 'waterproof': 2590, 'aye': 2995, 'murder': 3092, 'carpaccio': 4913, 'sick': 636, 'used': 179, 'sleep': 2049, 'towards': 1033, 'foot': 4658, 'spock': 4155, 'beautiful': 278, 'tension': 1795, 'prime': 1679, 'darn': 2945, 'discarded': 2691, 'exclaim': 2781, 'huston': 4225, 'spring': 1223, 'offend': 3695, 'circumstances': 1908, 'h500': 2400, 'yet': 406, 'screens': 2732, 'gay': 4472, 'filmiing': 3793, '6': 1121, 'putting': 1303, 'natural': 2107, 'still': 128, 'each': 324, 'ignored': 4965, 'well': 51, 'dine': 2165, 'pleather': 2390, 'favor': 2129, 'ho': 3022, 'dance': 1062, 'alot': 2900, 'geeky': 2335, 'gosh': 1568, 'what': 76, 'anguish': 4066, 'asked': 861, 'belt': 784, 'jerks': 2475, 'weird': 938, 'aailiyah': 4076, 'plmer': 3733, 'expert': 2045, 'charisma': 1811, 'sympathetic': 3386, 'thai': 870, 'off': 155, 'guess': 503, 'comes': 553, 'resolution': 1518, 'secondly': 3202, 'appears': 1157, 'party': 754, 'force': 4242, 'sells': 3622, 'vx9900': 2555, 'no': 56, 'lasting': 1095, 'century': 1960, 'suprised': 2813, 'avoiding': 2651, 'intrigued': 3645, 'former': 3536, 'spacey': 4281, 'hollywood': 1901, 'unreal': 4745, 'razor': 2444, 'dinners': 4780, 'sight': 2854, 'kidnapped': 3883, 'name': 4878, 'rejection': 4002, 'fisted': 4058, '325': 2735, 'fleshed': 4202, 'tartar': 4664, 'remorse': 2548, 'gyros': 2176, 'fun': 435, 'pancakes': 2216, 'running': 716, 'bartender': 2158, 'um': 3816, 'decay': 2030, 'krussel': 2793, 'cutie': 4466, 'bells': 2775, 'crêpe': 5120, 'manufacturer': 2705, 'images': 2333, 'intentions': 3244, 'relationships': 2011, \"crowe's\": 4405, 'needlessly': 3511, 'earpieces': 1136, 'happened': 702, 'lightweight': 919, 'searched': 2534, 'procedure': 2553, 'lost': 489, 'unconditional': 4061, 'screenplay': 2979, 'creature': 3766, 'receive': 1725, 'bt50': 2546, 'pile': 1914, 'room': 597, 'purcashed': 2334, 'screams': 4979, 'places': 507, 'host': 4586, '2007': 5019, 'hostess': 4966, 'awkwardly': 1938, 'olives': 4930, 'round': 1915, 'earpad': 2528, 'yeah': 1309, 'laughable': 2044, 'defined': 3328, 'far': 175, 'conflict': 1304, 'obsessed': 4471, 'brain': 1314, 'incrediable': 2595, 'short': 349, 'parts': 1037, 'idiotic': 3664, 'ryans': 3443, 's': 908, 'bouchon': 4799, 'dying': 1610, 'orders': 1196, 'bubbling': 2611, 'clothes': 4486, 'assistant': 1874, 'trippy': 5216, 'bright': 3784, 'scale': 1377, 'miss': 2005, 'psychological': 1840, 'deep': 2121, 'fairly': 896, 'convoluted': 3545, 'actress': 1337, 'artless': 3162, 'hanks': 3027, 'jessica': 4351, 'saved': 2899, 'auju': 5009, 'factor': 2430, 'tape': 2489, 'owed': 3990, 'dancing': 1327, 'actual': 4580, 'peanuts': 5175, 'allergy': 5171, 'baba': 4986, 'chills': 3050, \"somethat's\": 4980, 'extant': 3960, 'nimoy': 4152, 'defeats': 2423, 'wedges': 4956, 'connections': 3302, \"taylor's\": 3576, 'sequels': 4388, 'deuchebaggery': 5238, 'restaurants': 1451, 'cannot': 502, 'corded': 2783, 'colder': 5082, 'recently': 773, 'complete': 994, 'strokes': 3138, 'engaging': 2012, 'mobile': 750, 'koteas': 3390, 'styling': 2942, 'overdue': 2978, '18': 2769, 'bunch': 1006, 'di': 4365, 'starts': 936, 'sincere': 4413, 'solidify': 5239, '17': 1957, 'tolerate': 3329, 'applause': 3093, 'a': 4, 'trooper': 3364, 'broad': 3796, 'cole': 2047, 'vitally': 2983, 'bar': 504, 'acceptable': 2738, 'innocence': 4138, 'valley': 2177, 'ps3': 2846, 'pillow': 3133, 'rpg': 4035, 'brian': 1890, 'hamburger': 5247, 'academy': 3947, 'ever': 65, 'evinced': 4226, 'lots': 708, 'refurb': 2713, 'ten': 1049, 'disgrace': 2048, 'loudspeaker': 2477, 'nightmare': 2864, 'baklava': 4984, 'needless': 1098, 'lastly': 5106, 'wallet': 2425, 'references': 2096, 'despised': 3654, 'turned': 792, 'dylan': 5034, 'mishima': 1824, 'explains': 4325, 'elegant': 1502, 'manna': 3064, 'fat': 1383, 'themes': 1797, 'soyo': 2493, 'flaming': 4478, 'classical': 3802, \"'ive\": 3495, 'steamboat': 3708, 'welcome': 4678, 'overs': 3879, 'purchased': 899, 'savor': 4195, 'lets': 3704, 'connect': 2759, 'drinking': 5234, 'task': 3912, 'shower': 2186, 'versatile': 3381, 'dissapointed': 2821, 'functions': 2640, 'lid': 3498, 'dont': 667, 'quinn': 1801, 'choux': 4852, 'commercials': 2283, 'giving': 1161, 'disappointment': 421, 'presence': 1756, 'lighting': 1400, 'meld': 4267, 'ad': 2578, 'grainy': 4176, 'ended': 797, 'reasonably': 776, 'delicioso': 4755, '80': 3719, 'authentic': 598, 'follows': 4258, 'inconsiderate': 4778, 'replacementr': 2682, 'regardless': 3866, 'ireland': 3384, 'belmondo': 3267, 'portrayed': 3444, 'blue': 652, 'major': 1487, 'house': 487, 'heaven': 1773, 'kindle': 2282, 'virus': 3772, 'secondary': 4339, 'mickey': 1396, 'unwrapped': 5258, 'horse': 3129, 'child': 678, 'colours': 3300, 'should': 222, 'fantasy': 3262, 'clever': 684, 'mall': 2222, \"'film'\": 3153, 'hairsplitting': 3223, 'stocking': 3177, 'dieing': 2874, '1948': 3675, \"'so\": 4011, 'follow': 998, 'stir': 2207, 'provokes': 3143, 'speed': 1107, 'crusty': 5264, 'five': 974, 'trailer': 3001, 'mains': 4679, 'saganaki': 4722, 'reading': 793, \"culture's\": 4274, 'every': 141, 'prelude': 3094, 'lower': 3566, 'hopefully': 2102, 'ratings': 1793, 'wave': 2120, 'neither': 1168, 'given': 555, 'unlockable': 2994, 'kits': 2504, 'originality': 3787, 'bill': 1479, 'improvement': 1641, 'unsatisfying': 4559, 'date': 1243, 'desserts': 1482, 'phantasm': 4214, 'everyday': 2315, 'been': 101, 'flipphones': 2724, 'keep': 499, 'edge': 1198, 'stream': 2303, 'pork': 1078, 'gaudi': 3652, 'aimless': 2965, 'humanity': 4410, 'fancy': 5067, 'correct': 1782, 'robert': 1895, 'liking': 4588, 'significant': 1273, 'accessory': 2704, 'enjoyed': 342, 'replacement': 1151, 'mein': 4530, 'deserved': 1998, 'irda': 2964, 'like': 36, 'looking': 390, 'cradles': 2503, 'reality': 1958, 'cuts': 1721, 'slim': 1519, 'pocket': 1104, 'cibo': 5024, 'weariness': 3248, \"i'm\": 100, 'ayce': 4698, 'moments': 1791, 'marrow': 2157, 'string': 3565, 'grace': 1282, 'wound': 5270, 'pledge': 3222, \"upa's\": 3945, 'foolish': 3818, 'game': 510, 'gordon': 4765, 'solid': 606, 'vulcan': 4163, 'informative': 4976, 'greedy': 4729, 'miserably': 4308, 'sch': 2802, 'cartoon': 1311, 'lesser': 1758, 'prompt': 1599, 'prompted': 3689, 'knocked': 3105, 'result': 2066, 'outside': 602, 'memorable': 733, 'transmit': 2404, 'started': 373, 'owners': 1091, 'shortlist': 4238, 'glasses': 1117, 'strident': 3624, 'ground': 1972, 'joke': 694, 'bougth': 2370, 'ironically': 3201, 'hero': 3888, 'enjoy': 398, 'star': 452, 'tricky': 2958, 'zero': 693, 'club': 1779, 'airline': 4891, 'imagine': 1097, 'garbo': 3173, 'weak': 548, 'actors': 255, 'listener': 2322, 'proclaimed': 4708, 'yummy': 1074, 'disgraceful': 4918, 'cellular': 2525, 'casted': 3478, 'chefs': 4714, 'mature': 1299, 'seamless': 4270, 'pointillistic': 3859, 'extra': 700, 'legendary': 3197, 'team': 3633, 'v325i': 2765, 'dialogue': 366, 'idiot': 1785, 'years': 182, 'flavorless': 2260, 'ebola': 3771, 'distracting': 2751, 'seuss': 3942, 'laughed': 3500, \"pray's\": 4358, 'art': 365, 'them': 117, 'adapter': 2952, 'court': 2074, 'integral': 3949, 'system': 4134, '25': 1855, 'threw': 2599, 'ending': 431, 'okay': 3763, 'minute': 767, 'complex': 1839, '2005': 1728, 'treat': 1308, 'stereo': 2432, 'interested': 1225, 'periodically': 2729, 'award': 3948, 'imdb': 3111, 'brevity': 3542, 'expensive': 941, 'heels': 3015, 'happening': 2642, 'angles': 1737, 'interface': 2675, 'nuns': 3071, 'problems': 302, 'truth': 3916, 'slurs': 3698, 'more': 72, 'drink': 1081, 'credit': 1979, 'spy': 3882, 'lucio': 4094, 'rushed': 4824, 'usage': 2460, 'beat': 808, 'occupied': 1232, 'share': 910, 'plastic': 689, 'developments': 3238, 'proceedings': 1933, 'shameful': 3367, 'shakespears': 3939, \"fi's\": 3897, 'photo': 2577, 'protects': 2491, 'tooth': 1491, 'superb': 592, 'cry': 3118, 'football': 4084, 'leaves': 1354, 'fully': 1617, 'forget': 893, 'issues': 918, 'tartare': 4869, 'hold': 655, 'earphone': 2286, 'tacky': 4154, 'competent': 3615, 'proven': 4972, 'cranberry': 4501, 'looks': 329, 'mess': 420, 'insanely': 4975, 'consequences': 3975, 'were': 43, 'cross': 3045, 'dirt': 2175, 'anne': 1762, 'raspberry': 4642, 'texture': 1429, 'blacktop': 2522, 'scene': 319, 'views': 3649, 'bend': 2903, 'ninja': 5268, 'investment': 2393, 'die': 2152, 'prepare': 5142, 'bmw': 2312, 'wholesome': 1878, 'corporation': 4730, 'purchase': 330, 'doctor': 2069, 'faux': 1272, 'accept': 1681, 'normally': 1659, 'surely': 4240, 'look': 160, 'mouse': 1970, 'hours': 414, 'hiro': 4520, 'subjects': 4169, 'drastically': 4969, 'phones': 443, 'strange': 1152, 'famed': 3651, 'gourmet': 4807, 'hella': 4617, 'essence': 4420, 'pastry': 4853, 'already': 1012, 'pandering': 3205, 'internet': 593, 'anti': 2823, 'sucker': 4929, 'volume': 371, 'craving': 4772, 'loneliness': 2103, \"fox's\": 3673, 'theatrical': 3969, 'thread': 4314, 'sensor': 2871, 'women': 1313, 'qwerty': 2339, 'excruciatingly': 3106, 'producer': 3578, 'younger': 4289, 'calls': 328, 'halibut': 4782, 'though': 260, 'lit': 2536, 'sweep': 3797, 'slipping': 2780, 'there': 48, 'adorable': 682, 'lucy': 1887, 'toast': 1520, 'who': 105, 'risk': 2531, 'everyone': 325, 'plugged': 1166, 'hear': 327, 'giallo': 1413, \"bailey's\": 3951, 'surefire': 2544, 'accidentally': 1642, 'worthwhile': 1187, 'surprisingly': 1341, 'pricing': 1188, 'words': 991, 'service': 41, 'and': 2, 'wrong': 426, 'roles': 796, \"shepard's\": 3020, 'goremeister': 4093, 'such': 264, 'wont': 1702, 'washing': 3669, 'tract': 4396, \"character's\": 4065, 'nachos': 2261, 'tranquillity': 3837, 'whoa': 2782, 'exercise': 2615, 'prettier': 2392, 'irritating': 3662, 'industry': 1320, 'furthermore': 4818, 'indicate': 4504, 'z': 3672, 'latte': 5170, 'compelling': 2057, 'hs850': 2375, 'villain': 3095, 'breeze': 5011, 'part': 272, 'boring': 432, 'bigger': 5257, 'tons': 3712, 'francis': 3313, 'hatred': 3505, 'puzzle': 2988, 'males': 3981, 'garage': 3997, 'daily': 4880, 'actor': 464, 'figured': 4736, 'worry': 3038, 'several': 372, 'anytime': 877, 'aspects': 3754, 'come': 275, 'original': 437, 'understand': 394, 'uhura': 4166, 'industrial': 2726, \"huston's\": 1894, 'learned': 2407, 'cold': 469, 'coupon': 2844, 'blueant': 2799, 'floppy': 2910, 'plot': 172, 'review': 607, 'macbeth': 2027, 'bad': 46, 'perpared': 4931, 'san': 4804, 'delivery': 1624, 'racial': 1395, 'package': 2618, 'sugar': 4936, '2mp': 2297, 'crappy': 2672, 'dull': 2016, 'sorely': 5031, 'may': 380, 'towers': 3653, 'pub': 4519, 'beyond': 630, 'food': 35, 'choice': 757, 'when': 71, \"childrens'\": 4394, 'rare': 707, 'user': 1190, 'depressing': 1809, 'definitly': 2346, 'relations': 1927, 'connery': 3927, 'memorized': 4053, 'securely': 2947, 'told': 560, 'because': 83, 'doubt': 1423, 'terms': 1741, 'reccommend': 2822, 'competitors': 2898, 'instruments': 4188, 'animation': 1427, 'ham': 4057, 'human': 571, 'aside': 1969, 'sandwiches': 5148, 'mountain': 4159, 'hoot': 4483, 'practical': 1646, 'mentioned': 2496, 'ridiculous': 715, 'swivel': 2879, 'he': 78, 'speaker': 1205, \"pixar's\": 4434, 'escalating': 3973, 'guest': 5051, 'delish': 1447, 'containers': 5115, 'black': 279, 'talent': 1829, 'based': 2076, 'rude': 576, 'brand': 1660, 'clean': 525, 'vegetarian': 1455, 'good': 18, 'written': 624, 'severe': 2708, \"viewer's\": 4235, 'removing': 1580, 'practically': 1587, 'strength': 2647, 'shine': 2420, 'menace': 3893, 'upper': 3691, 'protector': 1701, 'unfortunately': 395, 'portion': 2134, 'six': 2151, 'inside': 459, 'jack': 1680, 'wartime': 3833, 'swamp': 3286, 'magic': 5013, 'creaks': 2830, 'debut': 4369, 'silently': 4703, 'am': 140, 'mystifying': 4343, 'hang': 3559, 'messaging': 2957, 'moods': 4973, 'general': 4189, 'jutland': 4187, 'plan': 1126, 'juano': 4220, 'brilliance': 1275, 'charger': 241, 'properly': 1202, 'luke': 4512, 'baseball': 4760, 'mango': 5012, 'lukewarm': 2219, 'blare': 3626, 'portrayal': 724, 'floor': 2831, 'exchanged': 1628, 'rumbles': 3207, 'bite': 2127, 'whose': 2290, 'greek': 1436, 'greeted': 2170, 'evokes': 4174, 'ganoush': 4987, 'steaks': 1077, 'goalies': 3348, 'tonight': 1776, 'she': 194, 'sim': 2766, 'macarons': 4974, 'durable': 2428, 'educational': 3358, 'canada': 1749, 'count': 4728, 'houses': 4476, 'hope': 634, 'said': 285, 'unbearably': 3965, 'means': 1153, 'handheld': 2586, 'killings': 4265, 'atrocious': 2094, 'recieve': 2502, 'aluminum': 2583, 'inspiration': 4000, 'reviews': 701, 'wide': 1872, 'dustpan': 2814, 'credible': 3935, 'earbuds': 2462, 'falls': 1733, 'bowl': 2178, 'decade': 2676, 'daughters': 4380, 'attached': 4874, 'eve': 5203, 'cost': 969, 'deal': 393, 'run': 885, 'unrecommended': 3171, 'schrader': 1827, 'succeeds': 3009, 'platter': 4711, 'pleasing': 4034, 'deliver': 2084, '350': 2329, 'larger': 5037, 'l7c': 2371, 'menu': 321, 'intangibles': 4233, 'bumpers': 2479, 'head': 984, 'francisco': 4805, 'cheesecurds': 4896, 'factory': 3589, 'flop': 5255, 'doughy': 5158, 'dissapointing': 2689, 'middle': 1966, 'author': 3212, 'adrift': 3217, 'blanket': 4601, \"let's\": 1981, 'unlike': 2363, 'noir': 1838, 'yum': 2193, 'narration': 3460, 'holiday': 4492, 'waster': 4042, 'organizational': 2471, 'weaker': 3087, 'body': 3727, 'mouths': 5025, 'guy': 1032, 'union': 4271, 'freezing': 4697, 'scamp': 1042, 'lives': 1774, \"there's\": 418, 'mail': 2385, 'recover': 3154, 'mesquite': 4838, 'disgust': 4524, 'enter': 1608, 'amusing': 3544, 'periods': 2809, 'beep': 1258, 'limited': 1994, 'embarassing': 2490, 'crocs': 3285, 'texas': 2796, 'lasted': 2959, 'hole': 4511, 'sophisticated': 4307, 'creativity': 4272, 'giovanni': 4183, 'frozen': 1435, 'fulfills': 2917, 'rendition': 3074, 'cast': 276, 'upgrading': 4857, 'held': 5098, 'dealing': 2191, 'sven': 3395, 'touches': 1735, 'track': 4421, 'bohemian': 3832, 'parker': 4316, 'diabetic': 3910, 'then': 144, 'helpful': 477, 'sole': 3783, 'voyage': 3169, 'push': 1595, 'shifting': 2610, 'supernatural': 4313, 'positive': 1905, 'energy': 999, 'reaching': 2862, 'pace': 1399, 'brutal': 4336, \"tv's\": 4687, 'origins': 4327, 'smartphone': 2825, 'packed': 5110, 'legal': 4136, 'topic': 4821, 'accompanied': 2343, 'bread': 875, 'flavors': 5001, 'control': 1262, 'burgers': 1079, 'recharge': 1586, 'unneeded': 3378, 'lieutenant': 3439, 'gas': 1989, 'chai': 5169, 'cannoli': 4904, 'dialing': 1584, 'exteriors': 3688, 'pap': 3627, 'yes': 975, 'patriotism': 3253, 'minutes': 151, 'master': 1832, 'stratus': 3055, 'episode': 1300, 'type': 922, 'person': 756, 'against': 1727, 'accident': 4517, 'shooters': 2698, 'rocketed': 2557, 'fooled': 2276, 'has': 53, 'grilled': 2249, 'freaking': 4953, 'sidelined': 3863, 'painted': 3140, 'signal': 668, 'sobering': 3024, 'bertolucci': 3862, 'cases': 699, 'less': 415, 'booking': 2838, 'julian': 3984, 'sequel': 1750, 'please': 802, 'unit': 554, 'semi': 4298, 'distant': 4105, 'destroying': 2443, 'underappreciated': 3421, 'stephen': 3526, 'timeframe': 1637, 'customers': 2133, 'moral': 2029, 'awkward': 1709, 'certain': 1729, 'distorted': 1604, 'rick': 4493, 'refill': 2139, 'damian': 3380, 'calligraphy': 5049, 'tell': 387, 'solving': 2989, 'sister': 1715, 'keypads': 2932, 'plantronincs': 2632, 'upbeat': 2739, 'estevez': 4370, 'technology': 1533, 'concentrate': 3042, 'ago': 493, 'rating': 711, 'wine': 1076, 'schizophrenic': 3445, 'refund': 1199, 'bond': 3377, 'insulted': 1461, 'meagre': 3010, '42': 2743, 'mclaglen': 3570, 'appetizer': 4826, 'switch': 1625, 'humorous': 1949, 'recent': 855, 'jewel': 4865, 'paul': 1312, \"wilkinson's\": 4062, 'holds': 758, \"today's\": 3466, 'sadly': 4764, 'warn': 4345, 'precisely': 3800, \"denny's\": 5210, 'changing': 1186, '2': 129, 'struggle': 2088, 'margaritas': 2235, 'peeling': 2612, 'restrained': 3057, 'rancheros': 5138, 'explorations': 3415, 'trip': 831, 'badly': 1767, 'south': 1407, 'x': 4329, 'critic': 3764, 'co': 3003, 'cooked': 648, 'motor': 2936, 'mine': 2925, 'mistakes': 3693, 'leading': 3014, 'moment': 1276, 'jenni': 4717, 'stupid': 284, 'train': 3031, 'forces': 2031, 'marion': 3180, 'storm': 3363, 'dogs': 1911, 'discomfort': 1716, 'external': 2774, 'roll': 5094, 'assure': 2226, 'masculine': 3477, 'handled': 1305, 'hereas': 5096, 'enhanced': 4177, 'slide': 2777, 'qualified': 5129, 'genuine': 957, 'flashbacks': 3461, 'double': 1248, 'backed': 3513, 'gorman': 4415, 'bisque': 2187, 'playing': 513, 'talented': 1277, 'casting': 718, 'chipolte': 5221, 'beats': 2685, 'extremely': 386, 'here': 64, 'put': 384, 'media': 2756, 'holding': 1207, 'documentary': 1393, 'bottowm': 2883, 'inexperience': 3113, \"we've\": 2228, 'disconnected': 2384, \"one's\": 4490, 'messages': 1535, 'further': 2092, 'attacked': 2441, 'flag': 3301, 'wayne': 1815, 'scratch': 2613, 'vx': 2584, 'styrofoam': 4522, 'designed': 1671, 'fail': 2254, 'mexican': 1023, 'hit': 673, 'dialog': 1288, 'latest': 1549, 'anywhere': 2790, 'sos': 2757, 'ass': 2046, \"else's\": 3977, 'fondue': 5209, 'understatement': 3631, 'ranks': 1343, 'basement': 2351, 'post': 2980, 'detailing': 3271, 'enjoyment': 3338, 'classics': 5030, 'hoped': 2857, 'moto': 1614, 'year': 313, 'grab': 4518, 'tick': 2416, 'bag': 3525, 'shoots': 4600, 'thrillers': 4095, 'marbles': 3685, 'loud': 580, 'thriller': 839, 'boxes': 5119, 'join': 5080, 'or': 57, 'salsa': 1485, 'owning': 2894, 'toilet': 2325, 'wire': 5160, 'slavic': 3334, 'could': 95, 'london': 3835, 'velvet': 4508, 'supporting': 4222, 'wind': 806, 'babbling': 3602, 'indoors': 2815, 'waaay': 2320, 'through': 362, 'touching': 1296, 'treated': 1454, 'apologize': 5232, 'thumbs': 812, 'skype': 1596, 'highest': 1700, 'abound': 2741, 'itself': 568, 'spacek': 3191, 'improvisation': 3037, 'installed': 2438, 'teeth': 1991, 'guards': 4168, 'logitech': 1529, 'clicks': 2277, 'twice': 569, 'prepared': 2056, 'not': 13, 'at': 34, 'peachy': 2348, 'proudly': 3801, 'world': 482, 'poured': 5269, 'elaborately': 4353, 'interim': 3786, 'produced': 1391, 'remake': 1301, 'pancake': 4883, \"won't\": 184, 'fulci': 2060, 'venturing': 4590, 'network': 912, 'turkey': 1974, 'grasp': 4236, 'medical': 3905, 'find': 247, 'life': 176, 'picture': 442, 'tv': 505, 'fourth': 2635, \"it'll\": 4944, 'description': 1143, 'official': 2895, 'downloading': 2638, 'lust': 3843, 'flat': 817, 'sat': 725, 'all': 31, 'mediterranean': 5176, 'couldnt': 2285, 'con': 5229, 'i': 3, 'whatever': 615, 'sun': 4905, 'tater': 4847, 'in': 11, 'qualities': 3740, 'surprise': 5100, 'european': 1907, 'months': 439, 'universe': 3632, 'somewhere': 2829, 'brownish': 5253, 'best': 61, 'celebration': 3252, 'bloody': 4958, \"costco's\": 5154, 'foods': 5130, 'g': 3046, 'don': 4182, 'difficult': 691, 'nonsense': 1405, 'lg': 929, 'often': 827, 'living': 677, 'visor': 2719, 'cox': 4348, 'right': 143, 'locks': 2731, 'whoever': 3052, 'workers': 5226, 'worthless': 889, 'punched': 3186, 'calamari': 5208, 'dvd': 1328, 'silly': 3676, 'exceptionally': 4489, 'bullock': 1790, 'recurring': 4102, 'townsend': 4074, 'within': 587, 'bitches': 4587, 'explanation': 1812, 'mozzarella': 5107, 'felt': 311, 'documentaries': 2039, 'deaf': 2391, 'cod': 4499, 'apparently': 1516, 'recommendation': 1430, 'gonna': 1108, 'serivce': 4655, 'conversations': 1094, 'grey': 2694, 'cheaply': 1602, 'managed': 1259, 'units': 2792, 'taken': 4455, 'describe': 1254, 'smoother': 2819, 'seperate': 4338, \"loewenhielm's\": 4190, '8': 600, 'probably': 226, 'inconsistencies': 3234, 'school': 3507, 'suggests': 3851, 'folks': 1086, 'usable': 2301, 'fish': 730, 'landscapes': 3798, 'ca': 2742, 'situations': 1508, 'camera': 201, 'compromise': 1522, 'gotten': 930, 'send': 1253, 'covers': 4752, 'fascinating': 1948, 'plane': 3711, 'pecan': 4889, 'scallop': 2138, 'bit': 312, 'spoil': 2095, '0': 1922, 'producers': 3898, 'stick': 3441, 'fall': 763, 'ring': 1554, 'groups': 4845, 'relationship': 1873, 'dit': 2797, 'sugary': 2150, 'reccomendation': 2352, 'pink': 4529, 'noteworthy': 1818, 'sources': 2772, 'impeccable': 2224, 'aurvåg': 3636, 'fridays': 4651, 'browsing': 2361, 'milkshake': 4543, 'breakfast': 474, 'defensemen': 3347, 'trond': 3634, 'depicts': 2113, 'sad': 860, 'case': 157, 'treatments': 4081, \"aren't\": 828, '1998': 4449, 'makes': 244, 'raw': 3967, 'luck': 1667, 'brilliant': 590, 'overall': 271, 'items': 2354, 'earth': 2054, 'brings': 2008, 'decent': 476, 'listed': 4623, 'bonuses': 4458, \"haven't\": 814, 'interior': 4507, 'exceptional': 978, 'instead': 658, 'diverse': 4616, 'almost': 337, 'decor': 1457, 'sundays': 4463, 'humans': 1542, 'call': 357, 'described': 1630, 'temp': 5141, '375': 2326, \"laughable'\": 4012, 'patent': 4008, 'wilkinson': 2036, \"family's\": 3375, 'puff': 2817, 'businesses': 4960, 'occasions': 5165, 'debbie': 3533, 'buyit': 2684, 'disgusting': 973, 'sack': 3089, 'seamlessly': 1514, 'maintains': 2888, 'walkman': 2658, 'added': 1428, 'shell': 4045, 'turns': 892, 'low': 297, \"roosevelt's\": 3440, 'distinction': 3161, 'fixes': 2636, 'humiliated': 4876, 'stays': 2745, 'resounding': 3026, 'fry': 1160, 'consistent': 2099, 'chef': 1087, 'numerous': 1650, 'helps': 1784, 'warm': 645, 'roasted': 2155, 'heroes': 3182, \"you're\": 740, 'french': 1759, 'composition': 1889, 'opinion': 2080, 'collective': 4216, 'smith': 3620, 'possesed': 2654, 'makers': 3056, 'received': 408, 'blows': 4652, 'smelled': 4551, 'mostly': 544, 'backdrop': 4199, 'boyle': 4250, 'realised': 3873, 'showed': 985, 'alarm': 2456, 'pans': 4068, 'assumed': 2954, 'promised': 2716, 'soggy': 1463, '\\x96': 822, 'adventure': 3442, 'sucked': 397, 'loudest': 2897, '1995': 3752, '3': 305, 'fifteen': 2001, 'underrated': 3806, 'simmering': 3828, 'igo': 1545, 'hype': 1731, 'bay': 1082, 'stomach': 1475, 'read': 1713, '1928': 3714, 'loop': 2717, 'biographical': 3199, 'garbled': 2275, 'beeping': 2873, 'perfect': 287, 'another': 212, 'build': 1537, 'firehouse': 4528, 'accessoryone': 2549, 'considerable': 3780, 'e2': 2723, '00': 4747, 'strip': 928, 'free': 485, 'christopher': 3287, 'nyc': 1632, \"stanwyck's\": 3577, 'unexperienced': 5192, 'undercooked': 2266, 'anita': 4317, 'e715': 2673, 'fill': 1744, 'returned': 1109, 'dark': 1055, 'genuinely': 4762, 'block': 5066, 'edward': 3679, 'punches': 2991, 'nigiri': 4610, 'bat': 3174, 'fishnet': 4054, 'sarcophage': 4194, 'actresses': 1360, 'meteorite': 3749, 'obviously': 543, 'postinos': 5199, 'hard': 317, 'some': 90, 'called': 934, 'convincing': 996, 'inexcusable': 2550, 'expecting': 3561, 'cheerless': 3580, 'bates': 4373, 'pads': 2859, 'poignant': 4383, 'lense': 2955, 'gore': 3755, 'mellow': 5180, 'owned': 748, 'plans': 2564, 'seemed': 670, 'relleno': 5007, 'thorsen': 3397, 'megapixels': 2331, 'downside': 4741, 'stuffed': 2221, 'cliche': 3047, 'tuna': 2163, 'drops': 1142, 'gooodd': 4839, 'jamie': 1821, 'andddd': 4786, 'philippa': 4180, 'america': 3596, 'handmade': 4537, 'dr': 3941, 'shatner': 4151, 'access': 1674, 'wanting': 4200, 'palmtop': 2571, 'cow': 2231, 'staying': 2253, 'puree': 2182, 'evidently': 3790, \"gabriel's\": 4232, 'awesome': 236, 'omelets': 4560, 'blackberry': 1532, 'great': 20, 'howdy': 4297, 'anniversary': 4264, 'level': 823, 'succeeded': 3291, 'poor': 177, 'product': 85, 'tmobile': 2552, 'slowly': 2834, 'bulky': 2300, 'jalapeno': 5064, 'thought': 238, 'spicy': 575, 'episodes': 3372, 'pucks': 4523, 'v1': 2377, 'goes': 671, 'hearing': 2313, 'remaining': 1851, 'fluffy': 4890, 'parents': 1287, 'delicious': 208, 'progresses': 4064, 'plantronics': 926, 'resistant': 2709, 'multiple': 1236, 'lazy': 1755, 'struck': 1329, 'big': 232, 'wild': 1722, \"caballero's\": 5127, 'his': 111, 'accommodations': 4628, 'embarrassing': 778, 'mode': 2372, 'steiners': 4831, 'from': 45, 'fruit': 5112, 'charlie': 4371, 'thank': 1544, 'hell': 1306, 'cbr': 2752, 'bacon': 873, 'letdown': 4858}\n"
     ]
    }
   ],
   "source": [
    "from keras.preprocessing.text import Tokenizer\n",
    "\n",
    "tokenizer = Tokenizer(num_words=2500,split=' ')\n",
    "tokenizer.fit_on_texts(x)\n",
    "print(tokenizer.word_index)\n"
   ]
  },
  {
   "cell_type": "code",
   "execution_count": 31,
   "metadata": {},
   "outputs": [
    {
     "data": {
      "text/plain": [
       "array([[   0,    0,    0, ...,   60,    4, 2267],\n       [   0,    0,    0, ...,  157,   91,  526],\n       [   0,    0,    0, ...,   12,    1, 1093],\n       ...,\n       [   0,    0,    0, ...,   13,   75,   69],\n       [   0,    0,    0, ...,  368,  299,   40],\n       [   0,    0,    0, ...,  627,    1,  488]], dtype=int32)"
      ]
     },
     "execution_count": 31,
     "metadata": {},
     "output_type": "execute_result"
    }
   ],
   "source": [
    "from keras.preprocessing.sequence import pad_sequences\n",
    "\n",
    "X = tokenizer.texts_to_sequences(x)\n",
    "X = pad_sequences(X)\n",
    "X"
   ]
  },
  {
   "cell_type": "code",
   "execution_count": 32,
   "metadata": {},
   "outputs": [
    {
     "data": {
      "text/plain": [
       "array([[1, 0],\n       [0, 1],\n       [0, 1],\n       ...,\n       [1, 0],\n       [1, 0],\n       [1, 0]])"
      ]
     },
     "execution_count": 32,
     "metadata": {},
     "output_type": "execute_result"
    }
   ],
   "source": [
    "import numpy as np \n",
    "\n",
    "Y = []\n",
    "for val in y:\n",
    "    if(val == 0):\n",
    "        Y.append([1,0])\n",
    "    else:\n",
    "        Y.append([0,1])\n",
    "Y = np.array(Y)\n",
    "Y"
   ]
  },
  {
   "cell_type": "code",
   "execution_count": 33,
   "metadata": {},
   "outputs": [
    {
     "name": "stdout",
     "output_type": "stream",
     "text": [
      "(3000, 61)\n"
     ]
    }
   ],
   "source": [
    "print(X.shape)"
   ]
  },
  {
   "cell_type": "code",
   "execution_count": 34,
   "metadata": {},
   "outputs": [
    {
     "name": "stderr",
     "output_type": "stream",
     "text": [
      "/usr/local/lib/python3.5/dist-packages/ipykernel_launcher.py:6: UserWarning: The `dropout` argument is no longer support in `Embedding`. You can apply a `keras.layers.SpatialDropout1D` layer right after the `Embedding` layer to get the same behavior.\n  \n/usr/local/lib/python3.5/dist-packages/ipykernel_launcher.py:7: UserWarning: Update your `LSTM` call to the Keras 2 API: `LSTM(300, dropout=0.2, recurrent_dropout=0.2)`\n  import sys\n"
     ]
    },
    {
     "name": "stdout",
     "output_type": "stream",
     "text": [
      "_________________________________________________________________\nLayer (type)                 Output Shape              Param #   \n=================================================================\nembedding_2 (Embedding)      (None, 61, 128)           320000    \n_________________________________________________________________\nlstm_2 (LSTM)                (None, 300)               514800    \n_________________________________________________________________\ndense_2 (Dense)              (None, 2)                 602       \n=================================================================\nTotal params: 835,402\nTrainable params: 835,402\nNon-trainable params: 0\n_________________________________________________________________\nNone\n"
     ]
    }
   ],
   "source": [
    "import keras \n",
    "from keras.layers import Embedding, LSTM, Dense\n",
    "from keras.models import Sequential\n",
    "\n",
    "model = Sequential()\n",
    "model.add(Embedding(2500,128,input_length=X.shape[1],dropout=0.2))\n",
    "model.add(LSTM(300, dropout_U=0.2,dropout_W=0.2))\n",
    "model.add(Dense(2,activation='softmax'))\n",
    "\n",
    "model.compile(loss=keras.losses.categorical_crossentropy,optimizer='adam',metrics=['accuracy'])\n",
    "\n",
    "print(model.summary())"
   ]
  },
  {
   "cell_type": "code",
   "execution_count": 35,
   "metadata": {},
   "outputs": [
    {
     "name": "stderr",
     "output_type": "stream",
     "text": [
      "/usr/local/lib/python3.5/dist-packages/sklearn/model_selection/_split.py:2026: FutureWarning: From version 0.21, test_size will always complement train_size unless both are specified.\n  FutureWarning)\n"
     ]
    }
   ],
   "source": [
    "from sklearn.model_selection import train_test_split\n",
    "\n",
    "x_train, x_test, y_train, y_test = train_test_split(X, Y, train_size=0.8)"
   ]
  },
  {
   "cell_type": "code",
   "execution_count": 36,
   "metadata": {},
   "outputs": [
    {
     "name": "stdout",
     "output_type": "stream",
     "text": [
      "Epoch 1/10\n"
     ]
    },
    {
     "name": "stdout",
     "output_type": "stream",
     "text": [
      " - 21s - loss: 0.6821 - acc: 0.6317\n"
     ]
    },
    {
     "name": "stdout",
     "output_type": "stream",
     "text": [
      "Epoch 2/10\n"
     ]
    },
    {
     "name": "stdout",
     "output_type": "stream",
     "text": [
      " - 23s - loss: 0.4531 - acc: 0.8221\n"
     ]
    },
    {
     "name": "stdout",
     "output_type": "stream",
     "text": [
      "Epoch 3/10\n"
     ]
    },
    {
     "name": "stdout",
     "output_type": "stream",
     "text": [
      " - 26s - loss: 0.2714 - acc: 0.9046\n"
     ]
    },
    {
     "name": "stdout",
     "output_type": "stream",
     "text": [
      "Epoch 4/10\n"
     ]
    },
    {
     "name": "stdout",
     "output_type": "stream",
     "text": [
      " - 21s - loss: 0.1672 - acc: 0.9421\n"
     ]
    },
    {
     "name": "stdout",
     "output_type": "stream",
     "text": [
      "Epoch 5/10\n"
     ]
    },
    {
     "name": "stdout",
     "output_type": "stream",
     "text": [
      " - 21s - loss: 0.1032 - acc: 0.9688\n"
     ]
    },
    {
     "name": "stdout",
     "output_type": "stream",
     "text": [
      "Epoch 6/10\n"
     ]
    },
    {
     "name": "stdout",
     "output_type": "stream",
     "text": [
      " - 21s - loss: 0.0696 - acc: 0.9800\n"
     ]
    },
    {
     "name": "stdout",
     "output_type": "stream",
     "text": [
      "Epoch 7/10\n"
     ]
    },
    {
     "name": "stdout",
     "output_type": "stream",
     "text": [
      " - 24s - loss: 0.0499 - acc: 0.9900\n"
     ]
    },
    {
     "name": "stdout",
     "output_type": "stream",
     "text": [
      "Epoch 8/10\n"
     ]
    },
    {
     "name": "stdout",
     "output_type": "stream",
     "text": [
      " - 28s - loss: 0.0336 - acc: 0.9921\n"
     ]
    },
    {
     "name": "stdout",
     "output_type": "stream",
     "text": [
      "Epoch 9/10\n"
     ]
    },
    {
     "name": "stdout",
     "output_type": "stream",
     "text": [
      " - 31s - loss: 0.0324 - acc: 0.9929\n"
     ]
    },
    {
     "name": "stdout",
     "output_type": "stream",
     "text": [
      "Epoch 10/10\n"
     ]
    },
    {
     "name": "stdout",
     "output_type": "stream",
     "text": [
      " - 26s - loss: 0.0238 - acc: 0.9950\n"
     ]
    },
    {
     "data": {
      "text/plain": [
       "<keras.callbacks.History at 0x7fdcf411be80>"
      ]
     },
     "execution_count": 36,
     "metadata": {},
     "output_type": "execute_result"
    }
   ],
   "source": [
    "\n",
    "model.fit(x_train,y_train,epochs=10,verbose=2,batch_size=32)"
   ]
  },
  {
   "cell_type": "code",
   "execution_count": 39,
   "metadata": {},
   "outputs": [
    {
     "name": "stdout",
     "output_type": "stream",
     "text": [
      "\r 32/600 [>.............................] - ETA: 1s"
     ]
    },
    {
     "name": "stdout",
     "output_type": "stream",
     "text": [
      "\b\b\b\b\b\b\b\b\b\b\b\b\b\b\b\b\b\b\b\b\b\b\b\b\b\b\b\b\b\b\b\b\b\b\b\b\b\b\b\b\b\b\b\b\b\b\b\b\b\b\r 64/600 [==>...........................] - ETA: 1s"
     ]
    },
    {
     "name": "stdout",
     "output_type": "stream",
     "text": [
      "\b\b\b\b\b\b\b\b\b\b\b\b\b\b\b\b\b\b\b\b\b\b\b\b\b\b\b\b\b\b\b\b\b\b\b\b\b\b\b\b\b\b\b\b\b\b\b\b\b\b\r 96/600 [===>..........................] - ETA: 1s"
     ]
    },
    {
     "name": "stdout",
     "output_type": "stream",
     "text": [
      "\b\b\b\b\b\b\b\b\b\b\b\b\b\b\b\b\b\b\b\b\b\b\b\b\b\b\b\b\b\b\b\b\b\b\b\b\b\b\b\b\b\b\b\b\b\b\b\b\b\b\r128/600 [=====>........................] - ETA: 1s"
     ]
    },
    {
     "name": "stdout",
     "output_type": "stream",
     "text": [
      "\b\b\b\b\b\b\b\b\b\b\b\b\b\b\b\b\b\b\b\b\b\b\b\b\b\b\b\b\b\b\b\b\b\b\b\b\b\b\b\b\b\b\b\b\b\b\b\b\b\b\r160/600 [=======>......................] - ETA: 1s"
     ]
    },
    {
     "name": "stdout",
     "output_type": "stream",
     "text": [
      "\b\b\b\b\b\b\b\b\b\b\b\b\b\b\b\b\b\b\b\b\b\b\b\b\b\b\b\b\b\b\b\b\b\b\b\b\b\b\b\b\b\b\b\b\b\b\b\b\b\b\r192/600 [========>.....................] - ETA: 1s"
     ]
    },
    {
     "name": "stdout",
     "output_type": "stream",
     "text": [
      "\b\b\b\b\b\b\b\b\b\b\b\b\b\b\b\b\b\b\b\b\b\b\b\b\b\b\b\b\b\b\b\b\b\b\b\b\b\b\b\b\b\b\b\b\b\b\b\b\b\b\r224/600 [==========>...................] - ETA: 1s"
     ]
    },
    {
     "name": "stdout",
     "output_type": "stream",
     "text": [
      "\b\b\b\b\b\b\b\b\b\b\b\b\b\b\b\b\b\b\b\b\b\b\b\b\b\b\b\b\b\b\b\b\b\b\b\b\b\b\b\b\b\b\b\b\b\b\b\b\b\b\r256/600 [===========>..................] - ETA: 0s"
     ]
    },
    {
     "name": "stdout",
     "output_type": "stream",
     "text": [
      "\b\b\b\b\b\b\b\b\b\b\b\b\b\b\b\b\b\b\b\b\b\b\b\b\b\b\b\b\b\b\b\b\b\b\b\b\b\b\b\b\b\b\b\b\b\b\b\b\b\b\r288/600 [=============>................] - ETA: 0s"
     ]
    },
    {
     "name": "stdout",
     "output_type": "stream",
     "text": [
      "\b\b\b\b\b\b\b\b\b\b\b\b\b\b\b\b\b\b\b\b\b\b\b\b\b\b\b\b\b\b\b\b\b\b\b\b\b\b\b\b\b\b\b\b\b\b\b\b\b\b\r320/600 [===============>..............] - ETA: 0s"
     ]
    },
    {
     "name": "stdout",
     "output_type": "stream",
     "text": [
      "\b\b\b\b\b\b\b\b\b\b\b\b\b\b\b\b\b\b\b\b\b\b\b\b\b\b\b\b\b\b\b\b\b\b\b\b\b\b\b\b\b\b\b\b\b\b\b\b\b\b\r352/600 [================>.............] - ETA: 0s"
     ]
    },
    {
     "name": "stdout",
     "output_type": "stream",
     "text": [
      "\b\b\b\b\b\b\b\b\b\b\b\b\b\b\b\b\b\b\b\b\b\b\b\b\b\b\b\b\b\b\b\b\b\b\b\b\b\b\b\b\b\b\b\b\b\b\b\b\b\b\r384/600 [==================>...........] - ETA: 0s"
     ]
    },
    {
     "name": "stdout",
     "output_type": "stream",
     "text": [
      "\b\b\b\b\b\b\b\b\b\b\b\b\b\b\b\b\b\b\b\b\b\b\b\b\b\b\b\b\b\b\b\b\b\b\b\b\b\b\b\b\b\b\b\b\b\b\b\b\b\b\r416/600 [===================>..........] - ETA: 0s"
     ]
    },
    {
     "name": "stdout",
     "output_type": "stream",
     "text": [
      "\b\b\b\b\b\b\b\b\b\b\b\b\b\b\b\b\b\b\b\b\b\b\b\b\b\b\b\b\b\b\b\b\b\b\b\b\b\b\b\b\b\b\b\b\b\b\b\b\b\b\r448/600 [=====================>........] - ETA: 0s"
     ]
    },
    {
     "name": "stdout",
     "output_type": "stream",
     "text": [
      "\b\b\b\b\b\b\b\b\b\b\b\b\b\b\b\b\b\b\b\b\b\b\b\b\b\b\b\b\b\b\b\b\b\b\b\b\b\b\b\b\b\b\b\b\b\b\b\b\b\b\r480/600 [=======================>......] - ETA: 0s"
     ]
    },
    {
     "name": "stdout",
     "output_type": "stream",
     "text": [
      "\b\b\b\b\b\b\b\b\b\b\b\b\b\b\b\b\b\b\b\b\b\b\b\b\b\b\b\b\b\b\b\b\b\b\b\b\b\b\b\b\b\b\b\b\b\b\b\b\b\b\r512/600 [========================>.....] - ETA: 0s"
     ]
    },
    {
     "name": "stdout",
     "output_type": "stream",
     "text": [
      "\b\b\b\b\b\b\b\b\b\b\b\b\b\b\b\b\b\b\b\b\b\b\b\b\b\b\b\b\b\b\b\b\b\b\b\b\b\b\b\b\b\b\b\b\b\b\b\b\b\b\r544/600 [==========================>...] - ETA: 0s"
     ]
    },
    {
     "name": "stdout",
     "output_type": "stream",
     "text": [
      "\b\b\b\b\b\b\b\b\b\b\b\b\b\b\b\b\b\b\b\b\b\b\b\b\b\b\b\b\b\b\b\b\b\b\b\b\b\b\b\b\b\b\b\b\b\b\b\b\b\b\r576/600 [===========================>..] - ETA: 0s"
     ]
    },
    {
     "name": "stdout",
     "output_type": "stream",
     "text": [
      "\b\b\b\b\b\b\b\b\b\b\b\b\b\b\b\b\b\b\b\b\b\b\b\b\b\b\b\b\b\b\b\b\b\b\b\b\b\b\b\b\b\b\b\b\b\b\b\b\b\b\r600/600 [==============================] - 1s 2ms/step\n"
     ]
    },
    {
     "name": "stdout",
     "output_type": "stream",
     "text": [
      "RESLUT: \n 82.3333334128062 %\n"
     ]
    }
   ],
   "source": [
    "print(\"RESLUT:\", \"\\n\", model.evaluate(x_test,y_test)[1] * 100, \"%\")"
   ]
  }
 ],
 "metadata": {
  "kernelspec": {
   "display_name": "Python 2",
   "language": "python",
   "name": "python2"
  },
  "language_info": {
   "codemirror_mode": {
    "name": "ipython",
    "version": 2
   },
   "file_extension": ".py",
   "mimetype": "text/x-python",
   "name": "python",
   "nbconvert_exporter": "python",
   "pygments_lexer": "ipython2",
   "version": "2.7.6"
  }
 },
 "nbformat": 4,
 "nbformat_minor": 0
}
