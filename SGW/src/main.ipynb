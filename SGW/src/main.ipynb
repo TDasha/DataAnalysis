{
 "cells": [
  {
   "cell_type": "code",
   "execution_count": 1,
   "metadata": {
    "collapsed": true
   },
   "outputs": [],
   "source": [
    "from pandas import read_excel\n",
    "from os import getcwd\n",
    "\n",
    "dataset = read_excel(getcwd() + \"/SGW/data/dataset.xls\", \n",
    "           sheet_name=\"for_read\",\n",
    "           names=[\"Argon\", \"Nitrogen\", \"Helium\", \"Hydrocarbon_concentration\", \"Temperature\", \"Time\",\n",
    "                  \"Mass_of_wire_in_end\", \"Mass_of_reactor_at_end\", \"Increase_of_carbon_in_reactor\",\n",
    "                  \"Rate_of_growth\", \"Yield_of_carbon\"],\n",
    "           dtype={\"Argon\": int,\n",
    "                  \"Nitrogen\": int,\n",
    "                  \"Helium\": int,\n",
    "                  \"Hydrocarbon_concentration\": float,\n",
    "                  \"Temperature\": float,\n",
    "                  \"Time\": float,\n",
    "                  \"Mass_of_wire_in_end\": float,\n",
    "                  \"Mass_of_reactor_at_end\": float,\n",
    "                  \"Increase_of_carbon_in_reactor\": float,\n",
    "                  \"Rate_of_growth\": float,\n",
    "                  \"Yield_of_carbon\": float})\n",
    "\n"
   ]
  },
  {
   "cell_type": "code",
   "execution_count": 2,
   "metadata": {},
   "outputs": [
    {
     "data": {
      "text/html": [
       "<div>\n",
       "<style scoped>\n",
       "    .dataframe tbody tr th:only-of-type {\n",
       "        vertical-align: middle;\n",
       "    }\n",
       "\n",
       "    .dataframe tbody tr th {\n",
       "        vertical-align: top;\n",
       "    }\n",
       "\n",
       "    .dataframe thead th {\n",
       "        text-align: right;\n",
       "    }\n",
       "</style>\n",
       "<table border=\"1\" class=\"dataframe\">\n",
       "  <thead>\n",
       "    <tr style=\"text-align: right;\">\n",
       "      <th></th>\n",
       "      <th>Argon</th>\n",
       "      <th>Nitrogen</th>\n",
       "      <th>Helium</th>\n",
       "      <th>Hydrocarbon_concentration</th>\n",
       "      <th>Temperature</th>\n",
       "      <th>Time</th>\n",
       "      <th>Mass_of_wire_in_end</th>\n",
       "      <th>Mass_of_reactor_at_end</th>\n",
       "      <th>Increase_of_carbon_in_reactor</th>\n",
       "      <th>Rate_of_growth</th>\n",
       "      <th>Yield_of_carbon</th>\n",
       "    </tr>\n",
       "  </thead>\n",
       "  <tbody>\n",
       "    <tr>\n",
       "      <th>0</th>\n",
       "      <td>1</td>\n",
       "      <td>0</td>\n",
       "      <td>0</td>\n",
       "      <td>40</td>\n",
       "      <td>900</td>\n",
       "      <td>30</td>\n",
       "      <td>0.0881</td>\n",
       "      <td>52.5900</td>\n",
       "      <td>0.0001</td>\n",
       "      <td>0.000010</td>\n",
       "      <td>0.000010</td>\n",
       "    </tr>\n",
       "    <tr>\n",
       "      <th>1</th>\n",
       "      <td>1</td>\n",
       "      <td>0</td>\n",
       "      <td>0</td>\n",
       "      <td>40</td>\n",
       "      <td>900</td>\n",
       "      <td>60</td>\n",
       "      <td>0.0922</td>\n",
       "      <td>52.8084</td>\n",
       "      <td>0.0001</td>\n",
       "      <td>0.000007</td>\n",
       "      <td>0.000007</td>\n",
       "    </tr>\n",
       "    <tr>\n",
       "      <th>2</th>\n",
       "      <td>1</td>\n",
       "      <td>0</td>\n",
       "      <td>0</td>\n",
       "      <td>40</td>\n",
       "      <td>900</td>\n",
       "      <td>90</td>\n",
       "      <td>0.0933</td>\n",
       "      <td>46.9415</td>\n",
       "      <td>0.0001</td>\n",
       "      <td>0.000006</td>\n",
       "      <td>0.000006</td>\n",
       "    </tr>\n",
       "    <tr>\n",
       "      <th>3</th>\n",
       "      <td>1</td>\n",
       "      <td>0</td>\n",
       "      <td>0</td>\n",
       "      <td>40</td>\n",
       "      <td>1100</td>\n",
       "      <td>10</td>\n",
       "      <td>0.0843</td>\n",
       "      <td>52.5502</td>\n",
       "      <td>0.0001</td>\n",
       "      <td>0.000030</td>\n",
       "      <td>0.000030</td>\n",
       "    </tr>\n",
       "    <tr>\n",
       "      <th>4</th>\n",
       "      <td>1</td>\n",
       "      <td>0</td>\n",
       "      <td>0</td>\n",
       "      <td>40</td>\n",
       "      <td>1100</td>\n",
       "      <td>30</td>\n",
       "      <td>0.0879</td>\n",
       "      <td>51.7198</td>\n",
       "      <td>0.0001</td>\n",
       "      <td>0.000013</td>\n",
       "      <td>0.000013</td>\n",
       "    </tr>\n",
       "    <tr>\n",
       "      <th>5</th>\n",
       "      <td>1</td>\n",
       "      <td>0</td>\n",
       "      <td>0</td>\n",
       "      <td>40</td>\n",
       "      <td>1100</td>\n",
       "      <td>60</td>\n",
       "      <td>0.0894</td>\n",
       "      <td>51.7637</td>\n",
       "      <td>0.0001</td>\n",
       "      <td>0.000015</td>\n",
       "      <td>0.000015</td>\n",
       "    </tr>\n",
       "    <tr>\n",
       "      <th>6</th>\n",
       "      <td>1</td>\n",
       "      <td>0</td>\n",
       "      <td>0</td>\n",
       "      <td>40</td>\n",
       "      <td>1100</td>\n",
       "      <td>90</td>\n",
       "      <td>0.0923</td>\n",
       "      <td>52.2848</td>\n",
       "      <td>0.0002</td>\n",
       "      <td>0.000016</td>\n",
       "      <td>0.000016</td>\n",
       "    </tr>\n",
       "    <tr>\n",
       "      <th>7</th>\n",
       "      <td>1</td>\n",
       "      <td>0</td>\n",
       "      <td>0</td>\n",
       "      <td>40</td>\n",
       "      <td>1300</td>\n",
       "      <td>10</td>\n",
       "      <td>0.0910</td>\n",
       "      <td>46.9311</td>\n",
       "      <td>0.0001</td>\n",
       "      <td>0.000030</td>\n",
       "      <td>0.000030</td>\n",
       "    </tr>\n",
       "    <tr>\n",
       "      <th>8</th>\n",
       "      <td>1</td>\n",
       "      <td>0</td>\n",
       "      <td>0</td>\n",
       "      <td>40</td>\n",
       "      <td>1300</td>\n",
       "      <td>30</td>\n",
       "      <td>0.0881</td>\n",
       "      <td>51.8464</td>\n",
       "      <td>0.0001</td>\n",
       "      <td>0.000017</td>\n",
       "      <td>0.000017</td>\n",
       "    </tr>\n",
       "    <tr>\n",
       "      <th>9</th>\n",
       "      <td>1</td>\n",
       "      <td>0</td>\n",
       "      <td>0</td>\n",
       "      <td>40</td>\n",
       "      <td>1300</td>\n",
       "      <td>60</td>\n",
       "      <td>0.0894</td>\n",
       "      <td>51.6991</td>\n",
       "      <td>0.0002</td>\n",
       "      <td>0.000020</td>\n",
       "      <td>0.000020</td>\n",
       "    </tr>\n",
       "  </tbody>\n",
       "</table>\n",
       "</div>"
      ],
      "text/plain": [
       "<div>\n",
       "<style scoped>\n",
       "    .dataframe tbody tr th:only-of-type {\n",
       "        vertical-align: middle;\n",
       "    }\n",
       "\n",
       "    .dataframe tbody tr th {\n",
       "        vertical-align: top;\n",
       "    }\n",
       "\n",
       "    .dataframe thead th {\n",
       "        text-align: right;\n",
       "    }\n",
       "</style>\n",
       "<table border=\"1\" class=\"dataframe\">\n",
       "  <thead>\n",
       "    <tr style=\"text-align: right;\">\n",
       "      <th></th>\n",
       "      <th>Argon</th>\n",
       "      <th>Nitrogen</th>\n",
       "      <th>Helium</th>\n",
       "      <th>Hydrocarbon_concentration</th>\n",
       "      <th>Temperature</th>\n",
       "      <th>Time</th>\n",
       "      <th>Mass_of_wire_in_end</th>\n",
       "      <th>Mass_of_reactor_at_end</th>\n",
       "      <th>Increase_of_carbon_in_reactor</th>\n",
       "      <th>Rate_of_growth</th>\n",
       "      <th>Yield_of_carbon</th>\n",
       "    </tr>\n",
       "  </thead>\n",
       "  <tbody>\n",
       "    <tr>\n",
       "      <th>0</th>\n",
       "      <td>1</td>\n",
       "      <td>0</td>\n",
       "      <td>0</td>\n",
       "      <td>40</td>\n",
       "      <td>900</td>\n",
       "      <td>30</td>\n",
       "      <td>0.0881</td>\n",
       "      <td>52.5900</td>\n",
       "      <td>0.0001</td>\n",
       "      <td>0.000010</td>\n",
       "      <td>0.000010</td>\n",
       "    </tr>\n",
       "    <tr>\n",
       "      <th>1</th>\n",
       "      <td>1</td>\n",
       "      <td>0</td>\n",
       "      <td>0</td>\n",
       "      <td>40</td>\n",
       "      <td>900</td>\n",
       "      <td>60</td>\n",
       "      <td>0.0922</td>\n",
       "      <td>52.8084</td>\n",
       "      <td>0.0001</td>\n",
       "      <td>0.000007</td>\n",
       "      <td>0.000007</td>\n",
       "    </tr>\n",
       "    <tr>\n",
       "      <th>2</th>\n",
       "      <td>1</td>\n",
       "      <td>0</td>\n",
       "      <td>0</td>\n",
       "      <td>40</td>\n",
       "      <td>900</td>\n",
       "      <td>90</td>\n",
       "      <td>0.0933</td>\n",
       "      <td>46.9415</td>\n",
       "      <td>0.0001</td>\n",
       "      <td>0.000006</td>\n",
       "      <td>0.000006</td>\n",
       "    </tr>\n",
       "    <tr>\n",
       "      <th>3</th>\n",
       "      <td>1</td>\n",
       "      <td>0</td>\n",
       "      <td>0</td>\n",
       "      <td>40</td>\n",
       "      <td>1100</td>\n",
       "      <td>10</td>\n",
       "      <td>0.0843</td>\n",
       "      <td>52.5502</td>\n",
       "      <td>0.0001</td>\n",
       "      <td>0.000030</td>\n",
       "      <td>0.000030</td>\n",
       "    </tr>\n",
       "    <tr>\n",
       "      <th>4</th>\n",
       "      <td>1</td>\n",
       "      <td>0</td>\n",
       "      <td>0</td>\n",
       "      <td>40</td>\n",
       "      <td>1100</td>\n",
       "      <td>30</td>\n",
       "      <td>0.0879</td>\n",
       "      <td>51.7198</td>\n",
       "      <td>0.0001</td>\n",
       "      <td>0.000013</td>\n",
       "      <td>0.000013</td>\n",
       "    </tr>\n",
       "    <tr>\n",
       "      <th>5</th>\n",
       "      <td>1</td>\n",
       "      <td>0</td>\n",
       "      <td>0</td>\n",
       "      <td>40</td>\n",
       "      <td>1100</td>\n",
       "      <td>60</td>\n",
       "      <td>0.0894</td>\n",
       "      <td>51.7637</td>\n",
       "      <td>0.0001</td>\n",
       "      <td>0.000015</td>\n",
       "      <td>0.000015</td>\n",
       "    </tr>\n",
       "    <tr>\n",
       "      <th>6</th>\n",
       "      <td>1</td>\n",
       "      <td>0</td>\n",
       "      <td>0</td>\n",
       "      <td>40</td>\n",
       "      <td>1100</td>\n",
       "      <td>90</td>\n",
       "      <td>0.0923</td>\n",
       "      <td>52.2848</td>\n",
       "      <td>0.0002</td>\n",
       "      <td>0.000016</td>\n",
       "      <td>0.000016</td>\n",
       "    </tr>\n",
       "    <tr>\n",
       "      <th>7</th>\n",
       "      <td>1</td>\n",
       "      <td>0</td>\n",
       "      <td>0</td>\n",
       "      <td>40</td>\n",
       "      <td>1300</td>\n",
       "      <td>10</td>\n",
       "      <td>0.0910</td>\n",
       "      <td>46.9311</td>\n",
       "      <td>0.0001</td>\n",
       "      <td>0.000030</td>\n",
       "      <td>0.000030</td>\n",
       "    </tr>\n",
       "    <tr>\n",
       "      <th>8</th>\n",
       "      <td>1</td>\n",
       "      <td>0</td>\n",
       "      <td>0</td>\n",
       "      <td>40</td>\n",
       "      <td>1300</td>\n",
       "      <td>30</td>\n",
       "      <td>0.0881</td>\n",
       "      <td>51.8464</td>\n",
       "      <td>0.0001</td>\n",
       "      <td>0.000017</td>\n",
       "      <td>0.000017</td>\n",
       "    </tr>\n",
       "    <tr>\n",
       "      <th>9</th>\n",
       "      <td>1</td>\n",
       "      <td>0</td>\n",
       "      <td>0</td>\n",
       "      <td>40</td>\n",
       "      <td>1300</td>\n",
       "      <td>60</td>\n",
       "      <td>0.0894</td>\n",
       "      <td>51.6991</td>\n",
       "      <td>0.0002</td>\n",
       "      <td>0.000020</td>\n",
       "      <td>0.000020</td>\n",
       "    </tr>\n",
       "  </tbody>\n",
       "</table>\n",
       "</div>"
      ]
     },
     "execution_count": 2,
     "metadata": {},
     "output_type": "execute_result"
    }
   ],
   "source": [
    "dataset.head(10)"
   ]
  },
  {
   "cell_type": "code",
   "execution_count": 3,
   "metadata": {},
   "outputs": [
    {
     "data": {
      "text/html": [
       "<div>\n",
       "<style scoped>\n",
       "    .dataframe tbody tr th:only-of-type {\n",
       "        vertical-align: middle;\n",
       "    }\n",
       "\n",
       "    .dataframe tbody tr th {\n",
       "        vertical-align: top;\n",
       "    }\n",
       "\n",
       "    .dataframe thead th {\n",
       "        text-align: right;\n",
       "    }\n",
       "</style>\n",
       "<table border=\"1\" class=\"dataframe\">\n",
       "  <thead>\n",
       "    <tr style=\"text-align: right;\">\n",
       "      <th></th>\n",
       "      <th>Argon</th>\n",
       "      <th>Nitrogen</th>\n",
       "      <th>Helium</th>\n",
       "      <th>Hydrocarbon_concentration</th>\n",
       "      <th>Temperature</th>\n",
       "      <th>Time</th>\n",
       "      <th>Mass_of_wire_in_end</th>\n",
       "      <th>Mass_of_reactor_at_end</th>\n",
       "      <th>Increase_of_carbon_in_reactor</th>\n",
       "      <th>Rate_of_growth</th>\n",
       "      <th>Yield_of_carbon</th>\n",
       "    </tr>\n",
       "  </thead>\n",
       "  <tbody>\n",
       "    <tr>\n",
       "      <th>count</th>\n",
       "      <td>83.000000</td>\n",
       "      <td>83.000000</td>\n",
       "      <td>83.000000</td>\n",
       "      <td>83.000000</td>\n",
       "      <td>83.000000</td>\n",
       "      <td>83.000000</td>\n",
       "      <td>83.000000</td>\n",
       "      <td>83.000000</td>\n",
       "      <td>83.000000</td>\n",
       "      <td>83.000000</td>\n",
       "      <td>83.000000</td>\n",
       "    </tr>\n",
       "    <tr>\n",
       "      <th>mean</th>\n",
       "      <td>0.277108</td>\n",
       "      <td>0.289157</td>\n",
       "      <td>0.289157</td>\n",
       "      <td>61.686747</td>\n",
       "      <td>1102.409639</td>\n",
       "      <td>47.951807</td>\n",
       "      <td>0.081216</td>\n",
       "      <td>49.381673</td>\n",
       "      <td>0.000152</td>\n",
       "      <td>0.000036</td>\n",
       "      <td>0.000036</td>\n",
       "    </tr>\n",
       "    <tr>\n",
       "      <th>std</th>\n",
       "      <td>0.450291</td>\n",
       "      <td>0.456127</td>\n",
       "      <td>0.456127</td>\n",
       "      <td>21.116360</td>\n",
       "      <td>163.778482</td>\n",
       "      <td>30.394120</td>\n",
       "      <td>0.011875</td>\n",
       "      <td>2.616533</td>\n",
       "      <td>0.000103</td>\n",
       "      <td>0.000025</td>\n",
       "      <td>0.000025</td>\n",
       "    </tr>\n",
       "    <tr>\n",
       "      <th>min</th>\n",
       "      <td>0.000000</td>\n",
       "      <td>0.000000</td>\n",
       "      <td>0.000000</td>\n",
       "      <td>40.000000</td>\n",
       "      <td>900.000000</td>\n",
       "      <td>10.000000</td>\n",
       "      <td>0.052600</td>\n",
       "      <td>46.815900</td>\n",
       "      <td>0.000100</td>\n",
       "      <td>0.000005</td>\n",
       "      <td>0.000005</td>\n",
       "    </tr>\n",
       "    <tr>\n",
       "      <th>25%</th>\n",
       "      <td>0.000000</td>\n",
       "      <td>0.000000</td>\n",
       "      <td>0.000000</td>\n",
       "      <td>40.000000</td>\n",
       "      <td>900.000000</td>\n",
       "      <td>30.000000</td>\n",
       "      <td>0.070500</td>\n",
       "      <td>47.035600</td>\n",
       "      <td>0.000100</td>\n",
       "      <td>0.000017</td>\n",
       "      <td>0.000017</td>\n",
       "    </tr>\n",
       "    <tr>\n",
       "      <th>50%</th>\n",
       "      <td>0.000000</td>\n",
       "      <td>0.000000</td>\n",
       "      <td>0.000000</td>\n",
       "      <td>70.000000</td>\n",
       "      <td>1100.000000</td>\n",
       "      <td>60.000000</td>\n",
       "      <td>0.087700</td>\n",
       "      <td>47.042700</td>\n",
       "      <td>0.000100</td>\n",
       "      <td>0.000030</td>\n",
       "      <td>0.000030</td>\n",
       "    </tr>\n",
       "    <tr>\n",
       "      <th>75%</th>\n",
       "      <td>1.000000</td>\n",
       "      <td>1.000000</td>\n",
       "      <td>1.000000</td>\n",
       "      <td>70.000000</td>\n",
       "      <td>1300.000000</td>\n",
       "      <td>75.000000</td>\n",
       "      <td>0.089850</td>\n",
       "      <td>52.284800</td>\n",
       "      <td>0.000200</td>\n",
       "      <td>0.000053</td>\n",
       "      <td>0.000053</td>\n",
       "    </tr>\n",
       "    <tr>\n",
       "      <th>max</th>\n",
       "      <td>1.000000</td>\n",
       "      <td>1.000000</td>\n",
       "      <td>1.000000</td>\n",
       "      <td>100.000000</td>\n",
       "      <td>1300.000000</td>\n",
       "      <td>90.000000</td>\n",
       "      <td>0.093500</td>\n",
       "      <td>52.808400</td>\n",
       "      <td>0.000600</td>\n",
       "      <td>0.000130</td>\n",
       "      <td>0.000130</td>\n",
       "    </tr>\n",
       "  </tbody>\n",
       "</table>\n",
       "</div>"
      ],
      "text/plain": [
       "<div>\n",
       "<style scoped>\n",
       "    .dataframe tbody tr th:only-of-type {\n",
       "        vertical-align: middle;\n",
       "    }\n",
       "\n",
       "    .dataframe tbody tr th {\n",
       "        vertical-align: top;\n",
       "    }\n",
       "\n",
       "    .dataframe thead th {\n",
       "        text-align: right;\n",
       "    }\n",
       "</style>\n",
       "<table border=\"1\" class=\"dataframe\">\n",
       "  <thead>\n",
       "    <tr style=\"text-align: right;\">\n",
       "      <th></th>\n",
       "      <th>Argon</th>\n",
       "      <th>Nitrogen</th>\n",
       "      <th>Helium</th>\n",
       "      <th>Hydrocarbon_concentration</th>\n",
       "      <th>Temperature</th>\n",
       "      <th>Time</th>\n",
       "      <th>Mass_of_wire_in_end</th>\n",
       "      <th>Mass_of_reactor_at_end</th>\n",
       "      <th>Increase_of_carbon_in_reactor</th>\n",
       "      <th>Rate_of_growth</th>\n",
       "      <th>Yield_of_carbon</th>\n",
       "    </tr>\n",
       "  </thead>\n",
       "  <tbody>\n",
       "    <tr>\n",
       "      <th>count</th>\n",
       "      <td>83.000000</td>\n",
       "      <td>83.000000</td>\n",
       "      <td>83.000000</td>\n",
       "      <td>83.000000</td>\n",
       "      <td>83.000000</td>\n",
       "      <td>83.000000</td>\n",
       "      <td>83.000000</td>\n",
       "      <td>83.000000</td>\n",
       "      <td>83.000000</td>\n",
       "      <td>83.000000</td>\n",
       "      <td>83.000000</td>\n",
       "    </tr>\n",
       "    <tr>\n",
       "      <th>mean</th>\n",
       "      <td>0.277108</td>\n",
       "      <td>0.289157</td>\n",
       "      <td>0.289157</td>\n",
       "      <td>61.686747</td>\n",
       "      <td>1102.409639</td>\n",
       "      <td>47.951807</td>\n",
       "      <td>0.081216</td>\n",
       "      <td>49.381673</td>\n",
       "      <td>0.000152</td>\n",
       "      <td>0.000036</td>\n",
       "      <td>0.000036</td>\n",
       "    </tr>\n",
       "    <tr>\n",
       "      <th>std</th>\n",
       "      <td>0.450291</td>\n",
       "      <td>0.456127</td>\n",
       "      <td>0.456127</td>\n",
       "      <td>21.116360</td>\n",
       "      <td>163.778482</td>\n",
       "      <td>30.394120</td>\n",
       "      <td>0.011875</td>\n",
       "      <td>2.616533</td>\n",
       "      <td>0.000103</td>\n",
       "      <td>0.000025</td>\n",
       "      <td>0.000025</td>\n",
       "    </tr>\n",
       "    <tr>\n",
       "      <th>min</th>\n",
       "      <td>0.000000</td>\n",
       "      <td>0.000000</td>\n",
       "      <td>0.000000</td>\n",
       "      <td>40.000000</td>\n",
       "      <td>900.000000</td>\n",
       "      <td>10.000000</td>\n",
       "      <td>0.052600</td>\n",
       "      <td>46.815900</td>\n",
       "      <td>0.000100</td>\n",
       "      <td>0.000005</td>\n",
       "      <td>0.000005</td>\n",
       "    </tr>\n",
       "    <tr>\n",
       "      <th>25%</th>\n",
       "      <td>0.000000</td>\n",
       "      <td>0.000000</td>\n",
       "      <td>0.000000</td>\n",
       "      <td>40.000000</td>\n",
       "      <td>900.000000</td>\n",
       "      <td>30.000000</td>\n",
       "      <td>0.070500</td>\n",
       "      <td>47.035600</td>\n",
       "      <td>0.000100</td>\n",
       "      <td>0.000017</td>\n",
       "      <td>0.000017</td>\n",
       "    </tr>\n",
       "    <tr>\n",
       "      <th>50%</th>\n",
       "      <td>0.000000</td>\n",
       "      <td>0.000000</td>\n",
       "      <td>0.000000</td>\n",
       "      <td>70.000000</td>\n",
       "      <td>1100.000000</td>\n",
       "      <td>60.000000</td>\n",
       "      <td>0.087700</td>\n",
       "      <td>47.042700</td>\n",
       "      <td>0.000100</td>\n",
       "      <td>0.000030</td>\n",
       "      <td>0.000030</td>\n",
       "    </tr>\n",
       "    <tr>\n",
       "      <th>75%</th>\n",
       "      <td>1.000000</td>\n",
       "      <td>1.000000</td>\n",
       "      <td>1.000000</td>\n",
       "      <td>70.000000</td>\n",
       "      <td>1300.000000</td>\n",
       "      <td>75.000000</td>\n",
       "      <td>0.089850</td>\n",
       "      <td>52.284800</td>\n",
       "      <td>0.000200</td>\n",
       "      <td>0.000053</td>\n",
       "      <td>0.000053</td>\n",
       "    </tr>\n",
       "    <tr>\n",
       "      <th>max</th>\n",
       "      <td>1.000000</td>\n",
       "      <td>1.000000</td>\n",
       "      <td>1.000000</td>\n",
       "      <td>100.000000</td>\n",
       "      <td>1300.000000</td>\n",
       "      <td>90.000000</td>\n",
       "      <td>0.093500</td>\n",
       "      <td>52.808400</td>\n",
       "      <td>0.000600</td>\n",
       "      <td>0.000130</td>\n",
       "      <td>0.000130</td>\n",
       "    </tr>\n",
       "  </tbody>\n",
       "</table>\n",
       "</div>"
      ]
     },
     "execution_count": 3,
     "metadata": {},
     "output_type": "execute_result"
    }
   ],
   "source": [
    "dataset.describe()"
   ]
  },
  {
   "cell_type": "code",
   "execution_count": 4,
   "metadata": {},
   "outputs": [],
   "source": [
    "from sklearn.model_selection import train_test_split\n",
    "\n",
    "train, test = train_test_split(dataset, test_size=0.2)"
   ]
  },
  {
   "cell_type": "code",
   "execution_count": 5,
   "metadata": {},
   "outputs": [],
   "source": [
    "import numpy as np\n",
    "\n",
    "trainX = np.array(train.drop([\"Yield_of_carbon\"], 1))\n",
    "trainY = np.array(train[\"Yield_of_carbon\"])"
   ]
  },
  {
   "cell_type": "code",
   "execution_count": 6,
   "metadata": {},
   "outputs": [],
   "source": [
    "from sklearn import preprocessing\n",
    "\n",
    "trainX = preprocessing.normalize(trainX)\n"
   ]
  },
  {
   "cell_type": "code",
   "execution_count": 7,
   "metadata": {},
   "outputs": [],
   "source": [
    "from sklearn.linear_model import LinearRegression\n",
    "\n",
    "model = LinearRegression(normalize=True)"
   ]
  },
  {
   "cell_type": "code",
   "execution_count": 8,
   "metadata": {},
   "outputs": [
    {
     "name": "stdout",
     "output_type": "stream",
     "text": [
      "CPU times: user 4 µs, sys: 1e+03 ns, total: 5 µs\nWall time: 9.3 µs\n"
     ]
    },
    {
     "data": {
      "text/plain": [
       "LinearRegression(copy_X=True, fit_intercept=True, n_jobs=1, normalize=True)"
      ]
     },
     "execution_count": 8,
     "metadata": {},
     "output_type": "execute_result"
    }
   ],
   "source": [
    "%time\n",
    "model.fit(trainX, trainY)"
   ]
  },
  {
   "cell_type": "code",
   "execution_count": 9,
   "metadata": {},
   "outputs": [
    {
     "name": "stdout",
     "output_type": "stream",
     "text": [
      "Средняя абсолютная ошибка: 3.058419866466528e-06\nСредняя квадратичная ошибка: 2.1709491139375218e-11\n"
     ]
    }
   ],
   "source": [
    "from sklearn.metrics import mean_absolute_error, mean_squared_error\n",
    "\n",
    "testX = np.array(test.drop([\"Yield_of_carbon\"], 1))\n",
    "testY = np.array(test[\"Yield_of_carbon\"])\n",
    "\n",
    "predict = model.predict(preprocessing.normalize(testX))\n",
    "\n",
    "mae = mean_absolute_error(testY, predict)\n",
    "print(\"Средняя абсолютная ошибка:\", mae)\n",
    "mse = mean_squared_error(testY, predict)\n",
    "print(\"Средняя квадратичная ошибка:\", mse)"
   ]
  },
  {
   "cell_type": "code",
   "execution_count": 10,
   "metadata": {},
   "outputs": [
    {
     "name": "stdout",
     "output_type": "stream",
     "text": [
      "MSE:\n[2.1709491139375218e-11]\nMAE:\n[3.058419866466528e-06]\n"
     ]
    }
   ],
   "source": [
    "mean_abs_errors = []\n",
    "mean_sq_errors = []\n",
    "mean_abs_errors.append(mae)\n",
    "mean_sq_errors.append(mse)\n",
    "\n",
    "print(\"MSE:\", mean_sq_errors, \"MAE:\", mean_abs_errors, sep='\\n')\n"
   ]
  },
  {
   "cell_type": "code",
   "execution_count": 11,
   "metadata": {},
   "outputs": [
    {
     "data": {
      "image/png": "[encoded data removed]",
      "text/plain": [
       "<Figure size 432x288 with 1 Axes>"
      ]
     },
     "metadata": {},
     "output_type": "display_data"
    }
   ],
   "source": [
    "import matplotlib.pyplot as plt\n",
    "%matplotlib inline\n",
    "\n",
    "f = 0\n",
    "t = testY.size\n",
    "xx = [i for i in range(trainX.shape[0])]\n",
    "y = testY\n",
    "y2 = predict\n",
    "\n",
    "plt.figure()\n",
    "plt.plot(xx[f:t], y[f:t], color='r', linewidth=5, label='y')\n",
    "plt.plot(xx[f:t], y2[f:t], color='b', linewidth=2, label='predicted y')\n",
    "plt.ylabel('Target label')\n",
    "plt.xlabel('Line number in dataset')\n",
    "plt.legend(loc=4)\n",
    "plt.show()"
   ]
  },
  {
   "cell_type": "code",
   "execution_count": 14,
   "metadata": {},
   "outputs": [],
   "source": [
    "from sklearn.linear_model import Ridge\n",
    "\n",
    "model = Ridge(normalize=True)"
   ]
  },
  {
   "cell_type": "code",
   "execution_count": 15,
   "metadata": {},
   "outputs": [
    {
     "name": "stdout",
     "output_type": "stream",
     "text": [
      "CPU times: user 3 µs, sys: 0 ns, total: 3 µs\nWall time: 7.39 µs\n"
     ]
    },
    {
     "data": {
      "text/plain": [
       "Ridge(alpha=1.0, copy_X=True, fit_intercept=True, max_iter=None,\n   normalize=True, random_state=None, solver='auto', tol=0.001)"
      ]
     },
     "execution_count": 15,
     "metadata": {},
     "output_type": "execute_result"
    }
   ],
   "source": [
    "%time\n",
    "model.fit(trainX, trainY)"
   ]
  },
  {
   "cell_type": "code",
   "execution_count": 16,
   "metadata": {},
   "outputs": [
    {
     "name": "stdout",
     "output_type": "stream",
     "text": [
      "Средняя абсолютная ошибка: 7.839979800278835e-06\nСредняя квадратичная ошибка: 1.3340198372564253e-10\nMSE:\n[2.1709491139375218e-11, 1.3340198372564253e-10]\nMAE:\n[3.058419866466528e-06, 7.839979800278835e-06]\n"
     ]
    }
   ],
   "source": [
    "predict = model.predict(preprocessing.normalize(testX))\n",
    "\n",
    "mae = mean_absolute_error(testY, predict)\n",
    "print(\"Средняя абсолютная ошибка:\", mae)\n",
    "mse = mean_squared_error(testY, predict)\n",
    "print(\"Средняя квадратичная ошибка:\", mse)\n",
    "\n",
    "mean_abs_errors.append(mae)\n",
    "mean_sq_errors.append(mse)\n",
    "\n",
    "print(\"MSE:\", mean_sq_errors, \"MAE:\", mean_abs_errors, sep='\\n')"
   ]
  },
  {
   "cell_type": "code",
   "execution_count": 17,
   "metadata": {},
   "outputs": [
    {
     "data": {
      "image/png": "[encoded data removed]",
      "text/plain": [
       "<Figure size 432x288 with 1 Axes>"
      ]
     },
     "metadata": {},
     "output_type": "display_data"
    }
   ],
   "source": [
    "f = 0\n",
    "t = testY.size\n",
    "xx = [i for i in range(trainX.shape[0])]\n",
    "y = testY\n",
    "y2 = predict\n",
    "\n",
    "plt.figure()\n",
    "plt.plot(xx[f:t], y[f:t], color='r', linewidth=5, label='y')\n",
    "plt.plot(xx[f:t], y2[f:t], color='b', linewidth=2, label='predicted y')\n",
    "plt.ylabel('Target label')\n",
    "plt.xlabel('Line number in dataset')\n",
    "plt.legend(loc=4)\n",
    "plt.show()"
   ]
  },
  {
   "cell_type": "code",
   "execution_count": 18,
   "metadata": {},
   "outputs": [],
   "source": [
    "from sklearn.linear_model import Lasso\n",
    "\n",
    "model = Lasso(normalize=True)"
   ]
  },
  {
   "cell_type": "code",
   "execution_count": 19,
   "metadata": {},
   "outputs": [
    {
     "name": "stdout",
     "output_type": "stream",
     "text": [
      "CPU times: user 2 µs, sys: 1 µs, total: 3 µs\nWall time: 5.25 µs\n"
     ]
    },
    {
     "data": {
      "text/plain": [
       "Lasso(alpha=1.0, copy_X=True, fit_intercept=True, max_iter=1000,\n   normalize=True, positive=False, precompute=False, random_state=None,\n   selection='cyclic', tol=0.0001, warm_start=False)"
      ]
     },
     "execution_count": 19,
     "metadata": {},
     "output_type": "execute_result"
    }
   ],
   "source": [
    "%time\n",
    "model.fit(trainX, trainY)"
   ]
  },
  {
   "cell_type": "code",
   "execution_count": 20,
   "metadata": {},
   "outputs": [
    {
     "name": "stdout",
     "output_type": "stream",
     "text": [
      "Средняя абсолютная ошибка: 2.0626856803320833e-05\nСредняя квадратичная ошибка: 6.184286417351116e-10\nMSE:\n[2.1709491139375218e-11, 1.3340198372564253e-10, 6.184286417351116e-10]\nMAE:\n[3.058419866466528e-06, 7.839979800278835e-06, 2.0626856803320833e-05]\n"
     ]
    }
   ],
   "source": [
    "predict = model.predict(preprocessing.normalize(testX))\n",
    "\n",
    "mae = mean_absolute_error(testY, predict)\n",
    "print(\"Средняя абсолютная ошибка:\", mae)\n",
    "mse = mean_squared_error(testY, predict)\n",
    "print(\"Средняя квадратичная ошибка:\", mse)\n",
    "\n",
    "mean_abs_errors.append(mae)\n",
    "mean_sq_errors.append(mse)\n",
    "\n",
    "print(\"MSE:\", mean_sq_errors, \"MAE:\", mean_abs_errors, sep='\\n')"
   ]
  },
  {
   "cell_type": "code",
   "execution_count": 21,
   "metadata": {},
   "outputs": [
    {
     "data": {
      "image/png": "[encoded data removed]",
      "text/plain": [
       "<Figure size 432x288 with 1 Axes>"
      ]
     },
     "metadata": {},
     "output_type": "display_data"
    }
   ],
   "source": [
    "f = 0\n",
    "t = testY.size\n",
    "xx = [i for i in range(trainX.shape[0])]\n",
    "y = testY\n",
    "y2 = predict\n",
    "\n",
    "plt.figure()\n",
    "plt.plot(xx[f:t], y[f:t], color='r', linewidth=5, label='y')\n",
    "plt.plot(xx[f:t], y2[f:t], color='b', linewidth=2, label='predicted y')\n",
    "plt.ylabel('Target label')\n",
    "plt.xlabel('Line number in dataset')\n",
    "plt.legend(loc=4)\n",
    "plt.show()"
   ]
  },
  {
   "cell_type": "code",
   "execution_count": 22,
   "metadata": {},
   "outputs": [],
   "source": [
    "from sklearn.ensemble import RandomForestRegressor\n",
    "\n",
    "model = RandomForestRegressor()"
   ]
  },
  {
   "cell_type": "code",
   "execution_count": 23,
   "metadata": {},
   "outputs": [
    {
     "name": "stdout",
     "output_type": "stream",
     "text": [
      "CPU times: user 2 µs, sys: 1 µs, total: 3 µs\nWall time: 7.63 µs\n"
     ]
    },
    {
     "data": {
      "text/plain": [
       "RandomForestRegressor(bootstrap=True, criterion='mse', max_depth=None,\n           max_features='auto', max_leaf_nodes=None,\n           min_impurity_decrease=0.0, min_impurity_split=None,\n           min_samples_leaf=1, min_samples_split=2,\n           min_weight_fraction_leaf=0.0, n_estimators=10, n_jobs=1,\n           oob_score=False, random_state=None, verbose=0, warm_start=False)"
      ]
     },
     "execution_count": 23,
     "metadata": {},
     "output_type": "execute_result"
    }
   ],
   "source": [
    "%time\n",
    "model.fit(trainX, trainY)"
   ]
  },
  {
   "cell_type": "code",
   "execution_count": 24,
   "metadata": {},
   "outputs": [
    {
     "name": "stdout",
     "output_type": "stream",
     "text": [
      "Средняя абсолютная ошибка: 2.1392008318473437e-05\nСредняя квадратичная ошибка: 6.271728522181658e-10\nMSE:\n[2.1709491139375218e-11, 1.3340198372564253e-10, 6.184286417351116e-10, 6.271728522181658e-10]\nMAE:\n[3.058419866466528e-06, 7.839979800278835e-06, 2.0626856803320833e-05, 2.1392008318473437e-05]\n"
     ]
    }
   ],
   "source": [
    "predict = model.predict(preprocessing.normalize(testX))\n",
    "\n",
    "mae = mean_absolute_error(testY, predict)\n",
    "print(\"Средняя абсолютная ошибка:\", mae)\n",
    "mse = mean_squared_error(testY, predict)\n",
    "print(\"Средняя квадратичная ошибка:\", mse)\n",
    "\n",
    "mean_abs_errors.append(mae)\n",
    "mean_sq_errors.append(mse)\n",
    "\n",
    "print(\"MSE:\", mean_sq_errors, \"MAE:\", mean_abs_errors, sep='\\n')"
   ]
  },
  {
   "cell_type": "code",
   "execution_count": 25,
   "metadata": {},
   "outputs": [
    {
     "data": {
      "image/png": "[encoded data removed]",
      "text/plain": [
       "<Figure size 432x288 with 1 Axes>"
      ]
     },
     "metadata": {},
     "output_type": "display_data"
    }
   ],
   "source": [
    "f = 0\n",
    "t = testY.size\n",
    "xx = [i for i in range(trainX.shape[0])]\n",
    "y = testY\n",
    "y2 = predict\n",
    "\n",
    "plt.figure()\n",
    "plt.plot(xx[f:t], y[f:t], color='r', linewidth=5, label='y')\n",
    "plt.plot(xx[f:t], y2[f:t], color='b', linewidth=2, label='predicted y')\n",
    "plt.ylabel('Target label')\n",
    "plt.xlabel('Line number in dataset')\n",
    "plt.legend(loc=4)\n",
    "plt.show()\n"
   ]
  },
  {
   "cell_type": "code",
   "execution_count": 26,
   "metadata": {},
   "outputs": [],
   "source": [
    "train, test = train_test_split(dataset, test_size=0.2)\n",
    "\n",
    "trainX = np.array(train.drop([\"Rate_of_growth\"], 1))\n",
    "trainY = np.array(train[\"Rate_of_growth\"])\n",
    "\n",
    "trainX = preprocessing.normalize(trainX)"
   ]
  },
  {
   "cell_type": "code",
   "execution_count": 27,
   "metadata": {},
   "outputs": [],
   "source": [
    "model = LinearRegression(normalize=True)"
   ]
  },
  {
   "cell_type": "code",
   "execution_count": 28,
   "metadata": {},
   "outputs": [
    {
     "name": "stdout",
     "output_type": "stream",
     "text": [
      "CPU times: user 4 µs, sys: 1 µs, total: 5 µs\nWall time: 9.54 µs\n"
     ]
    },
    {
     "data": {
      "text/plain": [
       "LinearRegression(copy_X=True, fit_intercept=True, n_jobs=1, normalize=True)"
      ]
     },
     "execution_count": 42,
     "metadata": {},
     "output_type": "execute_result"
    },
    {
     "data": {
      "text/plain": [
       "LinearRegression(copy_X=True, fit_intercept=True, n_jobs=1, normalize=True)"
      ]
     },
     "execution_count": 28,
     "metadata": {},
     "output_type": "execute_result"
    }
   ],
   "source": [
    "%time\n",
    "model.fit(trainX, trainY)"
   ]
  },
  {
   "cell_type": "code",
   "execution_count": 29,
   "metadata": {},
   "outputs": [
    {
     "name": "stdout",
     "output_type": "stream",
     "text": [
      "Средняя абсолютная ошибка: 2.107665559888716e-06\nСредняя квадратичная ошибка: 6.179396802446658e-12\n"
     ]
    }
   ],
   "source": [
    "from sklearn.metrics import mean_absolute_error, mean_squared_error\n",
    "\n",
    "testX = np.array(test.drop([\"Yield_of_carbon\"], 1))\n",
    "testY = np.array(test[\"Yield_of_carbon\"])\n",
    "\n",
    "predict = model.predict(preprocessing.normalize(testX))\n",
    "\n",
    "mae = mean_absolute_error(testY, predict)\n",
    "print(\"Средняя абсолютная ошибка:\", mae)\n",
    "mse = mean_squared_error(testY, predict)\n",
    "print(\"Средняя квадратичная ошибка:\", mse)"
   ]
  },
  {
   "cell_type": "code",
   "execution_count": 30,
   "metadata": {},
   "outputs": [
    {
     "name": "stdout",
     "output_type": "stream",
     "text": [
      "MSE:\n[6.179396802446658e-12]\nMAE:\n[2.107665559888716e-06]\n"
     ]
    }
   ],
   "source": [
    "mean_abs_errors_2 = []\n",
    "mean_sq_errors_2 = []\n",
    "mean_abs_errors_2.append(mae)\n",
    "mean_sq_errors_2.append(mse)\n",
    "\n",
    "print(\"MSE:\", mean_sq_errors_2, \"MAE:\", mean_abs_errors_2, sep='\\n')\n"
   ]
  },
  {
   "cell_type": "code",
   "execution_count": 31,
   "metadata": {},
   "outputs": [
    {
     "data": {
      "image/png": "[encoded data removed]",
      "text/plain": [
       "<Figure size 432x288 with 1 Axes>"
      ]
     },
     "metadata": {},
     "output_type": "display_data"
    }
   ],
   "source": [
    "f = 0\n",
    "t = testY.size\n",
    "xx = [i for i in range(trainX.shape[0])]\n",
    "y = testY\n",
    "y2 = predict\n",
    "\n",
    "plt.figure()\n",
    "plt.plot(xx[f:t], y[f:t], color='r', linewidth=5, label='y')\n",
    "plt.plot(xx[f:t], y2[f:t], color='b', linewidth=2, label='predicted y')\n",
    "plt.ylabel('Target label')\n",
    "plt.xlabel('Line number in dataset')\n",
    "plt.legend(loc=4)\n",
    "plt.show()"
   ]
  },
  {
   "cell_type": "code",
   "execution_count": 32,
   "metadata": {},
   "outputs": [],
   "source": [
    "model = Ridge(normalize=True)"
   ]
  },
  {
   "cell_type": "code",
   "execution_count": 33,
   "metadata": {},
   "outputs": [
    {
     "name": "stdout",
     "output_type": "stream",
     "text": [
      "CPU times: user 2 µs, sys: 1e+03 ns, total: 3 µs\nWall time: 5.25 µs\n"
     ]
    },
    {
     "data": {
      "text/plain": [
       "Ridge(alpha=1.0, copy_X=True, fit_intercept=True, max_iter=None,\n   normalize=True, random_state=None, solver='auto', tol=0.001)"
      ]
     },
     "execution_count": 33,
     "metadata": {},
     "output_type": "execute_result"
    }
   ],
   "source": [
    "%time\n",
    "model.fit(trainX, trainY)"
   ]
  },
  {
   "cell_type": "code",
   "execution_count": 34,
   "metadata": {},
   "outputs": [
    {
     "name": "stdout",
     "output_type": "stream",
     "text": [
      "Средняя абсолютная ошибка: 5.971408017750845e-06\nСредняя квадратичная ошибка: 5.6075120509724587e-11\nMSE:\n[6.179396802446658e-12, 5.6075120509724587e-11]\nMAE:\n[2.107665559888716e-06, 5.971408017750845e-06]\n"
     ]
    }
   ],
   "source": [
    "predict = model.predict(preprocessing.normalize(testX))\n",
    "\n",
    "mae = mean_absolute_error(testY, predict)\n",
    "print(\"Средняя абсолютная ошибка:\", mae)\n",
    "mse = mean_squared_error(testY, predict)\n",
    "print(\"Средняя квадратичная ошибка:\", mse)\n",
    "\n",
    "mean_abs_errors_2.append(mae)\n",
    "mean_sq_errors_2.append(mse)\n",
    "\n",
    "print(\"MSE:\", mean_sq_errors_2, \"MAE:\", mean_abs_errors_2, sep='\\n')"
   ]
  },
  {
   "cell_type": "code",
   "execution_count": 35,
   "metadata": {},
   "outputs": [
    {
     "data": {
      "image/png": "[encoded data removed]",
      "text/plain": [
       "<Figure size 432x288 with 1 Axes>"
      ]
     },
     "metadata": {},
     "output_type": "display_data"
    }
   ],
   "source": [
    "f = 0\n",
    "t = testY.size\n",
    "xx = [i for i in range(trainX.shape[0])]\n",
    "y = testY\n",
    "y2 = predict\n",
    "\n",
    "plt.figure()\n",
    "plt.plot(xx[f:t], y[f:t], color='r', linewidth=5, label='y')\n",
    "plt.plot(xx[f:t], y2[f:t], color='b', linewidth=2, label='predicted y')\n",
    "plt.ylabel('Target label')\n",
    "plt.xlabel('Line number in dataset')\n",
    "plt.legend(loc=4)\n",
    "plt.show()"
   ]
  },
  {
   "cell_type": "code",
   "execution_count": 36,
   "metadata": {},
   "outputs": [],
   "source": [
    "model = Lasso(normalize=True)"
   ]
  },
  {
   "cell_type": "code",
   "execution_count": 37,
   "metadata": {},
   "outputs": [
    {
     "name": "stdout",
     "output_type": "stream",
     "text": [
      "CPU times: user 1e+03 ns, sys: 1 µs, total: 2 µs\nWall time: 5.25 µs\n"
     ]
    },
    {
     "data": {
      "text/plain": [
       "Lasso(alpha=1.0, copy_X=True, fit_intercept=True, max_iter=1000,\n   normalize=True, positive=False, precompute=False, random_state=None,\n   selection='cyclic', tol=0.0001, warm_start=False)"
      ]
     },
     "execution_count": 37,
     "metadata": {},
     "output_type": "execute_result"
    }
   ],
   "source": [
    "%time\n",
    "model.fit(trainX, trainY)"
   ]
  },
  {
   "cell_type": "code",
   "execution_count": 38,
   "metadata": {},
   "outputs": [
    {
     "name": "stdout",
     "output_type": "stream",
     "text": [
      "Средняя абсолютная ошибка: 1.751089324620365e-05\nСредняя квадратичная ошибка: 3.625403078458086e-10\nMSE:\n[6.179396802446658e-12, 5.6075120509724587e-11, 3.625403078458086e-10]\nMAE:\n[2.107665559888716e-06, 5.971408017750845e-06, 1.751089324620365e-05]\n"
     ]
    }
   ],
   "source": [
    "predict = model.predict(preprocessing.normalize(testX))\n",
    "\n",
    "mae = mean_absolute_error(testY, predict)\n",
    "print(\"Средняя абсолютная ошибка:\", mae)\n",
    "mse = mean_squared_error(testY, predict)\n",
    "print(\"Средняя квадратичная ошибка:\", mse)\n",
    "\n",
    "mean_abs_errors_2.append(mae)\n",
    "mean_sq_errors_2.append(mse)\n",
    "\n",
    "print(\"MSE:\", mean_sq_errors_2, \"MAE:\", mean_abs_errors_2, sep='\\n')"
   ]
  },
  {
   "cell_type": "code",
   "execution_count": 39,
   "metadata": {},
   "outputs": [
    {
     "data": {
      "image/png": "[encoded data removed]",
      "text/plain": [
       "<Figure size 432x288 with 1 Axes>"
      ]
     },
     "metadata": {},
     "output_type": "display_data"
    }
   ],
   "source": [
    "f = 0\n",
    "t = testY.size\n",
    "xx = [i for i in range(trainX.shape[0])]\n",
    "y = testY\n",
    "y2 = predict\n",
    "\n",
    "plt.figure()\n",
    "plt.plot(xx[f:t], y[f:t], color='r', linewidth=5, label='y')\n",
    "plt.plot(xx[f:t], y2[f:t], color='b', linewidth=2, label='predicted y')\n",
    "plt.ylabel('Target label')\n",
    "plt.xlabel('Line number in dataset')\n",
    "plt.legend(loc=4)\n",
    "plt.show()"
   ]
  },
  {
   "cell_type": "code",
   "execution_count": 40,
   "metadata": {},
   "outputs": [],
   "source": [
    "model = RandomForestRegressor()"
   ]
  },
  {
   "cell_type": "code",
   "execution_count": 41,
   "metadata": {},
   "outputs": [
    {
     "name": "stdout",
     "output_type": "stream",
     "text": [
      "CPU times: user 3 µs, sys: 1 µs, total: 4 µs\nWall time: 7.63 µs\n"
     ]
    },
    {
     "data": {
      "text/plain": [
       "RandomForestRegressor(bootstrap=True, criterion='mse', max_depth=None,\n           max_features='auto', max_leaf_nodes=None,\n           min_impurity_decrease=0.0, min_impurity_split=None,\n           min_samples_leaf=1, min_samples_split=2,\n           min_weight_fraction_leaf=0.0, n_estimators=10, n_jobs=1,\n           oob_score=False, random_state=None, verbose=0, warm_start=False)"
      ]
     },
     "execution_count": 41,
     "metadata": {},
     "output_type": "execute_result"
    }
   ],
   "source": [
    "%time\n",
    "model.fit(trainX, trainY)"
   ]
  },
  {
   "cell_type": "code",
   "execution_count": 42,
   "metadata": {},
   "outputs": [
    {
     "name": "stdout",
     "output_type": "stream",
     "text": [
      "Средняя абсолютная ошибка: 1.6687363834440902e-05\nСредняя квадратичная ошибка: 3.332973254371094e-10\nMSE:\n[6.179396802446658e-12, 5.6075120509724587e-11, 3.625403078458086e-10, 3.332973254371094e-10]\nMAE:\n[2.107665559888716e-06, 5.971408017750845e-06, 1.751089324620365e-05, 1.6687363834440902e-05]\n"
     ]
    }
   ],
   "source": [
    "predict = model.predict(preprocessing.normalize(testX))\n",
    "\n",
    "mae = mean_absolute_error(testY, predict)\n",
    "print(\"Средняя абсолютная ошибка:\", mae)\n",
    "mse = mean_squared_error(testY, predict)\n",
    "print(\"Средняя квадратичная ошибка:\", mse)\n",
    "\n",
    "mean_abs_errors_2.append(mae)\n",
    "mean_sq_errors_2.append(mse)\n",
    "\n",
    "print(\"MSE:\", mean_sq_errors_2, \"MAE:\", mean_abs_errors_2, sep='\\n')"
   ]
  },
  {
   "cell_type": "code",
   "execution_count": 43,
   "metadata": {},
   "outputs": [
    {
     "data": {
      "image/png": "[encoded data removed]",
      "text/plain": [
       "<Figure size 432x288 with 1 Axes>"
      ]
     },
     "metadata": {},
     "output_type": "display_data"
    }
   ],
   "source": [
    "f = 0\n",
    "t = testY.size\n",
    "xx = [i for i in range(trainX.shape[0])]\n",
    "y = testY\n",
    "y2 = predict\n",
    "\n",
    "plt.figure()\n",
    "plt.plot(xx[f:t], y[f:t], color='r', linewidth=5, label='y')\n",
    "plt.plot(xx[f:t], y2[f:t], color='b', linewidth=2, label='predicted y')\n",
    "plt.ylabel('Target label')\n",
    "plt.xlabel('Line number in dataset')\n",
    "plt.legend(loc=4)\n",
    "plt.show()\n"
   ]
  },
  {
   "cell_type": "code",
   "execution_count": null,
   "metadata": {},
   "outputs": [],
   "source": []
  }
 ],
 "metadata": {
  "kernelspec": {
   "display_name": "Python 2",
   "language": "python",
   "name": "python2"
  },
  "language_info": {
   "codemirror_mode": {
    "name": "ipython",
    "version": 2
   },
   "file_extension": ".py",
   "mimetype": "text/x-python",
   "name": "python",
   "nbconvert_exporter": "python",
   "pygments_lexer": "ipython2",
   "version": "2.7.6"
  }
 },
 "nbformat": 4,
 "nbformat_minor": 0
}
