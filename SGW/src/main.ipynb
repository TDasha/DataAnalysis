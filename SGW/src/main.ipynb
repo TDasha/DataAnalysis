{
 "cells": [
  {
   "cell_type": "code",
   "execution_count": 1,
   "metadata": {
    "collapsed": true
   },
   "outputs": [],
   "source": [
    "from pandas import read_excel\n",
    "from os import getcwd\n",
    "\n",
    "dataset = read_excel(getcwd() + \"/SGW/data/dataset.xls\", \n",
    "           sheet_name=\"for_read\",\n",
    "           names=[\"Argon\", \"Nitrogen\", \"Helium\", \"Hydrocarbon_concentration\", \"Temperature\", \"Time\",\n",
    "                  \"Mass_of_wire_in_end\", \"Mass_of_reactor_at_end\", \"Increase_of_carbon_in_reactor\",\n",
    "                  \"Rate_of_growth\", \"Yield_of_carbon\"],\n",
    "           dtype={\"Argon\": int,\n",
    "                  \"Nitrogen\": int,\n",
    "                  \"Helium\": int,\n",
    "                  \"Hydrocarbon_concentration\": float, # концентрация углеводорода (%)\n",
    "                  \"Temperature\": float, # (grad C)\n",
    "                  \"Time\": float, # (мин)\n",
    "                  \"Mass_of_wire_in_end\": float, # масса проволоки в конце эксперимента (г)\n",
    "                  \"Mass_of_reactor_at_end\": float, # масса реактора в конце эксперимента (г)\n",
    "                  \"Increase_of_carbon_in_reactor\": float, # прирост углерода в реакторе (г)\n",
    "                  \"Rate_of_growth\": float, # скорость роста (г/мин)\n",
    "                  \"Yield_of_carbon\": float # выход углерода (г/см^3) \n",
    "                 })\n"
   ]
  },
  {
   "cell_type": "code",
   "execution_count": 2,
   "metadata": {},
   "outputs": [
    {
     "data": {
      "text/html": [
       "<div>\n",
       "<style scoped>\n",
       "    .dataframe tbody tr th:only-of-type {\n",
       "        vertical-align: middle;\n",
       "    }\n",
       "\n",
       "    .dataframe tbody tr th {\n",
       "        vertical-align: top;\n",
       "    }\n",
       "\n",
       "    .dataframe thead th {\n",
       "        text-align: right;\n",
       "    }\n",
       "</style>\n",
       "<table border=\"1\" class=\"dataframe\">\n",
       "  <thead>\n",
       "    <tr style=\"text-align: right;\">\n",
       "      <th></th>\n",
       "      <th>Argon</th>\n",
       "      <th>Nitrogen</th>\n",
       "      <th>Helium</th>\n",
       "      <th>Hydrocarbon_concentration</th>\n",
       "      <th>Temperature</th>\n",
       "      <th>Time</th>\n",
       "      <th>Mass_of_wire_in_end</th>\n",
       "      <th>Mass_of_reactor_at_end</th>\n",
       "      <th>Increase_of_carbon_in_reactor</th>\n",
       "      <th>Rate_of_growth</th>\n",
       "      <th>Yield_of_carbon</th>\n",
       "    </tr>\n",
       "  </thead>\n",
       "  <tbody>\n",
       "    <tr>\n",
       "      <th>0</th>\n",
       "      <td>1</td>\n",
       "      <td>0</td>\n",
       "      <td>0</td>\n",
       "      <td>40</td>\n",
       "      <td>900</td>\n",
       "      <td>30</td>\n",
       "      <td>0.0881</td>\n",
       "      <td>52.5900</td>\n",
       "      <td>0.0001</td>\n",
       "      <td>0.000010</td>\n",
       "      <td>0.000010</td>\n",
       "    </tr>\n",
       "    <tr>\n",
       "      <th>1</th>\n",
       "      <td>1</td>\n",
       "      <td>0</td>\n",
       "      <td>0</td>\n",
       "      <td>40</td>\n",
       "      <td>900</td>\n",
       "      <td>60</td>\n",
       "      <td>0.0922</td>\n",
       "      <td>52.8084</td>\n",
       "      <td>0.0001</td>\n",
       "      <td>0.000007</td>\n",
       "      <td>0.000007</td>\n",
       "    </tr>\n",
       "    <tr>\n",
       "      <th>2</th>\n",
       "      <td>1</td>\n",
       "      <td>0</td>\n",
       "      <td>0</td>\n",
       "      <td>40</td>\n",
       "      <td>900</td>\n",
       "      <td>90</td>\n",
       "      <td>0.0933</td>\n",
       "      <td>46.9415</td>\n",
       "      <td>0.0001</td>\n",
       "      <td>0.000006</td>\n",
       "      <td>0.000006</td>\n",
       "    </tr>\n",
       "    <tr>\n",
       "      <th>3</th>\n",
       "      <td>1</td>\n",
       "      <td>0</td>\n",
       "      <td>0</td>\n",
       "      <td>40</td>\n",
       "      <td>1100</td>\n",
       "      <td>10</td>\n",
       "      <td>0.0843</td>\n",
       "      <td>52.5502</td>\n",
       "      <td>0.0001</td>\n",
       "      <td>0.000030</td>\n",
       "      <td>0.000030</td>\n",
       "    </tr>\n",
       "    <tr>\n",
       "      <th>4</th>\n",
       "      <td>1</td>\n",
       "      <td>0</td>\n",
       "      <td>0</td>\n",
       "      <td>40</td>\n",
       "      <td>1100</td>\n",
       "      <td>30</td>\n",
       "      <td>0.0879</td>\n",
       "      <td>51.7198</td>\n",
       "      <td>0.0001</td>\n",
       "      <td>0.000013</td>\n",
       "      <td>0.000013</td>\n",
       "    </tr>\n",
       "    <tr>\n",
       "      <th>5</th>\n",
       "      <td>1</td>\n",
       "      <td>0</td>\n",
       "      <td>0</td>\n",
       "      <td>40</td>\n",
       "      <td>1100</td>\n",
       "      <td>60</td>\n",
       "      <td>0.0894</td>\n",
       "      <td>51.7637</td>\n",
       "      <td>0.0001</td>\n",
       "      <td>0.000015</td>\n",
       "      <td>0.000015</td>\n",
       "    </tr>\n",
       "    <tr>\n",
       "      <th>6</th>\n",
       "      <td>1</td>\n",
       "      <td>0</td>\n",
       "      <td>0</td>\n",
       "      <td>40</td>\n",
       "      <td>1100</td>\n",
       "      <td>90</td>\n",
       "      <td>0.0923</td>\n",
       "      <td>52.2848</td>\n",
       "      <td>0.0002</td>\n",
       "      <td>0.000016</td>\n",
       "      <td>0.000016</td>\n",
       "    </tr>\n",
       "    <tr>\n",
       "      <th>7</th>\n",
       "      <td>1</td>\n",
       "      <td>0</td>\n",
       "      <td>0</td>\n",
       "      <td>40</td>\n",
       "      <td>1300</td>\n",
       "      <td>10</td>\n",
       "      <td>0.0910</td>\n",
       "      <td>46.9311</td>\n",
       "      <td>0.0001</td>\n",
       "      <td>0.000030</td>\n",
       "      <td>0.000030</td>\n",
       "    </tr>\n",
       "    <tr>\n",
       "      <th>8</th>\n",
       "      <td>1</td>\n",
       "      <td>0</td>\n",
       "      <td>0</td>\n",
       "      <td>40</td>\n",
       "      <td>1300</td>\n",
       "      <td>30</td>\n",
       "      <td>0.0881</td>\n",
       "      <td>51.8464</td>\n",
       "      <td>0.0001</td>\n",
       "      <td>0.000017</td>\n",
       "      <td>0.000017</td>\n",
       "    </tr>\n",
       "    <tr>\n",
       "      <th>9</th>\n",
       "      <td>1</td>\n",
       "      <td>0</td>\n",
       "      <td>0</td>\n",
       "      <td>40</td>\n",
       "      <td>1300</td>\n",
       "      <td>60</td>\n",
       "      <td>0.0894</td>\n",
       "      <td>51.6991</td>\n",
       "      <td>0.0002</td>\n",
       "      <td>0.000020</td>\n",
       "      <td>0.000020</td>\n",
       "    </tr>\n",
       "  </tbody>\n",
       "</table>\n",
       "</div>"
      ],
      "text/plain": [
       "<div>\n",
       "<style scoped>\n",
       "    .dataframe tbody tr th:only-of-type {\n",
       "        vertical-align: middle;\n",
       "    }\n",
       "\n",
       "    .dataframe tbody tr th {\n",
       "        vertical-align: top;\n",
       "    }\n",
       "\n",
       "    .dataframe thead th {\n",
       "        text-align: right;\n",
       "    }\n",
       "</style>\n",
       "<table border=\"1\" class=\"dataframe\">\n",
       "  <thead>\n",
       "    <tr style=\"text-align: right;\">\n",
       "      <th></th>\n",
       "      <th>Argon</th>\n",
       "      <th>Nitrogen</th>\n",
       "      <th>Helium</th>\n",
       "      <th>Hydrocarbon_concentration</th>\n",
       "      <th>Temperature</th>\n",
       "      <th>Time</th>\n",
       "      <th>Mass_of_wire_in_end</th>\n",
       "      <th>Mass_of_reactor_at_end</th>\n",
       "      <th>Increase_of_carbon_in_reactor</th>\n",
       "      <th>Rate_of_growth</th>\n",
       "      <th>Yield_of_carbon</th>\n",
       "    </tr>\n",
       "  </thead>\n",
       "  <tbody>\n",
       "    <tr>\n",
       "      <th>0</th>\n",
       "      <td>1</td>\n",
       "      <td>0</td>\n",
       "      <td>0</td>\n",
       "      <td>40</td>\n",
       "      <td>900</td>\n",
       "      <td>30</td>\n",
       "      <td>0.0881</td>\n",
       "      <td>52.5900</td>\n",
       "      <td>0.0001</td>\n",
       "      <td>0.000010</td>\n",
       "      <td>0.000010</td>\n",
       "    </tr>\n",
       "    <tr>\n",
       "      <th>1</th>\n",
       "      <td>1</td>\n",
       "      <td>0</td>\n",
       "      <td>0</td>\n",
       "      <td>40</td>\n",
       "      <td>900</td>\n",
       "      <td>60</td>\n",
       "      <td>0.0922</td>\n",
       "      <td>52.8084</td>\n",
       "      <td>0.0001</td>\n",
       "      <td>0.000007</td>\n",
       "      <td>0.000007</td>\n",
       "    </tr>\n",
       "    <tr>\n",
       "      <th>2</th>\n",
       "      <td>1</td>\n",
       "      <td>0</td>\n",
       "      <td>0</td>\n",
       "      <td>40</td>\n",
       "      <td>900</td>\n",
       "      <td>90</td>\n",
       "      <td>0.0933</td>\n",
       "      <td>46.9415</td>\n",
       "      <td>0.0001</td>\n",
       "      <td>0.000006</td>\n",
       "      <td>0.000006</td>\n",
       "    </tr>\n",
       "    <tr>\n",
       "      <th>3</th>\n",
       "      <td>1</td>\n",
       "      <td>0</td>\n",
       "      <td>0</td>\n",
       "      <td>40</td>\n",
       "      <td>1100</td>\n",
       "      <td>10</td>\n",
       "      <td>0.0843</td>\n",
       "      <td>52.5502</td>\n",
       "      <td>0.0001</td>\n",
       "      <td>0.000030</td>\n",
       "      <td>0.000030</td>\n",
       "    </tr>\n",
       "    <tr>\n",
       "      <th>4</th>\n",
       "      <td>1</td>\n",
       "      <td>0</td>\n",
       "      <td>0</td>\n",
       "      <td>40</td>\n",
       "      <td>1100</td>\n",
       "      <td>30</td>\n",
       "      <td>0.0879</td>\n",
       "      <td>51.7198</td>\n",
       "      <td>0.0001</td>\n",
       "      <td>0.000013</td>\n",
       "      <td>0.000013</td>\n",
       "    </tr>\n",
       "    <tr>\n",
       "      <th>5</th>\n",
       "      <td>1</td>\n",
       "      <td>0</td>\n",
       "      <td>0</td>\n",
       "      <td>40</td>\n",
       "      <td>1100</td>\n",
       "      <td>60</td>\n",
       "      <td>0.0894</td>\n",
       "      <td>51.7637</td>\n",
       "      <td>0.0001</td>\n",
       "      <td>0.000015</td>\n",
       "      <td>0.000015</td>\n",
       "    </tr>\n",
       "    <tr>\n",
       "      <th>6</th>\n",
       "      <td>1</td>\n",
       "      <td>0</td>\n",
       "      <td>0</td>\n",
       "      <td>40</td>\n",
       "      <td>1100</td>\n",
       "      <td>90</td>\n",
       "      <td>0.0923</td>\n",
       "      <td>52.2848</td>\n",
       "      <td>0.0002</td>\n",
       "      <td>0.000016</td>\n",
       "      <td>0.000016</td>\n",
       "    </tr>\n",
       "    <tr>\n",
       "      <th>7</th>\n",
       "      <td>1</td>\n",
       "      <td>0</td>\n",
       "      <td>0</td>\n",
       "      <td>40</td>\n",
       "      <td>1300</td>\n",
       "      <td>10</td>\n",
       "      <td>0.0910</td>\n",
       "      <td>46.9311</td>\n",
       "      <td>0.0001</td>\n",
       "      <td>0.000030</td>\n",
       "      <td>0.000030</td>\n",
       "    </tr>\n",
       "    <tr>\n",
       "      <th>8</th>\n",
       "      <td>1</td>\n",
       "      <td>0</td>\n",
       "      <td>0</td>\n",
       "      <td>40</td>\n",
       "      <td>1300</td>\n",
       "      <td>30</td>\n",
       "      <td>0.0881</td>\n",
       "      <td>51.8464</td>\n",
       "      <td>0.0001</td>\n",
       "      <td>0.000017</td>\n",
       "      <td>0.000017</td>\n",
       "    </tr>\n",
       "    <tr>\n",
       "      <th>9</th>\n",
       "      <td>1</td>\n",
       "      <td>0</td>\n",
       "      <td>0</td>\n",
       "      <td>40</td>\n",
       "      <td>1300</td>\n",
       "      <td>60</td>\n",
       "      <td>0.0894</td>\n",
       "      <td>51.6991</td>\n",
       "      <td>0.0002</td>\n",
       "      <td>0.000020</td>\n",
       "      <td>0.000020</td>\n",
       "    </tr>\n",
       "  </tbody>\n",
       "</table>\n",
       "</div>"
      ]
     },
     "execution_count": 2,
     "metadata": {},
     "output_type": "execute_result"
    }
   ],
   "source": [
    "dataset.head(10)"
   ]
  },
  {
   "cell_type": "code",
   "execution_count": 3,
   "metadata": {},
   "outputs": [
    {
     "data": {
      "text/html": [
       "<div>\n",
       "<style scoped>\n",
       "    .dataframe tbody tr th:only-of-type {\n",
       "        vertical-align: middle;\n",
       "    }\n",
       "\n",
       "    .dataframe tbody tr th {\n",
       "        vertical-align: top;\n",
       "    }\n",
       "\n",
       "    .dataframe thead th {\n",
       "        text-align: right;\n",
       "    }\n",
       "</style>\n",
       "<table border=\"1\" class=\"dataframe\">\n",
       "  <thead>\n",
       "    <tr style=\"text-align: right;\">\n",
       "      <th></th>\n",
       "      <th>Argon</th>\n",
       "      <th>Nitrogen</th>\n",
       "      <th>Helium</th>\n",
       "      <th>Hydrocarbon_concentration</th>\n",
       "      <th>Temperature</th>\n",
       "      <th>Time</th>\n",
       "      <th>Mass_of_wire_in_end</th>\n",
       "      <th>Mass_of_reactor_at_end</th>\n",
       "      <th>Increase_of_carbon_in_reactor</th>\n",
       "      <th>Rate_of_growth</th>\n",
       "      <th>Yield_of_carbon</th>\n",
       "    </tr>\n",
       "  </thead>\n",
       "  <tbody>\n",
       "    <tr>\n",
       "      <th>count</th>\n",
       "      <td>83.000000</td>\n",
       "      <td>83.000000</td>\n",
       "      <td>83.000000</td>\n",
       "      <td>83.000000</td>\n",
       "      <td>83.000000</td>\n",
       "      <td>83.000000</td>\n",
       "      <td>83.000000</td>\n",
       "      <td>83.000000</td>\n",
       "      <td>83.000000</td>\n",
       "      <td>83.000000</td>\n",
       "      <td>83.000000</td>\n",
       "    </tr>\n",
       "    <tr>\n",
       "      <th>mean</th>\n",
       "      <td>0.277108</td>\n",
       "      <td>0.289157</td>\n",
       "      <td>0.289157</td>\n",
       "      <td>61.686747</td>\n",
       "      <td>1102.409639</td>\n",
       "      <td>47.951807</td>\n",
       "      <td>0.081216</td>\n",
       "      <td>49.381673</td>\n",
       "      <td>0.000152</td>\n",
       "      <td>0.000036</td>\n",
       "      <td>0.000036</td>\n",
       "    </tr>\n",
       "    <tr>\n",
       "      <th>std</th>\n",
       "      <td>0.450291</td>\n",
       "      <td>0.456127</td>\n",
       "      <td>0.456127</td>\n",
       "      <td>21.116360</td>\n",
       "      <td>163.778482</td>\n",
       "      <td>30.394120</td>\n",
       "      <td>0.011875</td>\n",
       "      <td>2.616533</td>\n",
       "      <td>0.000103</td>\n",
       "      <td>0.000025</td>\n",
       "      <td>0.000025</td>\n",
       "    </tr>\n",
       "    <tr>\n",
       "      <th>min</th>\n",
       "      <td>0.000000</td>\n",
       "      <td>0.000000</td>\n",
       "      <td>0.000000</td>\n",
       "      <td>40.000000</td>\n",
       "      <td>900.000000</td>\n",
       "      <td>10.000000</td>\n",
       "      <td>0.052600</td>\n",
       "      <td>46.815900</td>\n",
       "      <td>0.000100</td>\n",
       "      <td>0.000005</td>\n",
       "      <td>0.000005</td>\n",
       "    </tr>\n",
       "    <tr>\n",
       "      <th>25%</th>\n",
       "      <td>0.000000</td>\n",
       "      <td>0.000000</td>\n",
       "      <td>0.000000</td>\n",
       "      <td>40.000000</td>\n",
       "      <td>900.000000</td>\n",
       "      <td>30.000000</td>\n",
       "      <td>0.070500</td>\n",
       "      <td>47.035600</td>\n",
       "      <td>0.000100</td>\n",
       "      <td>0.000017</td>\n",
       "      <td>0.000017</td>\n",
       "    </tr>\n",
       "    <tr>\n",
       "      <th>50%</th>\n",
       "      <td>0.000000</td>\n",
       "      <td>0.000000</td>\n",
       "      <td>0.000000</td>\n",
       "      <td>70.000000</td>\n",
       "      <td>1100.000000</td>\n",
       "      <td>60.000000</td>\n",
       "      <td>0.087700</td>\n",
       "      <td>47.042700</td>\n",
       "      <td>0.000100</td>\n",
       "      <td>0.000030</td>\n",
       "      <td>0.000030</td>\n",
       "    </tr>\n",
       "    <tr>\n",
       "      <th>75%</th>\n",
       "      <td>1.000000</td>\n",
       "      <td>1.000000</td>\n",
       "      <td>1.000000</td>\n",
       "      <td>70.000000</td>\n",
       "      <td>1300.000000</td>\n",
       "      <td>75.000000</td>\n",
       "      <td>0.089850</td>\n",
       "      <td>52.284800</td>\n",
       "      <td>0.000200</td>\n",
       "      <td>0.000053</td>\n",
       "      <td>0.000053</td>\n",
       "    </tr>\n",
       "    <tr>\n",
       "      <th>max</th>\n",
       "      <td>1.000000</td>\n",
       "      <td>1.000000</td>\n",
       "      <td>1.000000</td>\n",
       "      <td>100.000000</td>\n",
       "      <td>1300.000000</td>\n",
       "      <td>90.000000</td>\n",
       "      <td>0.093500</td>\n",
       "      <td>52.808400</td>\n",
       "      <td>0.000600</td>\n",
       "      <td>0.000130</td>\n",
       "      <td>0.000130</td>\n",
       "    </tr>\n",
       "  </tbody>\n",
       "</table>\n",
       "</div>"
      ],
      "text/plain": [
       "<div>\n",
       "<style scoped>\n",
       "    .dataframe tbody tr th:only-of-type {\n",
       "        vertical-align: middle;\n",
       "    }\n",
       "\n",
       "    .dataframe tbody tr th {\n",
       "        vertical-align: top;\n",
       "    }\n",
       "\n",
       "    .dataframe thead th {\n",
       "        text-align: right;\n",
       "    }\n",
       "</style>\n",
       "<table border=\"1\" class=\"dataframe\">\n",
       "  <thead>\n",
       "    <tr style=\"text-align: right;\">\n",
       "      <th></th>\n",
       "      <th>Argon</th>\n",
       "      <th>Nitrogen</th>\n",
       "      <th>Helium</th>\n",
       "      <th>Hydrocarbon_concentration</th>\n",
       "      <th>Temperature</th>\n",
       "      <th>Time</th>\n",
       "      <th>Mass_of_wire_in_end</th>\n",
       "      <th>Mass_of_reactor_at_end</th>\n",
       "      <th>Increase_of_carbon_in_reactor</th>\n",
       "      <th>Rate_of_growth</th>\n",
       "      <th>Yield_of_carbon</th>\n",
       "    </tr>\n",
       "  </thead>\n",
       "  <tbody>\n",
       "    <tr>\n",
       "      <th>count</th>\n",
       "      <td>83.000000</td>\n",
       "      <td>83.000000</td>\n",
       "      <td>83.000000</td>\n",
       "      <td>83.000000</td>\n",
       "      <td>83.000000</td>\n",
       "      <td>83.000000</td>\n",
       "      <td>83.000000</td>\n",
       "      <td>83.000000</td>\n",
       "      <td>83.000000</td>\n",
       "      <td>83.000000</td>\n",
       "      <td>83.000000</td>\n",
       "    </tr>\n",
       "    <tr>\n",
       "      <th>mean</th>\n",
       "      <td>0.277108</td>\n",
       "      <td>0.289157</td>\n",
       "      <td>0.289157</td>\n",
       "      <td>61.686747</td>\n",
       "      <td>1102.409639</td>\n",
       "      <td>47.951807</td>\n",
       "      <td>0.081216</td>\n",
       "      <td>49.381673</td>\n",
       "      <td>0.000152</td>\n",
       "      <td>0.000036</td>\n",
       "      <td>0.000036</td>\n",
       "    </tr>\n",
       "    <tr>\n",
       "      <th>std</th>\n",
       "      <td>0.450291</td>\n",
       "      <td>0.456127</td>\n",
       "      <td>0.456127</td>\n",
       "      <td>21.116360</td>\n",
       "      <td>163.778482</td>\n",
       "      <td>30.394120</td>\n",
       "      <td>0.011875</td>\n",
       "      <td>2.616533</td>\n",
       "      <td>0.000103</td>\n",
       "      <td>0.000025</td>\n",
       "      <td>0.000025</td>\n",
       "    </tr>\n",
       "    <tr>\n",
       "      <th>min</th>\n",
       "      <td>0.000000</td>\n",
       "      <td>0.000000</td>\n",
       "      <td>0.000000</td>\n",
       "      <td>40.000000</td>\n",
       "      <td>900.000000</td>\n",
       "      <td>10.000000</td>\n",
       "      <td>0.052600</td>\n",
       "      <td>46.815900</td>\n",
       "      <td>0.000100</td>\n",
       "      <td>0.000005</td>\n",
       "      <td>0.000005</td>\n",
       "    </tr>\n",
       "    <tr>\n",
       "      <th>25%</th>\n",
       "      <td>0.000000</td>\n",
       "      <td>0.000000</td>\n",
       "      <td>0.000000</td>\n",
       "      <td>40.000000</td>\n",
       "      <td>900.000000</td>\n",
       "      <td>30.000000</td>\n",
       "      <td>0.070500</td>\n",
       "      <td>47.035600</td>\n",
       "      <td>0.000100</td>\n",
       "      <td>0.000017</td>\n",
       "      <td>0.000017</td>\n",
       "    </tr>\n",
       "    <tr>\n",
       "      <th>50%</th>\n",
       "      <td>0.000000</td>\n",
       "      <td>0.000000</td>\n",
       "      <td>0.000000</td>\n",
       "      <td>70.000000</td>\n",
       "      <td>1100.000000</td>\n",
       "      <td>60.000000</td>\n",
       "      <td>0.087700</td>\n",
       "      <td>47.042700</td>\n",
       "      <td>0.000100</td>\n",
       "      <td>0.000030</td>\n",
       "      <td>0.000030</td>\n",
       "    </tr>\n",
       "    <tr>\n",
       "      <th>75%</th>\n",
       "      <td>1.000000</td>\n",
       "      <td>1.000000</td>\n",
       "      <td>1.000000</td>\n",
       "      <td>70.000000</td>\n",
       "      <td>1300.000000</td>\n",
       "      <td>75.000000</td>\n",
       "      <td>0.089850</td>\n",
       "      <td>52.284800</td>\n",
       "      <td>0.000200</td>\n",
       "      <td>0.000053</td>\n",
       "      <td>0.000053</td>\n",
       "    </tr>\n",
       "    <tr>\n",
       "      <th>max</th>\n",
       "      <td>1.000000</td>\n",
       "      <td>1.000000</td>\n",
       "      <td>1.000000</td>\n",
       "      <td>100.000000</td>\n",
       "      <td>1300.000000</td>\n",
       "      <td>90.000000</td>\n",
       "      <td>0.093500</td>\n",
       "      <td>52.808400</td>\n",
       "      <td>0.000600</td>\n",
       "      <td>0.000130</td>\n",
       "      <td>0.000130</td>\n",
       "    </tr>\n",
       "  </tbody>\n",
       "</table>\n",
       "</div>"
      ]
     },
     "execution_count": 3,
     "metadata": {},
     "output_type": "execute_result"
    }
   ],
   "source": [
    "dataset.describe()"
   ]
  },
  {
   "cell_type": "code",
   "execution_count": 4,
   "metadata": {},
   "outputs": [],
   "source": [
    "from sklearn.model_selection import train_test_split\n",
    "\n",
    "train, test = train_test_split(dataset, test_size=0.2)"
   ]
  },
  {
   "cell_type": "code",
   "execution_count": 5,
   "metadata": {},
   "outputs": [],
   "source": [
    "import numpy as np\n",
    "\n",
    "trainX = np.array(train.drop([\"Yield_of_carbon\"], 1))\n",
    "trainY = np.array(train[\"Yield_of_carbon\"])"
   ]
  },
  {
   "cell_type": "code",
   "execution_count": 7,
   "metadata": {},
   "outputs": [],
   "source": [
    "from sklearn import preprocessing\n",
    "\n",
    "normalizeX = preprocessing.normalize(trainX)\n"
   ]
  },
  {
   "cell_type": "code",
   "execution_count": 8,
   "metadata": {},
   "outputs": [],
   "source": [
    "from sklearn.linear_model import LinearRegression\n",
    "\n",
    "model = LinearRegression(normalize=False)\n",
    "n_model = LinearRegression(normalize=True)"
   ]
  },
  {
   "cell_type": "code",
   "execution_count": 9,
   "metadata": {},
   "outputs": [
    {
     "data": {
      "text/plain": [
       "LinearRegression(copy_X=True, fit_intercept=True, n_jobs=1, normalize=True)"
      ]
     },
     "execution_count": 9,
     "metadata": {},
     "output_type": "execute_result"
    }
   ],
   "source": [
    "model.fit(trainX, trainY)\n",
    "n_model.fit(normalizeX, trainY)"
   ]
  },
  {
   "cell_type": "code",
   "execution_count": 10,
   "metadata": {},
   "outputs": [
    {
     "name": "stdout",
     "output_type": "stream",
     "text": [
      "Средняя абсолютная ошибка: 1.3179832659276913e-18\nСредняя квадратичная ошибка: 2.8649879220748448e-36\nСредняя абсолютная ошибка (c нормализацией): 3.3220792823786482e-06\nСредняя квадратичная ошибка (c нормализацией): 2.120346898989705e-11\n"
     ]
    }
   ],
   "source": [
    "from sklearn.metrics import mean_absolute_error, mean_squared_error\n",
    "\n",
    "testX = np.array(test.drop([\"Yield_of_carbon\"], 1))\n",
    "testY = np.array(test[\"Yield_of_carbon\"])\n",
    "\n",
    "predict = model.predict(testX)\n",
    "n_predict = n_model.predict(preprocessing.normalize(testX))\n",
    "\n",
    "mae = mean_absolute_error(testY, predict)\n",
    "print(\"Средняя абсолютная ошибка:\", mae)\n",
    "mse = mean_squared_error(testY, predict)\n",
    "print(\"Средняя квадратичная ошибка:\", mse)\n",
    "\n",
    "n_mae = mean_absolute_error(testY, n_predict)\n",
    "print(\"Средняя абсолютная ошибка (c нормализацией):\", n_mae)\n",
    "n_mse = mean_squared_error(testY, n_predict)\n",
    "print(\"Средняя квадратичная ошибка (c нормализацией):\", n_mse)\n"
   ]
  },
  {
   "cell_type": "code",
   "execution_count": 11,
   "metadata": {},
   "outputs": [
    {
     "data": {
      "image/png": "[encoded data removed]",
      "text/plain": [
       "<Figure size 432x288 with 1 Axes>"
      ]
     },
     "metadata": {},
     "output_type": "display_data"
    }
   ],
   "source": [
    "import matplotlib.pyplot as plt\n",
    "%matplotlib inline\n",
    "\n",
    "f = 0\n",
    "t = testY.size\n",
    "xx = [i for i in range(trainX.shape[0])]\n",
    "y = testY\n",
    "y2 = predict\n",
    "y3 = n_predict\n",
    "\n",
    "plt.figure()\n",
    "plt.plot(xx[f:t], y[f:t], 'o', color='r', label='y')\n",
    "plt.plot(xx[f:t], y2[f:t], color='b', linewidth=2, label='predicted y')\n",
    "plt.plot(xx[f:t], y3[f:t], color='k', linewidth=2, label='predicted y with normalize')\n",
    "plt.ylabel('Target label')\n",
    "plt.xlabel('Line number in dataset')\n",
    "plt.legend(loc=4)\n",
    "plt.title('Linear Regression. Predicts.')\n",
    "plt.show()"
   ]
  },
  {
   "cell_type": "code",
   "execution_count": 12,
   "metadata": {},
   "outputs": [],
   "source": [
    "from sklearn.linear_model import Ridge\n",
    "\n",
    "model = Ridge(normalize=False)\n",
    "n_model = Ridge(normalize=True)"
   ]
  },
  {
   "cell_type": "code",
   "execution_count": 13,
   "metadata": {},
   "outputs": [
    {
     "data": {
      "text/plain": [
       "Ridge(alpha=1.0, copy_X=True, fit_intercept=True, max_iter=None,\n   normalize=True, random_state=None, solver='auto', tol=0.001)"
      ]
     },
     "execution_count": 13,
     "metadata": {},
     "output_type": "execute_result"
    }
   ],
   "source": [
    "model.fit(trainX, trainY)\n",
    "n_model.fit(normalizeX, trainY)"
   ]
  },
  {
   "cell_type": "code",
   "execution_count": 14,
   "metadata": {},
   "outputs": [
    {
     "name": "stdout",
     "output_type": "stream",
     "text": [
      "Средняя абсолютная ошибка: 1.3611657215521648e-05\nСредняя квадратичная ошибка: 4.63306782474471e-10\nСредняя абсолютная ошибка (c нормализацией): 1.1425330085376346e-05\nСредняя квадратичная ошибка (c нормализацией): 2.706293613245903e-10\n"
     ]
    }
   ],
   "source": [
    "predict = model.predict(testX)\n",
    "n_predict = n_model.predict(preprocessing.normalize(testX))\n",
    "\n",
    "mae = mean_absolute_error(testY, predict)\n",
    "print(\"Средняя абсолютная ошибка:\", mae)\n",
    "mse = mean_squared_error(testY, predict)\n",
    "print(\"Средняя квадратичная ошибка:\", mse)\n",
    "\n",
    "n_mae = mean_absolute_error(testY, n_predict)\n",
    "print(\"Средняя абсолютная ошибка (c нормализацией):\", n_mae)\n",
    "n_mse = mean_squared_error(testY, n_predict)\n",
    "print(\"Средняя квадратичная ошибка (c нормализацией):\", n_mse)"
   ]
  },
  {
   "cell_type": "code",
   "execution_count": 15,
   "metadata": {},
   "outputs": [
    {
     "data": {
      "image/png": "[encoded data removed]",
      "text/plain": [
       "<Figure size 432x288 with 1 Axes>"
      ]
     },
     "metadata": {},
     "output_type": "display_data"
    }
   ],
   "source": [
    "f = 0\n",
    "t = testY.size\n",
    "xx = [i for i in range(trainX.shape[0])]\n",
    "y = testY\n",
    "y2 = predict\n",
    "y3 = n_predict\n",
    "\n",
    "plt.figure()\n",
    "plt.plot(xx[f:t], y[f:t], 'o', color='r', label='y')\n",
    "plt.plot(xx[f:t], y2[f:t], color='b', linewidth=2, label='predicted y')\n",
    "plt.plot(xx[f:t], y3[f:t], color='k', linewidth=2, label='predicted y with normalize')\n",
    "plt.ylabel('Target label')\n",
    "plt.xlabel('Line number in dataset')\n",
    "plt.legend(loc=4)\n",
    "plt.title('Ridge. Predicts.')\n",
    "plt.show()"
   ]
  },
  {
   "cell_type": "code",
   "execution_count": 16,
   "metadata": {},
   "outputs": [],
   "source": [
    "from sklearn.linear_model import Lasso\n",
    "\n",
    "model = Lasso(normalize=False)\n",
    "n_model = Lasso(normalize=True)"
   ]
  },
  {
   "cell_type": "code",
   "execution_count": 17,
   "metadata": {},
   "outputs": [
    {
     "data": {
      "text/plain": [
       "Lasso(alpha=1.0, copy_X=True, fit_intercept=True, max_iter=1000,\n   normalize=True, positive=False, precompute=False, random_state=None,\n   selection='cyclic', tol=0.0001, warm_start=False)"
      ]
     },
     "execution_count": 17,
     "metadata": {},
     "output_type": "execute_result"
    }
   ],
   "source": [
    "model.fit(trainX, trainY)\n",
    "n_model.fit(normalizeX, trainY)"
   ]
  },
  {
   "cell_type": "code",
   "execution_count": 18,
   "metadata": {},
   "outputs": [
    {
     "name": "stdout",
     "output_type": "stream",
     "text": [
      "Средняя абсолютная ошибка: 2.1011091305256927e-05\nСредняя квадратичная ошибка: 6.301672731821606e-10\nСредняя абсолютная ошибка (c нормализацией): 2.1011091305256927e-05\nСредняя квадратичная ошибка (c нормализацией): 6.301672731821606e-10\n"
     ]
    }
   ],
   "source": [
    "predict = model.predict(testX)\n",
    "n_predict = n_model.predict(preprocessing.normalize(testX))\n",
    "\n",
    "mae = mean_absolute_error(testY, predict)\n",
    "print(\"Средняя абсолютная ошибка:\", mae)\n",
    "mse = mean_squared_error(testY, predict)\n",
    "print(\"Средняя квадратичная ошибка:\", mse)\n",
    "\n",
    "n_mae = mean_absolute_error(testY, n_predict)\n",
    "print(\"Средняя абсолютная ошибка (c нормализацией):\", n_mae)\n",
    "n_mse = mean_squared_error(testY, n_predict)\n",
    "print(\"Средняя квадратичная ошибка (c нормализацией):\", n_mse)"
   ]
  },
  {
   "cell_type": "code",
   "execution_count": 19,
   "metadata": {},
   "outputs": [
    {
     "data": {
      "image/png": "[encoded data removed]",
      "text/plain": [
       "<Figure size 432x288 with 1 Axes>"
      ]
     },
     "metadata": {},
     "output_type": "display_data"
    }
   ],
   "source": [
    "f = 0\n",
    "t = testY.size\n",
    "xx = [i for i in range(trainX.shape[0])]\n",
    "y = testY\n",
    "y2 = predict\n",
    "y3 = n_predict\n",
    "\n",
    "plt.figure()\n",
    "plt.plot(xx[f:t], y[f:t], 'o', color='r', label='y')\n",
    "plt.plot(xx[f:t], y2[f:t], color='b', linewidth=3, label='predicted y')\n",
    "plt.plot(xx[f:t], y3[f:t], color='k', linewidth=2, label='predicted y with normalize')\n",
    "plt.ylabel('Target label')\n",
    "plt.xlabel('Line number in dataset')\n",
    "plt.legend(loc=4)\n",
    "plt.title('Lasso. Predicts.')\n",
    "plt.show()"
   ]
  },
  {
   "cell_type": "code",
   "execution_count": 20,
   "metadata": {},
   "outputs": [],
   "source": [
    "from sklearn.ensemble import RandomForestRegressor\n",
    "\n",
    "model = RandomForestRegressor(criterion=\"mae\", bootstrap=True)"
   ]
  },
  {
   "cell_type": "code",
   "execution_count": 21,
   "metadata": {},
   "outputs": [
    {
     "data": {
      "text/plain": [
       "RandomForestRegressor(bootstrap=True, criterion='mae', max_depth=None,\n           max_features='auto', max_leaf_nodes=None,\n           min_impurity_decrease=0.0, min_impurity_split=None,\n           min_samples_leaf=1, min_samples_split=2,\n           min_weight_fraction_leaf=0.0, n_estimators=10, n_jobs=1,\n           oob_score=False, random_state=None, verbose=0, warm_start=False)"
      ]
     },
     "execution_count": 21,
     "metadata": {},
     "output_type": "execute_result"
    }
   ],
   "source": [
    "model.fit(normalizeX, trainY)"
   ]
  },
  {
   "cell_type": "code",
   "execution_count": 22,
   "metadata": {},
   "outputs": [
    {
     "name": "stdout",
     "output_type": "stream",
     "text": [
      "Средняя абсолютная ошибка: 1.5006535947717553e-05\nСредняя квадратичная ошибка: 3.880283224397504e-10\n"
     ]
    }
   ],
   "source": [
    "predict = model.predict(preprocessing.normalize(testX))\n",
    "\n",
    "mae = mean_absolute_error(testY, predict)\n",
    "print(\"Средняя абсолютная ошибка:\", mae)\n",
    "mse = mean_squared_error(testY, predict)\n",
    "print(\"Средняя квадратичная ошибка:\", mse)"
   ]
  },
  {
   "cell_type": "code",
   "execution_count": 23,
   "metadata": {},
   "outputs": [
    {
     "data": {
      "image/png": "[encoded data removed]",
      "text/plain": [
       "<Figure size 432x288 with 1 Axes>"
      ]
     },
     "metadata": {},
     "output_type": "display_data"
    }
   ],
   "source": [
    "f = 0\n",
    "t = testY.size\n",
    "xx = [i for i in range(trainX.shape[0])]\n",
    "y = testY\n",
    "y2 = predict\n",
    "\n",
    "plt.figure()\n",
    "plt.plot(xx[f:t], y[f:t], 'o', color='r', label='y')\n",
    "plt.plot(xx[f:t], y2[f:t], color='b', linewidth=2, label='predicted y')\n",
    "plt.ylabel('Target label')\n",
    "plt.xlabel('Line number in dataset')\n",
    "plt.title('Random Foreset Regressor. Predicts')\n",
    "plt.legend(loc=4)\n",
    "plt.show()\n"
   ]
  },
  {
   "cell_type": "code",
   "execution_count": 24,
   "metadata": {},
   "outputs": [],
   "source": [
    "# subtask № 2\n",
    "\n",
    "train, test = train_test_split(dataset, test_size=0.2)\n",
    "\n",
    "trainX = np.array(train.drop([\"Rate_of_growth\"], 1))\n",
    "trainY = np.array(train[\"Rate_of_growth\"])\n",
    "\n",
    "normalizeX = preprocessing.normalize(trainX)"
   ]
  },
  {
   "cell_type": "code",
   "execution_count": 25,
   "metadata": {},
   "outputs": [],
   "source": [
    "model = LinearRegression(normalize=False)\n",
    "n_model = LinearRegression(normalize=True)"
   ]
  },
  {
   "cell_type": "code",
   "execution_count": 26,
   "metadata": {},
   "outputs": [
    {
     "data": {
      "text/plain": [
       "LinearRegression(copy_X=True, fit_intercept=True, n_jobs=1, normalize=True)"
      ]
     },
     "execution_count": 26,
     "metadata": {},
     "output_type": "execute_result"
    }
   ],
   "source": [
    "model.fit(trainX, trainY)\n",
    "n_model.fit(normalizeX, trainY)"
   ]
  },
  {
   "cell_type": "code",
   "execution_count": 27,
   "metadata": {},
   "outputs": [
    {
     "name": "stdout",
     "output_type": "stream",
     "text": [
      "Средняя абсолютная ошибка: 2.0817080315461568e-19\nСредняя квадратичная ошибка: 7.369612869903476e-38\nСредняя абсолютная ошибка: (с нормализацией) 2.0817080315461568e-19\nСредняя квадратичная ошибка: (с нормализацией) 7.369612869903476e-38\n"
     ]
    }
   ],
   "source": [
    "testX = np.array(test.drop([\"Rate_of_growth\"], 1))\n",
    "testY = np.array(test[\"Rate_of_growth\"])\n",
    "\n",
    "predict = model.predict(testX)\n",
    "n_predict = model.predict(preprocessing.normalize(testX))\n",
    "\n",
    "mae = mean_absolute_error(testY, predict)\n",
    "print(\"Средняя абсолютная ошибка:\", mae)\n",
    "mse = mean_squared_error(testY, predict)\n",
    "print(\"Средняя квадратичная ошибка:\", mse)\n",
    "\n",
    "n_mae = mean_absolute_error(testY, n_predict)\n",
    "print(\"Средняя абсолютная ошибка: (с нормализацией)\", mae)\n",
    "n_mse = mean_squared_error(testY, n_predict)\n",
    "print(\"Средняя квадратичная ошибка: (с нормализацией)\", mse)\n"
   ]
  },
  {
   "cell_type": "code",
   "execution_count": 28,
   "metadata": {},
   "outputs": [
    {
     "data": {
      "image/png": "[encoded data removed]",
      "text/plain": [
       "<Figure size 432x288 with 1 Axes>"
      ]
     },
     "metadata": {},
     "output_type": "display_data"
    }
   ],
   "source": [
    "f = 0\n",
    "t = testY.size\n",
    "xx = [i for i in range(trainX.shape[0])]\n",
    "y = testY\n",
    "y2 = predict\n",
    "y3 = n_predict\n",
    "\n",
    "plt.figure()\n",
    "plt.plot(xx[f:t], y[f:t], 'o', color='r', label='y')\n",
    "plt.plot(xx[f:t], y2[f:t], color='b', linewidth=2, label='predicted y')\n",
    "plt.plot(xx[f:t], y3[f:t], color='k', linewidth=2, label='predicted y with normalize')\n",
    "plt.ylabel('Target label')\n",
    "plt.xlabel('Line number in dataset')\n",
    "plt.legend(loc=4)\n",
    "plt.title('Linear Regression. Predicts.')\n",
    "plt.show()"
   ]
  },
  {
   "cell_type": "code",
   "execution_count": 29,
   "metadata": {},
   "outputs": [],
   "source": [
    "model = Ridge(normalize=False)\n",
    "n_model = Ridge(normalize=True)"
   ]
  },
  {
   "cell_type": "code",
   "execution_count": 31,
   "metadata": {},
   "outputs": [
    {
     "data": {
      "text/plain": [
       "Ridge(alpha=1.0, copy_X=True, fit_intercept=True, max_iter=None,\n   normalize=True, random_state=None, solver='auto', tol=0.001)"
      ]
     },
     "execution_count": 31,
     "metadata": {},
     "output_type": "execute_result"
    }
   ],
   "source": [
    "model.fit(trainX, trainY)\n",
    "n_model.fit(normalizeX, trainY)"
   ]
  },
  {
   "cell_type": "code",
   "execution_count": 32,
   "metadata": {},
   "outputs": [
    {
     "name": "stdout",
     "output_type": "stream",
     "text": [
      "Средняя абсолютная ошибка: 7.497572970752457e-06\nСредняя квадратичная ошибка: 7.830710524625265e-11\nСредняя абсолютная ошибка (с нормализацией): 7.497572970752457e-06\nСредняя квадратичная ошибка: (с нормализацией) 7.830710524625265e-11\n"
     ]
    }
   ],
   "source": [
    "predict = model.predict(testX)\n",
    "n_predict = model.predict(preprocessing.normalize(testX))\n",
    "\n",
    "mae = mean_absolute_error(testY, predict)\n",
    "print(\"Средняя абсолютная ошибка:\", mae)\n",
    "mse = mean_squared_error(testY, predict)\n",
    "print(\"Средняя квадратичная ошибка:\", mse)\n",
    "\n",
    "n_mae = mean_absolute_error(testY, n_predict)\n",
    "print(\"Средняя абсолютная ошибка (с нормализацией):\", mae)\n",
    "n_mse = mean_squared_error(testY, n_predict)\n",
    "print(\"Средняя квадратичная ошибка: (с нормализацией)\", mse)"
   ]
  },
  {
   "cell_type": "code",
   "execution_count": 33,
   "metadata": {},
   "outputs": [
    {
     "data": {
      "image/png": "[encoded data removed]",
      "text/plain": [
       "<Figure size 432x288 with 1 Axes>"
      ]
     },
     "metadata": {},
     "output_type": "display_data"
    }
   ],
   "source": [
    "f = 0\n",
    "t = testY.size\n",
    "xx = [i for i in range(trainX.shape[0])]\n",
    "y = testY\n",
    "y2 = predict\n",
    "y3 = n_predict\n",
    "\n",
    "plt.figure()\n",
    "plt.plot(xx[f:t], y[f:t], 'o', color='r', label='y')\n",
    "plt.plot(xx[f:t], y2[f:t], color='b', linewidth=2, label='predicted y')\n",
    "plt.plot(xx[f:t], y3[f:t], color='k', linewidth=2, label='predicted y with normalize')\n",
    "plt.ylabel('Target label')\n",
    "plt.xlabel('Line number in dataset')\n",
    "plt.legend(loc=4)\n",
    "plt.title('Ridge. Predicts.')\n",
    "plt.show()"
   ]
  },
  {
   "cell_type": "code",
   "execution_count": 34,
   "metadata": {},
   "outputs": [],
   "source": [
    "model = Lasso(normalize=False)\n",
    "n_model = Lasso(normalize=True)"
   ]
  },
  {
   "cell_type": "code",
   "execution_count": 35,
   "metadata": {},
   "outputs": [
    {
     "data": {
      "text/plain": [
       "Lasso(alpha=1.0, copy_X=True, fit_intercept=True, max_iter=1000,\n   normalize=True, positive=False, precompute=False, random_state=None,\n   selection='cyclic', tol=0.0001, warm_start=False)"
      ]
     },
     "execution_count": 35,
     "metadata": {},
     "output_type": "execute_result"
    }
   ],
   "source": [
    "model.fit(trainX, trainY)\n",
    "n_model.fit(normalizeX, trainY)"
   ]
  },
  {
   "cell_type": "code",
   "execution_count": 36,
   "metadata": {},
   "outputs": [
    {
     "name": "stdout",
     "output_type": "stream",
     "text": [
      "Средняя абсолютная ошибка: 1.5797187561916927e-05\nСредняя квадратичная ошибка: 4.194516299194242e-10\nСредняя абсолютная ошибка: (с нормализацией) 1.5797187561916927e-05\nСредняя квадратичная ошибка: (с нормализацией) 4.194516299194242e-10\n"
     ]
    },
    {
     "name": "stdout",
     "output_type": "stream",
     "text": [
      "Средняя абсолютная ошибка: 1.820855614974869e-05\nСредняя квадратичная ошибка: 4.412783509493058e-10\nСредняя абсолютная ошибка: (с нормализацией) 1.820855614974869e-05\nСредняя квадратичная ошибка: (с нормализацией) 4.412783509493058e-10\n"
     ]
    }
   ],
   "source": [
    "predict = model.predict(testX)\n",
    "n_predict = model.predict(preprocessing.normalize(testX))\n",
    "\n",
    "mae = mean_absolute_error(testY, predict)\n",
    "print(\"Средняя абсолютная ошибка:\", mae)\n",
    "mse = mean_squared_error(testY, predict)\n",
    "print(\"Средняя квадратичная ошибка:\", mse)\n",
    "\n",
    "n_mae = mean_absolute_error(testY, n_predict)\n",
    "print(\"Средняя абсолютная ошибка: (с нормализацией)\", mae)\n",
    "n_mse = mean_squared_error(testY, n_predict)\n",
    "print(\"Средняя квадратичная ошибка: (с нормализацией)\", mse)\n"
   ]
  },
  {
   "cell_type": "code",
   "execution_count": 37,
   "metadata": {},
   "outputs": [
    {
     "data": {
      "image/png": "[encoded data removed]",
      "text/plain": [
       "<Figure size 432x288 with 1 Axes>"
      ]
     },
     "metadata": {},
     "output_type": "display_data"
    }
   ],
   "source": [
    "f = 0\n",
    "t = testY.size\n",
    "xx = [i for i in range(trainX.shape[0])]\n",
    "y = testY\n",
    "y2 = predict\n",
    "y3 = n_predict\n",
    "\n",
    "plt.figure()\n",
    "plt.plot(xx[f:t], y[f:t], 'o', color='r', label='y')\n",
    "plt.plot(xx[f:t], y2[f:t], color='b', linewidth=3, label='predicted y')\n",
    "plt.plot(xx[f:t], y3[f:t], color='k', linewidth=2, label='predicted y with normalize')\n",
    "plt.ylabel('Target label')\n",
    "plt.xlabel('Line number in dataset')\n",
    "plt.legend(loc=4)\n",
    "plt.title('Lasso Regression. Predicts.')\n",
    "plt.show()"
   ]
  },
  {
   "cell_type": "code",
   "execution_count": 37,
   "metadata": {},
   "outputs": [],
   "source": [
    "model = RandomForestRegressor(criterion=\"mae\", bootstrap=True)"
   ]
  },
  {
   "cell_type": "code",
   "execution_count": 39,
   "metadata": {},
   "outputs": [
    {
     "data": {
      "text/plain": [
       "RandomForestRegressor(bootstrap=True, criterion='mae', max_depth=None,\n           max_features='auto', max_leaf_nodes=None,\n           min_impurity_decrease=0.0, min_impurity_split=None,\n           min_samples_leaf=1, min_samples_split=2,\n           min_weight_fraction_leaf=0.0, n_estimators=10, n_jobs=1,\n           oob_score=False, random_state=None, verbose=0, warm_start=False)"
      ]
     },
     "execution_count": 39,
     "metadata": {},
     "output_type": "execute_result"
    }
   ],
   "source": [
    "model.fit(normalizeX, trainY)"
   ]
  },
  {
   "cell_type": "code",
   "execution_count": 40,
   "metadata": {},
   "outputs": [
    {
     "name": "stdout",
     "output_type": "stream",
     "text": [
      "Средняя абсолютная ошибка: 4.810457516355363e-06\nСредняя квадратичная ошибка: 4.084604212062553e-11\n"
     ]
    }
   ],
   "source": [
    "predict = model.predict(preprocessing.normalize(testX))\n",
    "\n",
    "mae = mean_absolute_error(testY, predict)\n",
    "print(\"Средняя абсолютная ошибка:\", mae)\n",
    "mse = mean_squared_error(testY, predict)\n",
    "print(\"Средняя квадратичная ошибка:\", mse)"
   ]
  },
  {
   "cell_type": "code",
   "execution_count": 41,
   "metadata": {},
   "outputs": [
    {
     "data": {
      "image/png": "[encoded data removed]",
      "text/plain": [
       "<Figure size 432x288 with 1 Axes>"
      ]
     },
     "metadata": {},
     "output_type": "display_data"
    }
   ],
   "source": [
    "f = 0\n",
    "t = testY.size\n",
    "xx = [i for i in range(trainX.shape[0])]\n",
    "y = testY\n",
    "y2 = predict\n",
    "\n",
    "plt.figure()\n",
    "plt.plot(xx[f:t], y[f:t], 'o', color='r', label='y')\n",
    "plt.plot(xx[f:t], y2[f:t], color='b', linewidth=2, label='predicted y')\n",
    "plt.ylabel('Target label')\n",
    "plt.xlabel('Line number in dataset')\n",
    "plt.title('Random Foreset Regressor. Predicts')\n",
    "plt.legend(loc=4)\n",
    "plt.show()\n",
    "\n"
   ]
  },
  {
   "cell_type": "code",
   "execution_count": null,
   "metadata": {},
   "outputs": [],
   "source": []
  }
 ],
 "metadata": {
  "kernelspec": {
   "display_name": "Python 2",
   "language": "python",
   "name": "python2"
  },
  "language_info": {
   "codemirror_mode": {
    "name": "ipython",
    "version": 2
   },
   "file_extension": ".py",
   "mimetype": "text/x-python",
   "name": "python",
   "nbconvert_exporter": "python",
   "pygments_lexer": "ipython2",
   "version": "2.7.6"
  }
 },
 "nbformat": 4,
 "nbformat_minor": 0
}
